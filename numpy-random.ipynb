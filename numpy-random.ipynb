{
 "cells": [
  {
   "cell_type": "markdown",
   "metadata": {},
   "source": [
    "# Mary McDonagh\n",
    "# Programming for Data Analysis - Assignment 2018"
   ]
  },
  {
   "cell_type": "markdown",
   "metadata": {},
   "source": [
    "## Question 1: Explain the overall purpose of the package"
   ]
  },
  {
   "cell_type": "markdown",
   "metadata": {},
   "source": [
    "NumPy is the fundamental package for scientific computing with Python. It contains among other things:\n",
    "\n",
    "#### - a powerful N-dimensional array object    \n",
    "#### - sophisticated (broadcasting) functions\n",
    "#### - tools for integrating C/C++ and Fortran code\n",
    "#### - useful linear algebra, Fourier transform, and random number capabilities\n",
    "\n",
    "#### NumPy array is a central data structure of the numpy library. An array contains information about the raw data, how to locate an element and how to interpret an element.\n",
    "#### Numpy is an open source add ón to python to provide common mathematical and numerical routines in pre-compiled fast functions.\n",
    "#### The NumPy (Numeric Python) package provides basic routines for manipulating large arrays and matrices of numeric data.\n",
    "\n",
    "#### Python supports real numbers and integers. It allows you to create complicated data structures with lists/sets. It is very easy to write algorithms to solve scientific problems. Python is a dynamic language where almost all functions and operators are polymorphic. Python doesn't really know what needs to be done, at a hardware level, until it hits that operation. Unfortunately, this rules out any optimizations that can be made by rearranging operations to take advantage of how they are stored in memory and cache.\n",
    "#### One property of Python that causes a problem is polymorphism. Python needs to check the operands of any operator or function to see what type it is, decide whether this particular operand or function can handle these data types, then use the correct form of the operand or function to do the actual operation. In most cases, this would not really be an issue since modern computers have become so fast. But in many scientific algorithms, this means applying the same operations to thousands, or millions, of data points.\n",
    "#### This is where the numpy package becomes useful. Numpy adds extra overloading functions for the common operators and functions to help optimize uses of arrays.\n",
    "#### NumPY also uses external standard, optimized libraries written in C or FORTRAN to handle many of the actual manipulations on these array data types. This is handled by libraries like BLAS or lapack. Python simply does an initial check of each of the arrays in question, then hands them as a single object to the external library. The external library does all of the hard work, then hands back a single object containing the result. This removes the need for Python to check each element of code. NumPY module provides a very strong foundation to build up complex scientific workflows.\n",
    "\n",
    "#### Python has a strong position in scientific computing because it contains extensive ecosystem of scientific libraries as well as environments like numpy.\n",
    "\n",
    "#### NumPy : NumPy is the basic package for scientific computing in Python that provides multi-dimensional arrays and matrices, broadcasting functions, tools for integrating C/C++, Fortran code, mathematical, logical, shape manipulation, sorting, selecting, I/O, useful linear algebra, Fourier transform, random number capabilities, basic statistical operations and much more. NumPy can be used as an efficient multi-dimensional container of generic data and it is licensed under the BSD license.\n",
    "#### The Mayavi package basically integrates seamlessly with numpy and scipy for 3D plotting and can even be used in IPython interactively, similarly to Matplotlib.\n",
    "#### The h5py : The h5py package is a Pythonic interface to the HDF5 binary data format that uses straightforward NumPy as well as Python metaphors, such as dictionary and NumPy array syntax.\n",
    "\n",
    "#### PyTables : PyTables is a package for managing hierarchical datasets as well as designed to efficiently and easily cope with extremely large amounts of data. PyTables is built on top of the HDF5 library, that using Python language and the NumPy package.\n",
    "\n",
    "#### NumPy is an important Python extension module that provides easily efficient operation on arrays of homogeneous data. NumPy allows python to serve as a high-level language for manipulating numerical data, much such as IDL, MATLAB, or Yorick.\n",
    "#### One of NumPy’s very important goals is compatibility, which tries to retain all features supported by either of its predecessors. NumPy contains few linear algebra functions, even though these more properly belong in SciPy. SciPy contains more fully-featured versions of the linear algebra modules, and many other numerical algorithms.\n"
   ]
  },
  {
   "cell_type": "markdown",
   "metadata": {},
   "source": [
    "## Question 2: Explain the use of the \"Simple Random Data\" and the Permutations functions."
   ]
  },
  {
   "cell_type": "markdown",
   "metadata": {},
   "source": [
    "### Using np.random functions to generate simple data"
   ]
  },
  {
   "cell_type": "code",
   "execution_count": 49,
   "metadata": {},
   "outputs": [
    {
     "ename": "ValueError",
     "evalue": "DataFrame constructor not properly called!",
     "output_type": "error",
     "traceback": [
      "\u001b[1;31m---------------------------------------------------------------------------\u001b[0m",
      "\u001b[1;31mValueError\u001b[0m                                Traceback (most recent call last)",
      "\u001b[1;32m<ipython-input-49-8631e9a85599>\u001b[0m in \u001b[0;36m<module>\u001b[1;34m()\u001b[0m\n\u001b[0;32m      8\u001b[0m         \u001b[1;33m[\u001b[0m\u001b[1;34m'np.random.uniform'\u001b[0m \u001b[1;33m,\u001b[0m \u001b[1;34m'Generates a random sample from a uniform distribution.'\u001b[0m \u001b[1;33m]\u001b[0m\u001b[1;33m,\u001b[0m\u001b[1;33m\u001b[0m\u001b[0m\n\u001b[0;32m      9\u001b[0m         ['np.random.choice' , 'Generates a random sample from a given 1-D array']],\n\u001b[1;32m---> 10\u001b[1;33m \u001b[0mpd\u001b[0m\u001b[1;33m.\u001b[0m\u001b[0mDataFrame\u001b[0m\u001b[1;33m(\u001b[0m\u001b[0mdata\u001b[0m\u001b[1;33m,\u001b[0m \u001b[0mcolumns\u001b[0m\u001b[1;33m=\u001b[0m\u001b[1;33m[\u001b[0m\u001b[1;34m\"Simple Random Data\"\u001b[0m\u001b[1;33m,\u001b[0m \u001b[1;34m\"Description\"\u001b[0m\u001b[1;33m]\u001b[0m\u001b[1;33m)\u001b[0m\u001b[1;33m\u001b[0m\u001b[0m\n\u001b[0m",
      "\u001b[1;32m~\\Anaconda3\\Anaconda\\lib\\site-packages\\pandas\\core\\frame.py\u001b[0m in \u001b[0;36m__init__\u001b[1;34m(self, data, index, columns, dtype, copy)\u001b[0m\n\u001b[0;32m    402\u001b[0m                                          dtype=values.dtype, copy=False)\n\u001b[0;32m    403\u001b[0m             \u001b[1;32melse\u001b[0m\u001b[1;33m:\u001b[0m\u001b[1;33m\u001b[0m\u001b[0m\n\u001b[1;32m--> 404\u001b[1;33m                 \u001b[1;32mraise\u001b[0m \u001b[0mValueError\u001b[0m\u001b[1;33m(\u001b[0m\u001b[1;34m'DataFrame constructor not properly called!'\u001b[0m\u001b[1;33m)\u001b[0m\u001b[1;33m\u001b[0m\u001b[0m\n\u001b[0m\u001b[0;32m    405\u001b[0m \u001b[1;33m\u001b[0m\u001b[0m\n\u001b[0;32m    406\u001b[0m         \u001b[0mNDFrame\u001b[0m\u001b[1;33m.\u001b[0m\u001b[0m__init__\u001b[0m\u001b[1;33m(\u001b[0m\u001b[0mself\u001b[0m\u001b[1;33m,\u001b[0m \u001b[0mmgr\u001b[0m\u001b[1;33m,\u001b[0m \u001b[0mfastpath\u001b[0m\u001b[1;33m=\u001b[0m\u001b[1;32mTrue\u001b[0m\u001b[1;33m)\u001b[0m\u001b[1;33m\u001b[0m\u001b[0m\n",
      "\u001b[1;31mValueError\u001b[0m: DataFrame constructor not properly called!"
     ]
    }
   ],
   "source": [
    "# create a table to outline the functions to be outlined in this review.\n",
    "import pandas as pd\n",
    "import numpy as np\n",
    "\n",
    "data = [['np.random.rand' , 'Generates a random value(s) '], \n",
    "        ['np.random.randint' , 'Generates an array list of random integers.'],\n",
    "        ['np.randn' , 'Generates a random normal distribution.' ],\n",
    "        ['np.random.uniform' , 'Generates a random sample from a uniform distribution.' ],            \n",
    "        ['np.random.choice' , 'Generates a random sample from a given 1-D array']],\n",
    "pd.DataFrame(data, columns=[\"Simple Random Data\", \"Description\"])"
   ]
  },
  {
   "cell_type": "code",
   "execution_count": 32,
   "metadata": {},
   "outputs": [],
   "source": [
    "# Import the numpy package\n",
    "import numpy as np"
   ]
  },
  {
   "cell_type": "code",
   "execution_count": 33,
   "metadata": {},
   "outputs": [
    {
     "data": {
      "text/plain": [
       "0.6434598921113055"
      ]
     },
     "execution_count": 33,
     "metadata": {},
     "output_type": "execute_result"
    }
   ],
   "source": [
    "# Use the random function in numpy (  # Random float:  0.0 <= x < 1.0)\n",
    "np.random.rand()"
   ]
  },
  {
   "cell_type": "code",
   "execution_count": 24,
   "metadata": {},
   "outputs": [
    {
     "data": {
      "text/plain": [
       "array([0.86540077, 0.98276959, 0.03667397, 0.03908545, 0.76306268,\n",
       "       0.97823441, 0.17552903, 0.35982625, 0.22271826, 0.33536785,\n",
       "       0.75601985, 0.55331428, 0.94986799, 0.4071542 , 0.16516529,\n",
       "       0.60760606, 0.11271274, 0.46205383, 0.1317771 , 0.04162354,\n",
       "       0.48710629, 0.31975592, 0.93366526, 0.90606962, 0.65587773,\n",
       "       0.54667384, 0.71973796, 0.16577249, 0.18804313, 0.86101582,\n",
       "       0.46772639, 0.79351625, 0.57349306, 0.75739267, 0.40925102,\n",
       "       0.49567829, 0.68850439, 0.1559254 , 0.98412105, 0.86607902,\n",
       "       0.97613959, 0.83295452, 0.71201569, 0.1956789 , 0.6733361 ,\n",
       "       0.91514592, 0.65658572, 0.0613386 , 0.23615896, 0.85161728,\n",
       "       0.89197691, 0.78387653, 0.8548011 , 0.85412558, 0.52123363,\n",
       "       0.68388397, 0.07715682, 0.76617622, 0.58191623, 0.60169632,\n",
       "       0.88423461, 0.20013454, 0.93410184, 0.40433598, 0.61056597,\n",
       "       0.64575524, 0.2727244 , 0.67405491, 0.48842212, 0.43544837,\n",
       "       0.28786624, 0.36944197, 0.55099399, 0.43400621, 0.65408598,\n",
       "       0.79803034, 0.14980369, 0.18371265, 0.08011524, 0.09417568,\n",
       "       0.24887452, 0.38511078, 0.6897537 , 0.13251993, 0.74806729,\n",
       "       0.82086757, 0.38827852, 0.25595118, 0.57871643, 0.55606781,\n",
       "       0.18724072, 0.25552766, 0.43429069, 0.31390278, 0.69675783,\n",
       "       0.8611739 , 0.24111164, 0.10220595, 0.93824736, 0.43383612])"
      ]
     },
     "execution_count": 24,
     "metadata": {},
     "output_type": "execute_result"
    }
   ],
   "source": [
    "x = np.random.rand(100)\n",
    "x"
   ]
  },
  {
   "cell_type": "code",
   "execution_count": 25,
   "metadata": {},
   "outputs": [
    {
     "data": {
      "image/png": "[encoded data removed]",
      "text/plain": [
       "<matplotlib.figure.Figure at 0x2b0e644fb00>"
      ]
     },
     "metadata": {},
     "output_type": "display_data"
    }
   ],
   "source": [
    "# import matplotlib to plot a graph\n",
    "import matplotlib.pyplot as plt\n",
    "plt.hist(x)\n",
    "plt.show() "
   ]
  },
  {
   "cell_type": "code",
   "execution_count": 10,
   "metadata": {},
   "outputs": [
    {
     "data": {
      "text/plain": [
       "array([[0.84920308, 0.36498684, 0.32061762, 0.53870806],\n",
       "       [0.17692157, 0.9393475 , 0.43894741, 0.3168346 ],\n",
       "       [0.02064503, 0.02571844, 0.72473613, 0.82102101]])"
      ]
     },
     "execution_count": 10,
     "metadata": {},
     "output_type": "execute_result"
    }
   ],
   "source": [
    "# Use a simple random function in numpy by setting values to create an array with 3 rows and 4 columns of random data.\n",
    "np.random.rand(3, 4)"
   ]
  },
  {
   "cell_type": "code",
   "execution_count": 13,
   "metadata": {},
   "outputs": [
    {
     "data": {
      "text/plain": [
       "array([[[0.76543044, 0.88532958, 0.41823159, 0.69591673, 0.03955615],\n",
       "        [0.54826296, 0.77945062, 0.29143076, 0.13689701, 0.33165336],\n",
       "        [0.40617935, 0.6837296 , 0.15354993, 0.3550244 , 0.664394  ],\n",
       "        [0.42351096, 0.12809097, 0.6593394 , 0.35520456, 0.90765768]],\n",
       "\n",
       "       [[0.23089892, 0.54948748, 0.16538508, 0.71705481, 0.7949639 ],\n",
       "        [0.16588265, 0.91959583, 0.08895381, 0.79328366, 0.00745484],\n",
       "        [0.07746707, 0.38800877, 0.11757479, 0.8249697 , 0.32115389],\n",
       "        [0.06134637, 0.33968987, 0.04397141, 0.79730144, 0.89980912]],\n",
       "\n",
       "       [[0.1834846 , 0.53848041, 0.63852182, 0.95843169, 0.56831069],\n",
       "        [0.24318898, 0.13176002, 0.2409484 , 0.97087578, 0.19076987],\n",
       "        [0.76234052, 0.05798567, 0.21435505, 0.84069302, 0.70210653],\n",
       "        [0.81172085, 0.74770495, 0.69600418, 0.90450648, 0.87552459]]])"
      ]
     },
     "execution_count": 13,
     "metadata": {},
     "output_type": "execute_result"
    }
   ],
   "source": [
    "# Use a simple random function in numpy by setting values to create an array with 3 sets of data with 4 rows in each and 5 columns of random data.\n",
    "\n",
    "np.random.rand(3, 4, 5)"
   ]
  },
  {
   "cell_type": "code",
   "execution_count": null,
   "metadata": {},
   "outputs": [],
   "source": [
    "x = np.random.rand"
   ]
  },
  {
   "cell_type": "code",
   "execution_count": 14,
   "metadata": {},
   "outputs": [
    {
     "data": {
      "text/plain": [
       "array([[3.25912672, 3.86000573, 3.64816683, 3.03381164],\n",
       "       [3.30956289, 3.93256392, 3.02405371, 3.0050986 ],\n",
       "       [3.39671306, 3.22835336, 3.10635108, 3.98686132]])"
      ]
     },
     "execution_count": 14,
     "metadata": {},
     "output_type": "execute_result"
    }
   ],
   "source": [
    "np.random.rand(3, 4) + 3"
   ]
  },
  {
   "cell_type": "code",
   "execution_count": 18,
   "metadata": {},
   "outputs": [
    {
     "data": {
      "text/plain": [
       "array([3, 9, 1, 3, 4, 9, 6, 9, 4, 7, 1, 1, 6, 1, 4, 7, 2, 2, 8, 9])"
      ]
     },
     "execution_count": 18,
     "metadata": {},
     "output_type": "execute_result"
    }
   ],
   "source": [
    "# use a simple random function in numpy to list an array of integers:\n",
    "np.random.randint(0, 10, 20)"
   ]
  },
  {
   "cell_type": "code",
   "execution_count": 31,
   "metadata": {},
   "outputs": [
    {
     "data": {
      "text/plain": [
       "array([0.61750326, 0.29389352, 0.20851485])"
      ]
     },
     "execution_count": 31,
     "metadata": {},
     "output_type": "execute_result"
    }
   ],
   "source": [
    "# randn: n referring to the normal distribution.\n",
    "np.random.randn(3)"
   ]
  },
  {
   "cell_type": "code",
   "execution_count": 34,
   "metadata": {},
   "outputs": [
    {
     "data": {
      "text/plain": [
       "array([4, 2, 2, 4, 1, 0, 0, 2, 0, 0, 1, 2, 2, 3, 4, 3, 3, 0, 1, 3])"
      ]
     },
     "execution_count": 34,
     "metadata": {},
     "output_type": "execute_result"
    }
   ],
   "source": [
    "# Return random integers from low (inclusive) to high(exclusive).\n",
    "Return random integers from the “discrete uniform” distribution of the specified dtype in the “half-open” interval [low, high). If high is None (the default), then results are from [0, low).\n",
    "np.random.randint(5, size=20)"
   ]
  },
  {
   "cell_type": "code",
   "execution_count": 41,
   "metadata": {},
   "outputs": [
    {
     "data": {
      "text/plain": [
       "array([[0, 1, 4, 3],\n",
       "       [3, 3, 2, 4],\n",
       "       [3, 1, 2, 0],\n",
       "       [2, 0, 4, 1],\n",
       "       [2, 2, 1, 3]])"
      ]
     },
     "execution_count": 41,
     "metadata": {},
     "output_type": "execute_result"
    }
   ],
   "source": [
    "# Randint creating a 5 by 4 array of ints between 0 and 4: \n",
    "np.random.randint(5, size=(5, 4))"
   ]
  },
  {
   "cell_type": "code",
   "execution_count": 15,
   "metadata": {},
   "outputs": [
    {
     "data": {
      "text/plain": [
       "array([-4.49293858,  7.20663687,  4.0094406 , -9.53500723,  4.99508228,\n",
       "       -0.57488354])"
      ]
     },
     "execution_count": 15,
     "metadata": {},
     "output_type": "execute_result"
    }
   ],
   "source": [
    "# generates random numbers from a uniform distribution (lower, higher, size)\n",
    "np.random.uniform(-10, 8, 6)"
   ]
  },
  {
   "cell_type": "code",
   "execution_count": 19,
   "metadata": {},
   "outputs": [
    {
     "data": {
      "text/plain": [
       "<function matplotlib.pyplot.show>"
      ]
     },
     "execution_count": 19,
     "metadata": {},
     "output_type": "execute_result"
    },
    {
     "data": {
      "image/png": "[encoded data removed]",
      "text/plain": [
       "<matplotlib.figure.Figure at 0x2b0e54b3e80>"
      ]
     },
     "metadata": {},
     "output_type": "display_data"
    }
   ],
   "source": [
    "import matplotlib.pyplot as plt\n",
    "\n",
    "x = np.arange(0.0, 10.0, 0.01)\n",
    "y = 3.0 * x + 1.0\n",
    "noise = np.random.normal(0.0, 1.0, len(x))\n",
    "\n",
    "plt.plot(x, y + noise, 'r.')\n",
    "plt.plot(x, y, 'b-')\n",
    "\n",
    "plt.show"
   ]
  },
  {
   "cell_type": "code",
   "execution_count": 18,
   "metadata": {},
   "outputs": [
    {
     "data": {
      "text/plain": [
       "<function matplotlib.pyplot.show>"
      ]
     },
     "execution_count": 18,
     "metadata": {},
     "output_type": "execute_result"
    },
    {
     "data": {
      "image/png": "[encoded data removed]",
      "text/plain": [
       "<matplotlib.figure.Figure at 0x2b0e62b3780>"
      ]
     },
     "metadata": {},
     "output_type": "display_data"
    }
   ],
   "source": [
    "# import matplotlib for graphs\n",
    "import matplotlib.pyplot as plt \n",
    "\n",
    "x = np.arange(0.0, 10.0, 0.01)\n",
    "y = 3.0 * x + 1.0\n",
    "noise = np.random.normal(0.0, 1.0, len(x))\n",
    "\n",
    "plt.plot(x, y + noise, 'r.', label=\"Model\")\n",
    "plt.plot(x, y, 'b-', label=\"Actual\")\n",
    "\n",
    "plt.title(\"Sample Plot\")\n",
    "plt.xlabel(\"Weight\")\n",
    "plt.ylabel(\"Mass\")\n",
    "plt.legend()\n",
    "\n",
    "plt.show"
   ]
  },
  {
   "cell_type": "code",
   "execution_count": 28,
   "metadata": {},
   "outputs": [
    {
     "data": {
      "text/plain": [
       "<function matplotlib.pyplot.show>"
      ]
     },
     "execution_count": 28,
     "metadata": {},
     "output_type": "execute_result"
    },
    {
     "data": {
      "image/png": "[encoded data removed]",
      "text/plain": [
       "<matplotlib.figure.Figure at 0x2b0e64ab860>"
      ]
     },
     "metadata": {},
     "output_type": "display_data"
    }
   ],
   "source": [
    "# plot 2 graphs \n",
    "plt.subplot(1, 2, 1)\n",
    "x =  np.random.normal(0.0, 10.0, 10000)\n",
    "plt.hist(x)\n",
    "\n",
    "plt.subplot(1, 2, 2)\n",
    "x =  np.random.uniform(-20, .2, 2000)\n",
    "plt.hist(x)\n",
    "\n",
    "\n",
    "plt.show"
   ]
  },
  {
   "cell_type": "code",
   "execution_count": 10,
   "metadata": {},
   "outputs": [
    {
     "data": {
      "text/plain": [
       "array([1, 4, 2])"
      ]
     },
     "execution_count": 10,
     "metadata": {},
     "output_type": "execute_result"
    }
   ],
   "source": [
    "# Generates a random sample from a given 1-D array\n",
    "np.random.choice(5 , 3)"
   ]
  },
  {
   "cell_type": "code",
   "execution_count": 81,
   "metadata": {},
   "outputs": [
    {
     "data": {
      "text/plain": [
       "array([4, 5, 6, 3, 9, 7, 0, 2, 8, 1])"
      ]
     },
     "execution_count": 81,
     "metadata": {},
     "output_type": "execute_result"
    }
   ],
   "source": [
    "# Modify an array sequence by shuffling its contents. Shuffles the first axis of a multi-dimensional array.\n",
    "import numpy as np\n",
    "arr = np.arange(10)\n",
    "np.random.shuffle(arr)\n",
    "arr"
   ]
  },
  {
   "cell_type": "code",
   "execution_count": 84,
   "metadata": {},
   "outputs": [
    {
     "data": {
      "text/plain": [
       "array([[ 4,  5,  6,  7],\n",
       "       [ 8,  9, 10, 11],\n",
       "       [ 0,  1,  2,  3],\n",
       "       [12, 13, 14, 15]])"
      ]
     },
     "execution_count": 84,
     "metadata": {},
     "output_type": "execute_result"
    }
   ],
   "source": [
    "arr = np.arange(16).reshape((4, 4))\n",
    "np.random.shuffle(arr)\n",
    "arr"
   ]
  },
  {
   "cell_type": "markdown",
   "metadata": {},
   "source": [
    "### Explain the use of Permutation Functions\n",
    "A permutation is the arrangement of a set of items in different order.\n",
    "Using permutation functions allows for the random permutation of a sequence, or to return a permuted range.\n",
    "First import itertools package to implement permutations method in python. This method takes a list as an \n",
    "input and return an object list of tuples that contain all permutation in a list form.\n",
    "Permutation is an arrangement of objects in a specific order. Order of arrangement of object is very important. \n",
    "The number of permutations on a set of n elements is given by  n!.  For example, there are 2! = 2*1 = 2 \n",
    "permutations of {1, 2}, namely {1, 2} and {2, 1}, and 3! = 3*2*1 = 6 permutations of {1, 2, 3}, namely {1, 2, 3}, \n",
    "{1, 3, 2}, {2, 1, 3}, {2, 3, 1}, {3, 1, 2} and {3, 2, 1}.\n"
   ]
  },
  {
   "cell_type": "code",
   "execution_count": 43,
   "metadata": {},
   "outputs": [
    {
     "name": "stdout",
     "output_type": "stream",
     "text": [
      "[(1, 2, 3), (1, 3, 2), (2, 1, 3), (2, 3, 1), (3, 1, 2), (3, 2, 1)]\n"
     ]
    }
   ],
   "source": [
    "from itertools import permutations \n",
    "x = list(permutations(range(1, 4))) \n",
    "print(x) "
   ]
  },
  {
   "cell_type": "markdown",
   "metadata": {},
   "source": [
    "You can also rearrange characters in a word to create other words. If all the n characters are unique,\n",
    "you should get n! unique permutations. You can make a list of words unique by converting it to a set."
   ]
  },
  {
   "cell_type": "code",
   "execution_count": 65,
   "metadata": {},
   "outputs": [
    {
     "name": "stdout",
     "output_type": "stream",
     "text": [
      "dog\n",
      "dgo\n",
      "odg\n",
      "ogd\n",
      "gdo\n",
      "god\n"
     ]
    }
   ],
   "source": [
    "from itertools import permutations \n",
    "for x in permutations('dog'):\n",
    "    print(\"\".join(x))"
   ]
  },
  {
   "cell_type": "code",
   "execution_count": 66,
   "metadata": {},
   "outputs": [
    {
     "data": {
      "text/plain": [
       "array([0, 3, 5, 4, 2, 1])"
      ]
     },
     "execution_count": 66,
     "metadata": {},
     "output_type": "execute_result"
    }
   ],
   "source": [
    "np.random.permutation(6)"
   ]
  },
  {
   "cell_type": "code",
   "execution_count": 74,
   "metadata": {},
   "outputs": [
    {
     "data": {
      "text/plain": [
       "array([4, 1, 8, 2, 7])"
      ]
     },
     "execution_count": 74,
     "metadata": {},
     "output_type": "execute_result"
    }
   ],
   "source": [
    "np.random.permutation([4, 7, 8, 2, 1])"
   ]
  },
  {
   "cell_type": "code",
   "execution_count": 86,
   "metadata": {},
   "outputs": [
    {
     "data": {
      "text/plain": [
       "['ab', 'ac', 'ad', 'ba', 'bc', 'bd', 'ca', 'cb', 'cd', 'da', 'db', 'dc']"
      ]
     },
     "execution_count": 86,
     "metadata": {},
     "output_type": "execute_result"
    }
   ],
   "source": [
    "# Generates the permutations for all of the elements of the set input (abcd)\n",
    "from itertools import permutations \n",
    "[\"\".join(a) for a in permutations(\"abcd\", 2)]"
   ]
  },
  {
   "cell_type": "code",
   "execution_count": 88,
   "metadata": {},
   "outputs": [
    {
     "name": "stdout",
     "output_type": "stream",
     "text": [
      "Sample =  [8 3 6 1 7 5 4 0 2]\n"
     ]
    }
   ],
   "source": [
    "sample = np.random.permutation(9)\n",
    "print(\"Sample = \", sample)"
   ]
  },
  {
   "cell_type": "code",
   "execution_count": 89,
   "metadata": {},
   "outputs": [
    {
     "name": "stdout",
     "output_type": "stream",
     "text": [
      "Permuted =  [4 0 6 2 5 3 8 7 1]\n"
     ]
    }
   ],
   "source": [
    "shuffled = np.random.permutation(sample)\n",
    "print(\"Permuted = \",shuffled)"
   ]
  },
  {
   "cell_type": "code",
   "execution_count": 90,
   "metadata": {},
   "outputs": [
    {
     "data": {
      "text/plain": [
       "array([ 5, 78,  1,  2, 39])"
      ]
     },
     "execution_count": 90,
     "metadata": {},
     "output_type": "execute_result"
    }
   ],
   "source": [
    "# Example of reshuffling an array\n",
    "np.random.permutation([1, 78, 39, 2, 5])"
   ]
  },
  {
   "cell_type": "code",
   "execution_count": 91,
   "metadata": {},
   "outputs": [
    {
     "data": {
      "text/plain": [
       "array([[0, 1, 2],\n",
       "       [3, 4, 5],\n",
       "       [6, 7, 8]])"
      ]
     },
     "execution_count": 91,
     "metadata": {},
     "output_type": "execute_result"
    }
   ],
   "source": [
    "# Create a multi dimensional array\n",
    "arr = np.arange(9).reshape((3, 3))\n",
    "arr"
   ]
  },
  {
   "cell_type": "code",
   "execution_count": 93,
   "metadata": {},
   "outputs": [
    {
     "data": {
      "text/plain": [
       "array([[6, 7, 8],\n",
       "       [0, 1, 2],\n",
       "       [3, 4, 5]])"
      ]
     },
     "execution_count": 93,
     "metadata": {},
     "output_type": "execute_result"
    }
   ],
   "source": [
    "# Example of reshuffling a multidimensional array \n",
    "np.random.permutation(arr)"
   ]
  },
  {
   "cell_type": "markdown",
   "metadata": {},
   "source": [
    "## Question 3: Explain the use and purpose of at least five “Distributions” functions."
   ]
  },
  {
   "cell_type": "code",
   "execution_count": null,
   "metadata": {},
   "outputs": [],
   "source": [
    "### A probabillity disctibution is a mathematical function that can provide the probability of occurence of different outcomes.\n",
    "\n",
    "#Continuous Distributions e.g normal (every normal density is non zero for all real numbers)\n",
    "#Multivariate Distributions\n",
    "#Discrete Distributions\n",
    "#Statistical Distributions\n",
    "#Contingency table functions"
   ]
  },
  {
   "cell_type": "code",
   "execution_count": null,
   "metadata": {},
   "outputs": [],
   "source": [
    "###Types of Distributions\n",
    "#Binominal (is a discrete distribution having two parameters viz. sample size (n) and probability of success (p).)\n",
    "#Poisson (used to model events which take place continuously and at any given time independent of each other)\n",
    "#Normal (s a continuous distribution. It has the shape of a bell shaped curve.)\n",
    "#Exponential ()\n",
    "#Uniform"
   ]
  },
  {
   "cell_type": "markdown",
   "metadata": {},
   "source": [
    "## Binomial distribution\n",
    "#### Binomial distribution is the discrete probability distribution of the number of successes in a sequence of n independent binary (yes/no) experiments, each of which yields success with probability p. Such a success/failure experiment is also called a Bernoulli experiment or Bernoulli trial.  In fact, when n = 1, the binomial distribution is a Bernoulli distribution."
   ]
  },
  {
   "cell_type": "code",
   "execution_count": 129,
   "metadata": {},
   "outputs": [],
   "source": [
    "import numpy as np\n",
    "# numpy.random.binomial(n,p, size=none)\n",
    "# Draw samples from a binomial distribution\n",
    "n,p = 10, .5 # The number of trials, probability of each trial\n",
    "x = np.random.binomial(n, p, 1000)"
   ]
  },
  {
   "cell_type": "code",
   "execution_count": 128,
   "metadata": {},
   "outputs": [
    {
     "data": {
      "text/plain": [
       "0.38575"
      ]
     },
     "execution_count": 128,
     "metadata": {},
     "output_type": "execute_result"
    }
   ],
   "source": [
    "# 20,000 trials of the model, and count the number that generate zero positive results.\n",
    "sum(np.random.binomial(9, 0.1, 20000) == 0)/20000."
   ]
  },
  {
   "cell_type": "markdown",
   "metadata": {},
   "source": [
    "## Poisson distribution\n",
    "#### Poisson distribution is a discrete probability distribution that expresses the probability of a number of events occurring in a fixed period of time if these events occur with a known average rate and independently of the time since the last event.  For example, if you receive 3 calls on average between 8am-5pm each day, then the number of calls you will receive tomorrow between 8am-5pm should follow a Poisson distribution with parameter 3 λ = .  This is under the assumption that the chance to receive a call at any time point between 8am-5pm is the same. "
   ]
  },
  {
   "cell_type": "code",
   "execution_count": 142,
   "metadata": {},
   "outputs": [
    {
     "data": {
      "text/plain": [
       "array([5, 2, 4, 1, 1, 5, 4, 4, 2, 2, 2, 2, 5, 4, 2, 6, 5, 2, 6, 3, 4, 2,\n",
       "       4, 3, 1, 2, 0, 4, 5, 1, 3, 1, 4, 1, 3, 2, 2, 5, 0, 2, 0, 2, 2, 1,\n",
       "       4, 8, 3, 2, 1, 6, 2, 3, 5, 2, 2, 5, 5, 3, 1, 3, 4, 3, 3, 4, 5, 4,\n",
       "       1, 2, 3, 4, 4, 5, 3, 3, 1, 4, 0, 5, 2, 2, 3, 2, 1, 3, 1, 2, 3, 2,\n",
       "       4, 2, 4, 3, 2, 3, 0, 4, 3, 5, 5, 6])"
      ]
     },
     "execution_count": 142,
     "metadata": {},
     "output_type": "execute_result"
    }
   ],
   "source": [
    "# numpy.random.poisson(lam=1.0, size=None)\n",
    "# Draw samples from a Poisson distribution. The Poisson distribution is the limit of the binomial distribution for large N.\n",
    "np.random.poisson(3, 100)"
   ]
  },
  {
   "cell_type": "code",
   "execution_count": 144,
   "metadata": {},
   "outputs": [
    {
     "data": {
      "image/png": "[encoded data removed]",
      "text/plain": [
       "<matplotlib.figure.Figure at 0x1a13b4a0748>"
      ]
     },
     "metadata": {},
     "output_type": "display_data"
    }
   ],
   "source": [
    "    import matplotlib.pyplot as plt\n",
    "    count, bins, ignored = plt.hist(12, density=True)\n",
    "    plt.show()"
   ]
  },
  {
   "cell_type": "markdown",
   "metadata": {},
   "source": [
    "## Exponential distributions\n",
    "#### Exponential distributions are a class of continuous probability distribution. An exponential distribution arises naturally when modeling the time between independent events that happen at a constant average rate.  For example, if you receive 3 calls on average between 8am-5pm each day, then the hours you wait for the first call since 8am tomorrow should follow an exponential distribution with parameter 3 /9 1/3 calls hrs λ = = .  The average time you wait for the new call since last call is the expectation of the distribution: 1/ 3hrs λ = "
   ]
  },
  {
   "cell_type": "markdown",
   "metadata": {},
   "source": [
    "## Uniform Distribution\n",
    "### Discrete uniform distribution\n",
    "#### Discrete uniform distribution is a discrete probability distribution: If a random variable has any of n possible values k1, k2, …, kn that are equally probable, then it has a discrete uniform distribution. The probability of any outcome ki  is 1/n. A simple example of the discrete uniform distribution is throwing a fair die. The possible values of k are 1, 2, 3, 4, 5, 6; and each time the die is thrown, the probability of a given score is 1/6. \n",
    "### Continuous uniform distribution\n",
    "#### Continuous uniform distribution is a family of probability distributions such that for each member of the family, all intervals of the same length on the distribution's support are equally probable. The support is defined by the two parameters, a and b, which are its minimum and maximum values. The distribution is often abbreviated U(a,b), e.g.,  U(0,1) is a member of this family and so is U(1,2)."
   ]
  },
  {
   "cell_type": "code",
   "execution_count": 137,
   "metadata": {},
   "outputs": [
    {
     "data": {
      "text/plain": [
       "array([-0.85027792, -0.68694655, -0.15044658, -0.52166683, -0.72084427,\n",
       "       -0.16692417, -0.24899493, -0.84514407, -0.39385714, -0.21751663,\n",
       "       -0.3572103 , -0.26329026, -0.31252988, -0.70136229, -0.24473723,\n",
       "       -0.99227336, -0.67368237, -0.39531385, -0.69976554, -0.24885392,\n",
       "       -0.87362985, -0.13674235, -0.14666768, -0.40386418, -0.45694151,\n",
       "       -0.29755208, -0.80415924, -0.06251651, -0.17750555, -0.181574  ,\n",
       "       -0.91580948, -0.48498611, -0.09621173, -0.87877172, -0.22507278,\n",
       "       -0.03613403, -0.92369666, -0.65280535, -0.71637988, -0.2410441 ,\n",
       "       -0.57125907, -0.03578976, -0.96706165, -0.42637829, -0.3738087 ,\n",
       "       -0.48287447, -0.30009579, -0.33007999, -0.02508587, -0.95020173,\n",
       "       -0.88755643, -0.22179916, -0.08216385, -0.62521672, -0.76679319,\n",
       "       -0.67612726, -0.58304893, -0.07759692, -0.77608665, -0.61573138,\n",
       "       -0.33378333, -0.10342483, -0.86590792, -0.64251918, -0.14962902,\n",
       "       -0.30974214, -0.08589833, -0.05859685, -0.75831378, -0.94475612,\n",
       "       -0.09863773, -0.08779609, -0.08273781, -0.54010312, -0.5686037 ,\n",
       "       -0.40884003, -0.3510917 , -0.60495328, -0.19689051, -0.03863503,\n",
       "       -0.70251507, -0.60234655, -0.64584828, -0.3994521 , -0.44775482,\n",
       "       -0.18040287, -0.97209936, -0.50514965, -0.00193972, -0.12167464,\n",
       "       -0.32469847, -0.35478305, -0.45228738, -0.08810246, -0.36569796,\n",
       "       -0.06719048, -0.1180567 , -0.57361505, -0.08881301, -0.54219533,\n",
       "       -0.03035014, -0.54444619, -0.83318406, -0.41612482, -0.66651393,\n",
       "       -0.90997893, -0.68353992, -0.86866055, -0.43958275, -0.27076544,\n",
       "       -0.9366963 , -0.76077567, -0.41188433, -0.62253225, -0.553363  ,\n",
       "       -0.44928563, -0.31337981, -0.96539696, -0.21532911, -0.26733649,\n",
       "       -0.75758197, -0.87124157, -0.32657846, -0.9374646 , -0.15683043,\n",
       "       -0.72594103, -0.54279156, -0.2426743 , -0.6585825 , -0.83474277,\n",
       "       -0.24250362, -0.87438204, -0.5249831 , -0.47175162, -0.48627841,\n",
       "       -0.4878821 , -0.64474184, -0.34399739, -0.38235728, -0.29003924,\n",
       "       -0.55044065, -0.44939495, -0.28516189, -0.7464106 , -0.68881328,\n",
       "       -0.45216346, -0.13765398, -0.43920418, -0.65566864, -0.32701602,\n",
       "       -0.2321374 , -0.57119066, -0.8658256 , -0.02057979, -0.29682655,\n",
       "       -0.02909407, -0.33344951, -0.04726877, -0.6524996 , -0.81782362,\n",
       "       -0.35584796, -0.76108082, -0.41586766, -0.55692799, -0.0431816 ,\n",
       "       -0.48611932, -0.192465  , -0.33449554, -0.31835476, -0.77175837,\n",
       "       -0.12870079, -0.68427299, -0.20849208, -0.98209508, -0.53004382,\n",
       "       -0.61763484, -0.68979577, -0.86522616, -0.97884854, -0.76426798,\n",
       "       -0.93055403, -0.44703207, -0.33772718, -0.87231652, -0.86899824,\n",
       "       -0.84316281, -0.01135981, -0.40473199, -0.95934817, -0.97393537,\n",
       "       -0.49198634, -0.07214295, -0.85295823, -0.74882271, -0.07973302,\n",
       "       -0.94691161, -0.58645543, -0.72132726, -0.61459702, -0.06229902,\n",
       "       -0.24779359, -0.41973623, -0.06115992, -0.09296497, -0.39014732,\n",
       "       -0.48314054, -0.36891777, -0.18628209, -0.15291712, -0.96827133,\n",
       "       -0.12315051, -0.35712708, -0.58591971, -0.75690761, -0.87433656,\n",
       "       -0.09207152, -0.08250819, -0.37446513, -0.77627476, -0.74784679,\n",
       "       -0.19194015, -0.16685669, -0.10663203, -0.12048867, -0.63314335,\n",
       "       -0.76143234, -0.12160244, -0.49432894, -0.36213735, -0.93349425,\n",
       "       -0.3179603 , -0.38743684, -0.50790052, -0.63828525, -0.55370701,\n",
       "       -0.74443048, -0.64669097, -0.27001411, -0.86816492, -0.80214151,\n",
       "       -0.85199239, -0.31618942, -0.20303392, -0.23741209, -0.90784417,\n",
       "       -0.63395366, -0.01868777, -0.1071105 , -0.68544144, -0.96552122,\n",
       "       -0.84901914, -0.44051184, -0.71918807, -0.9226588 , -0.9299032 ,\n",
       "       -0.96139827, -0.32468093, -0.97767833, -0.93854118, -0.95649641,\n",
       "       -0.08908799, -0.29251915, -0.09834724, -0.90342111, -0.35667907,\n",
       "       -0.63487034, -0.75691711, -0.80932265, -0.25109815, -0.72462096,\n",
       "       -0.23184791, -0.19311545, -0.67879203, -0.95451628, -0.62779192,\n",
       "       -0.23628931, -0.78435367, -0.13184133, -0.82428134, -0.9929761 ,\n",
       "       -0.26312907, -0.56859186, -0.97744384, -0.16745359, -0.86816029,\n",
       "       -0.51189675, -0.19664838, -0.28347508, -0.06797573, -0.89566224,\n",
       "       -0.76461927, -0.4890774 , -0.44799035, -0.20668287, -0.06855746,\n",
       "       -0.54123051, -0.02695713, -0.18164067, -0.63813474, -0.66543202,\n",
       "       -0.98942147, -0.53806907, -0.69010424, -0.63867969, -0.882509  ,\n",
       "       -0.64553378, -0.48680958, -0.05481562, -0.75357687, -0.21555299,\n",
       "       -0.31694036, -0.90420332, -0.15153742, -0.21869748, -0.16794433,\n",
       "       -0.13653593, -0.74776708, -0.67214416, -0.28062333, -0.12874735,\n",
       "       -0.68743761, -0.79494688, -0.55664646, -0.24356454, -0.61720895,\n",
       "       -0.54844837, -0.88572763, -0.16098345, -0.36361839, -0.06444255,\n",
       "       -0.48532276, -0.47067309, -0.35712614, -0.77749357, -0.55657972,\n",
       "       -0.88541796, -0.84355356, -0.80321386, -0.09438104, -0.90594818,\n",
       "       -0.04483535, -0.78616886, -0.77817321, -0.15153904, -0.98324802,\n",
       "       -0.61162492, -0.85028113, -0.26503721, -0.15360959, -0.83033862,\n",
       "       -0.49866544, -0.64446982, -0.82380417, -0.22384487, -0.19371496,\n",
       "       -0.72006173, -0.12892565, -0.72503278, -0.8765651 , -0.51731991,\n",
       "       -0.23034791, -0.76637257, -0.81779546, -0.57459173, -0.00346004,\n",
       "       -0.61274243, -0.20018894, -0.59964783, -0.70312229, -0.34119641,\n",
       "       -0.36142256, -0.43054015, -0.75436806, -0.10318608, -0.88620947,\n",
       "       -0.78526821, -0.55234911, -0.22483521, -0.37152112, -0.7127916 ,\n",
       "       -0.91614993, -0.53539575, -0.46129513, -0.92963598, -0.39924928,\n",
       "       -0.78554396, -0.29958506, -0.21507294, -0.57373572, -0.20895292,\n",
       "       -0.66514738, -0.8477707 , -0.09008033, -0.61338139, -0.81182833,\n",
       "       -0.89191891, -0.54339376, -0.65245743, -0.16282873, -0.3015311 ,\n",
       "       -0.26659828, -0.51208045, -0.65302958, -0.48298291, -0.95898692,\n",
       "       -0.16480011, -0.50960184, -0.76338462, -0.40129589, -0.50310779,\n",
       "       -0.36056688, -0.48444564, -0.57296444, -0.91160298, -0.88574176,\n",
       "       -0.35967316, -0.82752624, -0.68012992, -0.17248457, -0.27534416,\n",
       "       -0.05739334, -0.41195543, -0.59646436, -0.61925081, -0.35012463,\n",
       "       -0.41809035, -0.51174827, -0.40214494, -0.4649904 , -0.83152401,\n",
       "       -0.11327856, -0.64280314, -0.44034558, -0.68359564, -0.41635428,\n",
       "       -0.97450459, -0.84771678, -0.79570094, -0.5634004 , -0.0736577 ,\n",
       "       -0.64185045, -0.95446211, -0.48430757, -0.52084032, -0.61507586,\n",
       "       -0.47766682, -0.72983422, -0.89228343, -0.8261912 , -0.36599499,\n",
       "       -0.9183327 , -0.26318381, -0.93466782, -0.39326315, -0.05806625,\n",
       "       -0.50813979, -0.17169472, -0.24665947, -0.200458  , -0.68653383,\n",
       "       -0.40864124, -0.70944207, -0.37061156, -0.42845347, -0.91649193,\n",
       "       -0.38463955, -0.42711442, -0.40612765, -0.15366793, -0.93570936,\n",
       "       -0.29727621, -0.85399324, -0.27096224, -0.94453093, -0.57695028,\n",
       "       -0.02548113, -0.22664502, -0.30313771, -0.5857628 , -0.93725816,\n",
       "       -0.18993404, -0.21104817, -0.69451448, -0.37668902, -0.05193246,\n",
       "       -0.28209075, -0.527051  , -0.3670922 , -0.63087728, -0.90987653,\n",
       "       -0.2752431 , -0.25422575, -0.61978972, -0.8501036 , -0.72664248,\n",
       "       -0.92999552, -0.38632443, -0.73541898, -0.7608128 , -0.95762336,\n",
       "       -0.23665149, -0.91894761, -0.62676953, -0.83305095, -0.45137021,\n",
       "       -0.139368  , -0.45714688, -0.5330108 , -0.37104146, -0.23709129,\n",
       "       -0.78023792, -0.53648663, -0.99166498, -0.78527721, -0.96818005,\n",
       "       -0.05490129, -0.74061765, -0.70644094, -0.27459133, -0.81137054,\n",
       "       -0.09315086, -0.76705366, -0.80984224, -0.63494727, -0.36736487,\n",
       "       -0.95050507, -0.70090374, -0.40138538, -0.23631361, -0.43191164,\n",
       "       -0.7430173 , -0.27919646, -0.77463102, -0.92086738, -0.01346349,\n",
       "       -0.1447121 , -0.27577288, -0.09785198, -0.24351156, -0.86851135,\n",
       "       -0.39288615, -0.24149993, -0.3712385 , -0.10852279, -0.50849935,\n",
       "       -0.94454688, -0.6082297 , -0.9462514 , -0.94246494, -0.19216897,\n",
       "       -0.13420855, -0.83780313, -0.1490595 , -0.86272142, -0.56578381,\n",
       "       -0.54951469, -0.94013651, -0.88070903, -0.16109812, -0.93991679,\n",
       "       -0.04465842, -0.09714327, -0.38002551, -0.47013917, -0.05694599,\n",
       "       -0.28335985, -0.12954492, -0.20800167, -0.78388805, -0.58216948,\n",
       "       -0.83788904, -0.95002177, -0.91398822, -0.40407641, -0.54644194,\n",
       "       -0.57611353, -0.2977467 , -0.02183247, -0.3830369 , -0.92249858,\n",
       "       -0.49402203, -0.89677297, -0.70694387, -0.95144718, -0.66970192,\n",
       "       -0.07252657, -0.1133621 , -0.72793167, -0.89161533, -0.88258425,\n",
       "       -0.24342812, -0.52766169, -0.13213584, -0.13362868, -0.41314463,\n",
       "       -0.34112894, -0.29696067, -0.16008112, -0.7338902 , -0.2704259 ,\n",
       "       -0.20581377, -0.95838551, -0.88694191, -0.43645228, -0.18240005,\n",
       "       -0.51023012, -0.38920021, -0.90687735, -0.84569756, -0.92556109,\n",
       "       -0.61502409, -0.18663677, -0.23005346, -0.1735102 , -0.27298846,\n",
       "       -0.35436178, -0.5974866 , -0.31196576, -0.38528612, -0.42618344,\n",
       "       -0.47192014, -0.48523134, -0.739163  , -0.65724719, -0.02642571,\n",
       "       -0.75620306, -0.46946998, -0.95208791, -0.39109098, -0.68538394,\n",
       "       -0.87955899, -0.86171227, -0.88733095, -0.34700782, -0.19026325,\n",
       "       -0.11257241, -0.58603684, -0.14191268, -0.82305941, -0.60435775,\n",
       "       -0.7937964 , -0.60796981, -0.72252473, -0.81762619, -0.46699292,\n",
       "       -0.1293869 , -0.34443618, -0.53804817, -0.54563824, -0.26892711,\n",
       "       -0.12498786, -0.59363611, -0.82788971, -0.35882011, -0.41755318,\n",
       "       -0.48792863, -0.45893583, -0.71913707, -0.87836915, -0.47676215,\n",
       "       -0.82070763, -0.04282963, -0.29276924, -0.41640291, -0.17292636,\n",
       "       -0.32077189, -0.6283479 , -0.96635213, -0.63181171, -0.18506537,\n",
       "       -0.43688678, -0.40730736, -0.82842056, -0.55807016, -0.96485456,\n",
       "       -0.0852225 , -0.13918681, -0.18780503, -0.45655498, -0.94359046,\n",
       "       -0.47331803, -0.86045975, -0.61957914, -0.31725981, -0.47242577,\n",
       "       -0.1674435 , -0.12976069, -0.22984461, -0.31801886, -0.03785347,\n",
       "       -0.13695235, -0.58768036, -0.14008175, -0.26936317, -0.7971583 ,\n",
       "       -0.90292524, -0.79633038, -0.72803628, -0.7184388 , -0.58560316,\n",
       "       -0.84361202, -0.4904065 , -0.27529898, -0.73158494, -0.83199177,\n",
       "       -0.92590195, -0.84251932, -0.33382709, -0.7381468 , -0.64074231,\n",
       "       -0.6971698 , -0.2382548 , -0.74681205, -0.59069357, -0.8348016 ,\n",
       "       -0.83663686, -0.12493614, -0.73332011, -0.97195256, -0.44197005,\n",
       "       -0.63686402, -0.06464971, -0.67788426, -0.35213561, -0.0664216 ,\n",
       "       -0.84975716, -0.98612066, -0.70898523, -0.94666855, -0.7097562 ,\n",
       "       -0.16559079, -0.65039413, -0.21807501, -0.74551869, -0.01802712,\n",
       "       -0.9924983 , -0.23049379, -0.72215298, -0.6628693 , -0.75826697,\n",
       "       -0.92437088, -0.1738597 , -0.54587242, -0.92209642, -0.98483806,\n",
       "       -0.89924085, -0.92901154, -0.17337579, -0.81104831, -0.62882454,\n",
       "       -0.88787316, -0.05867568, -0.86620803, -0.9774992 , -0.4111768 ,\n",
       "       -0.93124427, -0.25753511, -0.40543107, -0.47962055, -0.70575656,\n",
       "       -0.94165849, -0.87585634, -0.95880638, -0.06513332, -0.21614861,\n",
       "       -0.83188655, -0.03549064, -0.02867231, -0.96404071, -0.73152415,\n",
       "       -0.73009932, -0.96795718, -0.68316631, -0.79285552, -0.96587174,\n",
       "       -0.94703962, -0.68152723, -0.67314961, -0.29583986, -0.3590218 ,\n",
       "       -0.19716614, -0.84718423, -0.86669507, -0.46618123, -0.49050881,\n",
       "       -0.76283937, -0.8219101 , -0.94341016, -0.47830669, -0.38679883,\n",
       "       -0.49517757, -0.77424233, -0.07290767, -0.47601431, -0.75036908,\n",
       "       -0.21467601, -0.87187227, -0.37619855, -0.70762355, -0.93103828,\n",
       "       -0.88094719, -0.75480709, -0.59504094, -0.57787453, -0.90617286,\n",
       "       -0.96375868, -0.1667532 , -0.68084339, -0.87284053, -0.04100475,\n",
       "       -0.40066473, -0.62281842, -0.24073111, -0.6093782 , -0.50524094,\n",
       "       -0.77245413, -0.74865751, -0.2123664 , -0.32066628, -0.71243006,\n",
       "       -0.34107868, -0.54574368, -0.17560843, -0.06075507, -0.48040117,\n",
       "       -0.43490038, -0.91586064, -0.64331117, -0.40689864, -0.64885294,\n",
       "       -0.9655347 , -0.72310073, -0.29609384, -0.75292912, -0.12762299,\n",
       "       -0.38951657, -0.55033112, -0.65077955, -0.86111485, -0.2490181 ,\n",
       "       -0.13399776, -0.94380873, -0.16159661, -0.12442548, -0.02979279,\n",
       "       -0.15556711, -0.72240185, -0.90972721, -0.85508462, -0.78583362,\n",
       "       -0.9947422 , -0.54458638, -0.38176051, -0.96253974, -0.32839728,\n",
       "       -0.89161272, -0.89211449, -0.0213996 , -0.30808403, -0.56807458,\n",
       "       -0.66423377, -0.01176298, -0.18376143, -0.2718328 , -0.16789224,\n",
       "       -0.2507792 , -0.19261457, -0.66732128, -0.758685  , -0.40331451,\n",
       "       -0.3348928 , -0.30750528, -0.44478477, -0.08956647, -0.76279002,\n",
       "       -0.72756435, -0.98207427, -0.76970611, -0.62122235, -0.86168153,\n",
       "       -0.13782915, -0.43067032, -0.97172246, -0.73189931, -0.82207225,\n",
       "       -0.25547906, -0.27535413, -0.28591895, -0.91192393, -0.05764142,\n",
       "       -0.57405657, -0.82638959, -0.79935014, -0.27626737, -0.52601579,\n",
       "       -0.14634962, -0.11919592, -0.59741922, -0.23058551, -0.2382325 ,\n",
       "       -0.44408998, -0.02046954, -0.26208406, -0.95976246, -0.81364731,\n",
       "       -0.86849567, -0.53153656, -0.65484916, -0.42170317, -0.67018019,\n",
       "       -0.97340926, -0.02093493, -0.44734411, -0.80298107, -0.80116747,\n",
       "       -0.45283273, -0.53560278, -0.86249038, -0.15803386, -0.35497632,\n",
       "       -0.9831335 , -0.34562608, -0.3996001 , -0.5434167 , -0.15189986,\n",
       "       -0.28807663, -0.58157803, -0.49184276, -0.93979126, -0.06717541,\n",
       "       -0.94844502, -0.54620866, -0.74085285, -0.12783605, -0.98314395,\n",
       "       -0.59937296, -0.00898799, -0.89539022, -0.01724575, -0.24045009,\n",
       "       -0.05336812, -0.40500914, -0.39506813, -0.88495187, -0.17440734,\n",
       "       -0.98149255, -0.54091251, -0.54268218, -0.03473039, -0.09788215,\n",
       "       -0.72623997, -0.25536719, -0.93045044, -0.21844738, -0.06200803,\n",
       "       -0.14750626, -0.37090542, -0.70610254, -0.22153124, -0.80950723,\n",
       "       -0.12367038, -0.84908918, -0.69829918, -0.04047095, -0.52034651,\n",
       "       -0.19757861, -0.92014143, -0.47622847, -0.32540877, -0.77469542,\n",
       "       -0.87601837, -0.96093877, -0.01670298, -0.36276658, -0.64775389,\n",
       "       -0.83057594, -0.60763895, -0.31742775, -0.48007753, -0.79393765,\n",
       "       -0.37252229, -0.77470051, -0.87799723, -0.00113618, -0.99338524,\n",
       "       -0.12612932, -0.32071554, -0.55948774, -0.65655136, -0.86104762,\n",
       "       -0.57222614, -0.82665837, -0.68799711, -0.80484206, -0.16168599,\n",
       "       -0.34366696, -0.99148235, -0.78235374, -0.28915795, -0.18107605])"
      ]
     },
     "execution_count": 137,
     "metadata": {},
     "output_type": "execute_result"
    }
   ],
   "source": [
    "# Draw samples from the distribution\n",
    "np.random.uniform(-1,0,1000)"
   ]
  },
  {
   "cell_type": "code",
   "execution_count": 138,
   "metadata": {},
   "outputs": [
    {
     "data": {
      "text/plain": [
       "True"
      ]
     },
     "execution_count": 138,
     "metadata": {},
     "output_type": "execute_result"
    }
   ],
   "source": [
    "# All values are within the given interval\n",
    "np.all(s >= -1)\n",
    "True\n",
    "    np.all(s < 0)\n",
    "True"
   ]
  },
  {
   "cell_type": "code",
   "execution_count": 140,
   "metadata": {},
   "outputs": [
    {
     "data": {
      "image/png": "[encoded data removed]",
      "text/plain": [
       "<matplotlib.figure.Figure at 0x1a13b382fd0>"
      ]
     },
     "metadata": {},
     "output_type": "display_data"
    }
   ],
   "source": [
    "    # Display the histogram of the samples and the probability density function.\n",
    "    import matplotlib.pyplot as plt\n",
    "    count, bins, ignored = plt.hist(s, 15, normed=True)\n",
    "    plt.plot(bins, np.ones_like(bins), linewidth=2, color='r')\n",
    "    plt.show()"
   ]
  },
  {
   "cell_type": "markdown",
   "metadata": {},
   "source": [
    "## Question 4: Explain the use of seeds in generating pseudorandom numbers."
   ]
  },
  {
   "cell_type": "markdown",
   "metadata": {},
   "source": [
    "### 'random.seed' gives a value to random value generator ('random.randint()') which generates these values based on this seed. A property of random numbers is that they should be reproducible. Once I use the same seed I get the same pattern of random numbers in the exmaples below.\n",
    "### random is actually pseudo-random. Given a seed, it will generate numbers with an equal distribution. Usingthe same seed, it will generate the same number sequences every time. In order to change it, I would have to change my seed. Seed is often used based on the current time.\n"
   ]
  },
  {
   "cell_type": "code",
   "execution_count": 146,
   "metadata": {},
   "outputs": [
    {
     "data": {
      "text/plain": [
       "3"
      ]
     },
     "execution_count": 146,
     "metadata": {},
     "output_type": "execute_result"
    }
   ],
   "source": [
    "random.seed(100)\n",
    "random.randint(1, 10)"
   ]
  },
  {
   "cell_type": "code",
   "execution_count": 147,
   "metadata": {},
   "outputs": [
    {
     "data": {
      "text/plain": [
       "3"
      ]
     },
     "execution_count": 147,
     "metadata": {},
     "output_type": "execute_result"
    }
   ],
   "source": [
    "# Using seed will allow you to produce the same random integer each time\n",
    "random.seed(100)\n",
    "random.randint(1, 10)"
   ]
  },
  {
   "cell_type": "code",
   "execution_count": 148,
   "metadata": {},
   "outputs": [
    {
     "data": {
      "text/plain": [
       "3"
      ]
     },
     "execution_count": 148,
     "metadata": {},
     "output_type": "execute_result"
    }
   ],
   "source": [
    "# Same results as above\n",
    "random.seed(100)\n",
    "random.randint(1, 10)"
   ]
  },
  {
   "cell_type": "code",
   "execution_count": 149,
   "metadata": {},
   "outputs": [
    {
     "data": {
      "text/plain": [
       "10"
      ]
     },
     "execution_count": 149,
     "metadata": {},
     "output_type": "execute_result"
    }
   ],
   "source": [
    "# Result has now changed as I have changed the see number to 101\n",
    "random.seed(101)\n",
    "random.randint(1, 10)"
   ]
  },
  {
   "cell_type": "code",
   "execution_count": 150,
   "metadata": {},
   "outputs": [
    {
     "data": {
      "text/plain": [
       "10"
      ]
     },
     "execution_count": 150,
     "metadata": {},
     "output_type": "execute_result"
    }
   ],
   "source": [
    "# Same results as above\n",
    "random.seed(101)\n",
    "random.randint(1, 10)"
   ]
  },
  {
   "cell_type": "code",
   "execution_count": 156,
   "metadata": {},
   "outputs": [
    {
     "name": "stdout",
     "output_type": "stream",
     "text": [
      "37\n",
      "3\n",
      "28\n",
      "31\n",
      "37\n",
      "1\n"
     ]
    }
   ],
   "source": [
    "# prints 6 random numbers between 1 and 50\n",
    "random.seed(10)\n",
    "for i in range(6):\n",
    "        print(random.randint(1,50))"
   ]
  },
  {
   "cell_type": "code",
   "execution_count": 157,
   "metadata": {},
   "outputs": [
    {
     "name": "stdout",
     "output_type": "stream",
     "text": [
      "37\n",
      "3\n",
      "28\n",
      "31\n",
      "37\n",
      "1\n"
     ]
    }
   ],
   "source": [
    "# Prints the same output as above as it is the same seed\n",
    "random.seed(10)\n",
    "for i in range(6):\n",
    "        print(random.randint(1,50))"
   ]
  },
  {
   "cell_type": "code",
   "execution_count": 158,
   "metadata": {},
   "outputs": [
    {
     "name": "stdout",
     "output_type": "stream",
     "text": [
      "47\n",
      "44\n",
      "50\n",
      "10\n",
      "17\n",
      "44\n"
     ]
    }
   ],
   "source": [
    "# Change the seed to change the output random integer values\n",
    "random.seed(20)\n",
    "for i in range(6):\n",
    "        print(random.randint(1,50))"
   ]
  },
  {
   "cell_type": "code",
   "execution_count": 165,
   "metadata": {},
   "outputs": [
    {
     "data": {
      "text/plain": [
       "0.5390815646058106"
      ]
     },
     "execution_count": 165,
     "metadata": {},
     "output_type": "execute_result"
    }
   ],
   "source": [
    "# use seed to create a random number\n",
    "random.seed(30)\n",
    "random.random()"
   ]
  },
  {
   "cell_type": "code",
   "execution_count": 163,
   "metadata": {},
   "outputs": [
    {
     "data": {
      "text/plain": [
       "0.2891964436397205"
      ]
     },
     "execution_count": 163,
     "metadata": {},
     "output_type": "execute_result"
    }
   ],
   "source": [
    "# Do not use seed\n",
    "random.random()"
   ]
  },
  {
   "cell_type": "code",
   "execution_count": 164,
   "metadata": {},
   "outputs": [
    {
     "data": {
      "text/plain": [
       "0.5390815646058106"
      ]
     },
     "execution_count": 164,
     "metadata": {},
     "output_type": "execute_result"
    }
   ],
   "source": [
    "# Use seed again and it will output the same random number as previous seed(30) above\n",
    "random.seed(30)\n",
    "random.random()"
   ]
  },
  {
   "cell_type": "code",
   "execution_count": null,
   "metadata": {},
   "outputs": [],
   "source": []
  }
 ],
 "metadata": {
  "kernelspec": {
   "display_name": "Python 3",
   "language": "python",
   "name": "python3"
  },
  "language_info": {
   "codemirror_mode": {
    "name": "ipython",
    "version": 3
   },
   "file_extension": ".py",
   "mimetype": "text/x-python",
   "name": "python",
   "nbconvert_exporter": "python",
   "pygments_lexer": "ipython3",
   "version": "3.6.4"
  }
 },
 "nbformat": 4,
 "nbformat_minor": 2
}
