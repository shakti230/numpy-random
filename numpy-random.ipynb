{
 "cells": [
  {
   "cell_type": "markdown",
   "metadata": {},
   "source": [
    "# Mary McDonagh\n",
    "# Programming for Data Analysis - Assignment 2018"
   ]
  },
  {
   "cell_type": "markdown",
   "metadata": {},
   "source": [
    "## Question 1: Explain the overall purpose of the package"
   ]
  },
  {
   "cell_type": "code",
   "execution_count": null,
   "metadata": {},
   "outputs": [],
   "source": [
    "#Add explanantion of package here"
   ]
  },
  {
   "cell_type": "markdown",
   "metadata": {},
   "source": [
    "## Question 2: Explain the use of the \"Simple Random Data\" and the Permutations functions."
   ]
  },
  {
   "cell_type": "markdown",
   "metadata": {},
   "source": [
    "### Using np.random functions to generate simple data"
   ]
  },
  {
   "cell_type": "code",
   "execution_count": 49,
   "metadata": {},
   "outputs": [
    {
     "ename": "ValueError",
     "evalue": "DataFrame constructor not properly called!",
     "output_type": "error",
     "traceback": [
      "\u001b[1;31m---------------------------------------------------------------------------\u001b[0m",
      "\u001b[1;31mValueError\u001b[0m                                Traceback (most recent call last)",
      "\u001b[1;32m<ipython-input-49-8631e9a85599>\u001b[0m in \u001b[0;36m<module>\u001b[1;34m()\u001b[0m\n\u001b[0;32m      8\u001b[0m         \u001b[1;33m[\u001b[0m\u001b[1;34m'np.random.uniform'\u001b[0m \u001b[1;33m,\u001b[0m \u001b[1;34m'Generates a random sample from a uniform distribution.'\u001b[0m \u001b[1;33m]\u001b[0m\u001b[1;33m,\u001b[0m\u001b[1;33m\u001b[0m\u001b[0m\n\u001b[0;32m      9\u001b[0m         ['np.random.choice' , 'Generates a random sample from a given 1-D array']],\n\u001b[1;32m---> 10\u001b[1;33m \u001b[0mpd\u001b[0m\u001b[1;33m.\u001b[0m\u001b[0mDataFrame\u001b[0m\u001b[1;33m(\u001b[0m\u001b[0mdata\u001b[0m\u001b[1;33m,\u001b[0m \u001b[0mcolumns\u001b[0m\u001b[1;33m=\u001b[0m\u001b[1;33m[\u001b[0m\u001b[1;34m\"Simple Random Data\"\u001b[0m\u001b[1;33m,\u001b[0m \u001b[1;34m\"Description\"\u001b[0m\u001b[1;33m]\u001b[0m\u001b[1;33m)\u001b[0m\u001b[1;33m\u001b[0m\u001b[0m\n\u001b[0m",
      "\u001b[1;32m~\\Anaconda3\\Anaconda\\lib\\site-packages\\pandas\\core\\frame.py\u001b[0m in \u001b[0;36m__init__\u001b[1;34m(self, data, index, columns, dtype, copy)\u001b[0m\n\u001b[0;32m    402\u001b[0m                                          dtype=values.dtype, copy=False)\n\u001b[0;32m    403\u001b[0m             \u001b[1;32melse\u001b[0m\u001b[1;33m:\u001b[0m\u001b[1;33m\u001b[0m\u001b[0m\n\u001b[1;32m--> 404\u001b[1;33m                 \u001b[1;32mraise\u001b[0m \u001b[0mValueError\u001b[0m\u001b[1;33m(\u001b[0m\u001b[1;34m'DataFrame constructor not properly called!'\u001b[0m\u001b[1;33m)\u001b[0m\u001b[1;33m\u001b[0m\u001b[0m\n\u001b[0m\u001b[0;32m    405\u001b[0m \u001b[1;33m\u001b[0m\u001b[0m\n\u001b[0;32m    406\u001b[0m         \u001b[0mNDFrame\u001b[0m\u001b[1;33m.\u001b[0m\u001b[0m__init__\u001b[0m\u001b[1;33m(\u001b[0m\u001b[0mself\u001b[0m\u001b[1;33m,\u001b[0m \u001b[0mmgr\u001b[0m\u001b[1;33m,\u001b[0m \u001b[0mfastpath\u001b[0m\u001b[1;33m=\u001b[0m\u001b[1;32mTrue\u001b[0m\u001b[1;33m)\u001b[0m\u001b[1;33m\u001b[0m\u001b[0m\n",
      "\u001b[1;31mValueError\u001b[0m: DataFrame constructor not properly called!"
     ]
    }
   ],
   "source": [
    "# create a table to outline the functions to be outlined in this review.\n",
    "import pandas as pd\n",
    "import numpy as np\n",
    "\n",
    "data = [['np.random.rand' , 'Generates a random value(s) '], \n",
    "        ['np.random.randint' , 'Generates an array list of random integers.'],\n",
    "        ['np.randn' , 'Generates a random normal distribution.' ],\n",
    "        ['np.random.uniform' , 'Generates a random sample from a uniform distribution.' ],            \n",
    "        ['np.random.choice' , 'Generates a random sample from a given 1-D array']],\n",
    "pd.DataFrame(data, columns=[\"Simple Random Data\", \"Description\"])"
   ]
  },
  {
   "cell_type": "code",
   "execution_count": 32,
   "metadata": {},
   "outputs": [],
   "source": [
    "# Import the numpy package\n",
    "import numpy as np"
   ]
  },
  {
   "cell_type": "code",
   "execution_count": 33,
   "metadata": {},
   "outputs": [
    {
     "data": {
      "text/plain": [
       "0.6434598921113055"
      ]
     },
     "execution_count": 33,
     "metadata": {},
     "output_type": "execute_result"
    }
   ],
   "source": [
    "# Use the random function in numpy (  # Random float:  0.0 <= x < 1.0)\n",
    "np.random.rand()"
   ]
  },
  {
   "cell_type": "code",
   "execution_count": 24,
   "metadata": {},
   "outputs": [
    {
     "data": {
      "text/plain": [
       "array([0.86540077, 0.98276959, 0.03667397, 0.03908545, 0.76306268,\n",
       "       0.97823441, 0.17552903, 0.35982625, 0.22271826, 0.33536785,\n",
       "       0.75601985, 0.55331428, 0.94986799, 0.4071542 , 0.16516529,\n",
       "       0.60760606, 0.11271274, 0.46205383, 0.1317771 , 0.04162354,\n",
       "       0.48710629, 0.31975592, 0.93366526, 0.90606962, 0.65587773,\n",
       "       0.54667384, 0.71973796, 0.16577249, 0.18804313, 0.86101582,\n",
       "       0.46772639, 0.79351625, 0.57349306, 0.75739267, 0.40925102,\n",
       "       0.49567829, 0.68850439, 0.1559254 , 0.98412105, 0.86607902,\n",
       "       0.97613959, 0.83295452, 0.71201569, 0.1956789 , 0.6733361 ,\n",
       "       0.91514592, 0.65658572, 0.0613386 , 0.23615896, 0.85161728,\n",
       "       0.89197691, 0.78387653, 0.8548011 , 0.85412558, 0.52123363,\n",
       "       0.68388397, 0.07715682, 0.76617622, 0.58191623, 0.60169632,\n",
       "       0.88423461, 0.20013454, 0.93410184, 0.40433598, 0.61056597,\n",
       "       0.64575524, 0.2727244 , 0.67405491, 0.48842212, 0.43544837,\n",
       "       0.28786624, 0.36944197, 0.55099399, 0.43400621, 0.65408598,\n",
       "       0.79803034, 0.14980369, 0.18371265, 0.08011524, 0.09417568,\n",
       "       0.24887452, 0.38511078, 0.6897537 , 0.13251993, 0.74806729,\n",
       "       0.82086757, 0.38827852, 0.25595118, 0.57871643, 0.55606781,\n",
       "       0.18724072, 0.25552766, 0.43429069, 0.31390278, 0.69675783,\n",
       "       0.8611739 , 0.24111164, 0.10220595, 0.93824736, 0.43383612])"
      ]
     },
     "execution_count": 24,
     "metadata": {},
     "output_type": "execute_result"
    }
   ],
   "source": [
    "x = np.random.rand(100)\n",
    "x"
   ]
  },
  {
   "cell_type": "code",
   "execution_count": 25,
   "metadata": {},
   "outputs": [
    {
     "data": {
      "image/png": "[encoded data removed]",
      "text/plain": [
       "<matplotlib.figure.Figure at 0x2b0e644fb00>"
      ]
     },
     "metadata": {},
     "output_type": "display_data"
    }
   ],
   "source": [
    "# import matplotlib to plot a graph\n",
    "import matplotlib.pyplot as plt\n",
    "plt.hist(x)\n",
    "plt.show() "
   ]
  },
  {
   "cell_type": "code",
   "execution_count": 10,
   "metadata": {},
   "outputs": [
    {
     "data": {
      "text/plain": [
       "array([[0.84920308, 0.36498684, 0.32061762, 0.53870806],\n",
       "       [0.17692157, 0.9393475 , 0.43894741, 0.3168346 ],\n",
       "       [0.02064503, 0.02571844, 0.72473613, 0.82102101]])"
      ]
     },
     "execution_count": 10,
     "metadata": {},
     "output_type": "execute_result"
    }
   ],
   "source": [
    "# Use a simple random function in numpy by setting values to create an array with 3 rows and 4 columns of random data.\n",
    "np.random.rand(3, 4)"
   ]
  },
  {
   "cell_type": "code",
   "execution_count": 13,
   "metadata": {},
   "outputs": [
    {
     "data": {
      "text/plain": [
       "array([[[0.76543044, 0.88532958, 0.41823159, 0.69591673, 0.03955615],\n",
       "        [0.54826296, 0.77945062, 0.29143076, 0.13689701, 0.33165336],\n",
       "        [0.40617935, 0.6837296 , 0.15354993, 0.3550244 , 0.664394  ],\n",
       "        [0.42351096, 0.12809097, 0.6593394 , 0.35520456, 0.90765768]],\n",
       "\n",
       "       [[0.23089892, 0.54948748, 0.16538508, 0.71705481, 0.7949639 ],\n",
       "        [0.16588265, 0.91959583, 0.08895381, 0.79328366, 0.00745484],\n",
       "        [0.07746707, 0.38800877, 0.11757479, 0.8249697 , 0.32115389],\n",
       "        [0.06134637, 0.33968987, 0.04397141, 0.79730144, 0.89980912]],\n",
       "\n",
       "       [[0.1834846 , 0.53848041, 0.63852182, 0.95843169, 0.56831069],\n",
       "        [0.24318898, 0.13176002, 0.2409484 , 0.97087578, 0.19076987],\n",
       "        [0.76234052, 0.05798567, 0.21435505, 0.84069302, 0.70210653],\n",
       "        [0.81172085, 0.74770495, 0.69600418, 0.90450648, 0.87552459]]])"
      ]
     },
     "execution_count": 13,
     "metadata": {},
     "output_type": "execute_result"
    }
   ],
   "source": [
    "# Use a simple random function in numpy by setting values to create an array with 3 sets of data with 4 rows in each and 5 columns of random data.\n",
    "\n",
    "np.random.rand(3, 4, 5)"
   ]
  },
  {
   "cell_type": "code",
   "execution_count": null,
   "metadata": {},
   "outputs": [],
   "source": [
    "x = np.random.rand"
   ]
  },
  {
   "cell_type": "code",
   "execution_count": 14,
   "metadata": {},
   "outputs": [
    {
     "data": {
      "text/plain": [
       "array([[3.25912672, 3.86000573, 3.64816683, 3.03381164],\n",
       "       [3.30956289, 3.93256392, 3.02405371, 3.0050986 ],\n",
       "       [3.39671306, 3.22835336, 3.10635108, 3.98686132]])"
      ]
     },
     "execution_count": 14,
     "metadata": {},
     "output_type": "execute_result"
    }
   ],
   "source": [
    "np.random.rand(3, 4) + 3"
   ]
  },
  {
   "cell_type": "code",
   "execution_count": 18,
   "metadata": {},
   "outputs": [
    {
     "data": {
      "text/plain": [
       "array([3, 9, 1, 3, 4, 9, 6, 9, 4, 7, 1, 1, 6, 1, 4, 7, 2, 2, 8, 9])"
      ]
     },
     "execution_count": 18,
     "metadata": {},
     "output_type": "execute_result"
    }
   ],
   "source": [
    "# use a simple random function in numpy to list an array of integers:\n",
    "np.random.randint(0, 10, 20)"
   ]
  },
  {
   "cell_type": "code",
   "execution_count": 31,
   "metadata": {},
   "outputs": [
    {
     "data": {
      "text/plain": [
       "array([0.61750326, 0.29389352, 0.20851485])"
      ]
     },
     "execution_count": 31,
     "metadata": {},
     "output_type": "execute_result"
    }
   ],
   "source": [
    "# randn: n referring to the normal distribution.\n",
    "np.random.randn(3)"
   ]
  },
  {
   "cell_type": "code",
   "execution_count": 34,
   "metadata": {},
   "outputs": [
    {
     "data": {
      "text/plain": [
       "array([4, 2, 2, 4, 1, 0, 0, 2, 0, 0, 1, 2, 2, 3, 4, 3, 3, 0, 1, 3])"
      ]
     },
     "execution_count": 34,
     "metadata": {},
     "output_type": "execute_result"
    }
   ],
   "source": [
    "# Return random integers from low (inclusive) to high(exclusive).\n",
    "Return random integers from the “discrete uniform” distribution of the specified dtype in the “half-open” interval [low, high). If high is None (the default), then results are from [0, low).\n",
    "np.random.randint(5, size=20)"
   ]
  },
  {
   "cell_type": "code",
   "execution_count": 41,
   "metadata": {},
   "outputs": [
    {
     "data": {
      "text/plain": [
       "array([[0, 1, 4, 3],\n",
       "       [3, 3, 2, 4],\n",
       "       [3, 1, 2, 0],\n",
       "       [2, 0, 4, 1],\n",
       "       [2, 2, 1, 3]])"
      ]
     },
     "execution_count": 41,
     "metadata": {},
     "output_type": "execute_result"
    }
   ],
   "source": [
    "# Randint creating a 5 by 4 array of ints between 0 and 4: \n",
    "np.random.randint(5, size=(5, 4))"
   ]
  },
  {
   "cell_type": "code",
   "execution_count": 15,
   "metadata": {},
   "outputs": [
    {
     "data": {
      "text/plain": [
       "array([-4.49293858,  7.20663687,  4.0094406 , -9.53500723,  4.99508228,\n",
       "       -0.57488354])"
      ]
     },
     "execution_count": 15,
     "metadata": {},
     "output_type": "execute_result"
    }
   ],
   "source": [
    "# generates random numbers from a uniform distribution (lower, higher, size)\n",
    "np.random.uniform(-10, 8, 6)"
   ]
  },
  {
   "cell_type": "code",
   "execution_count": 19,
   "metadata": {},
   "outputs": [
    {
     "data": {
      "text/plain": [
       "<function matplotlib.pyplot.show>"
      ]
     },
     "execution_count": 19,
     "metadata": {},
     "output_type": "execute_result"
    },
    {
     "data": {
      "image/png": "[encoded data removed]",
      "text/plain": [
       "<matplotlib.figure.Figure at 0x2b0e54b3e80>"
      ]
     },
     "metadata": {},
     "output_type": "display_data"
    }
   ],
   "source": [
    "import matplotlib.pyplot as plt\n",
    "\n",
    "x = np.arange(0.0, 10.0, 0.01)\n",
    "y = 3.0 * x + 1.0\n",
    "noise = np.random.normal(0.0, 1.0, len(x))\n",
    "\n",
    "plt.plot(x, y + noise, 'r.')\n",
    "plt.plot(x, y, 'b-')\n",
    "\n",
    "plt.show"
   ]
  },
  {
   "cell_type": "code",
   "execution_count": 18,
   "metadata": {},
   "outputs": [
    {
     "data": {
      "text/plain": [
       "<function matplotlib.pyplot.show>"
      ]
     },
     "execution_count": 18,
     "metadata": {},
     "output_type": "execute_result"
    },
    {
     "data": {
      "image/png": "[encoded data removed]",
      "text/plain": [
       "<matplotlib.figure.Figure at 0x2b0e62b3780>"
      ]
     },
     "metadata": {},
     "output_type": "display_data"
    }
   ],
   "source": [
    "# import matplotlib for graphs\n",
    "import matplotlib.pyplot as plt \n",
    "\n",
    "x = np.arange(0.0, 10.0, 0.01)\n",
    "y = 3.0 * x + 1.0\n",
    "noise = np.random.normal(0.0, 1.0, len(x))\n",
    "\n",
    "plt.plot(x, y + noise, 'r.', label=\"Model\")\n",
    "plt.plot(x, y, 'b-', label=\"Actual\")\n",
    "\n",
    "plt.title(\"Sample Plot\")\n",
    "plt.xlabel(\"Weight\")\n",
    "plt.ylabel(\"Mass\")\n",
    "plt.legend()\n",
    "\n",
    "plt.show"
   ]
  },
  {
   "cell_type": "code",
   "execution_count": 28,
   "metadata": {},
   "outputs": [
    {
     "data": {
      "text/plain": [
       "<function matplotlib.pyplot.show>"
      ]
     },
     "execution_count": 28,
     "metadata": {},
     "output_type": "execute_result"
    },
    {
     "data": {
      "image/png": "[encoded data removed]",
      "text/plain": [
       "<matplotlib.figure.Figure at 0x2b0e64ab860>"
      ]
     },
     "metadata": {},
     "output_type": "display_data"
    }
   ],
   "source": [
    "# plot 2 graphs \n",
    "plt.subplot(1, 2, 1)\n",
    "x =  np.random.normal(0.0, 10.0, 10000)\n",
    "plt.hist(x)\n",
    "\n",
    "plt.subplot(1, 2, 2)\n",
    "x =  np.random.uniform(-20, .2, 2000)\n",
    "plt.hist(x)\n",
    "\n",
    "\n",
    "plt.show"
   ]
  },
  {
   "cell_type": "code",
   "execution_count": 10,
   "metadata": {},
   "outputs": [
    {
     "data": {
      "text/plain": [
       "array([1, 4, 2])"
      ]
     },
     "execution_count": 10,
     "metadata": {},
     "output_type": "execute_result"
    }
   ],
   "source": [
    "# Generates a random sample from a given 1-D array\n",
    "np.random.choice(5 , 3)"
   ]
  },
  {
   "cell_type": "code",
   "execution_count": 81,
   "metadata": {},
   "outputs": [
    {
     "data": {
      "text/plain": [
       "array([4, 5, 6, 3, 9, 7, 0, 2, 8, 1])"
      ]
     },
     "execution_count": 81,
     "metadata": {},
     "output_type": "execute_result"
    }
   ],
   "source": [
    "# Modify an array sequence by shuffling its contents. Shuffles the first axis of a multi-dimensional array.\n",
    "import numpy as np\n",
    "arr = np.arange(10)\n",
    "np.random.shuffle(arr)\n",
    "arr"
   ]
  },
  {
   "cell_type": "code",
   "execution_count": 84,
   "metadata": {},
   "outputs": [
    {
     "data": {
      "text/plain": [
       "array([[ 4,  5,  6,  7],\n",
       "       [ 8,  9, 10, 11],\n",
       "       [ 0,  1,  2,  3],\n",
       "       [12, 13, 14, 15]])"
      ]
     },
     "execution_count": 84,
     "metadata": {},
     "output_type": "execute_result"
    }
   ],
   "source": [
    "arr = np.arange(16).reshape((4, 4))\n",
    "np.random.shuffle(arr)\n",
    "arr"
   ]
  },
  {
   "cell_type": "markdown",
   "metadata": {},
   "source": [
    "### Explain the use of Permutation Functions\n",
    "A permutation is the arrangement of a set of items in different order.\n",
    "Using permutation functions allows for the random permutation of a sequence, or to return a permuted range.\n",
    "First import itertools package to implement permutations method in python. This method takes a list as an \n",
    "input and return an object list of tuples that contain all permutation in a list form.\n",
    "Permutation is an arrangement of objects in a specific order. Order of arrangement of object is very important. \n",
    "The number of permutations on a set of n elements is given by  n!.  For example, there are 2! = 2*1 = 2 \n",
    "permutations of {1, 2}, namely {1, 2} and {2, 1}, and 3! = 3*2*1 = 6 permutations of {1, 2, 3}, namely {1, 2, 3}, \n",
    "{1, 3, 2}, {2, 1, 3}, {2, 3, 1}, {3, 1, 2} and {3, 2, 1}.\n"
   ]
  },
  {
   "cell_type": "code",
   "execution_count": 43,
   "metadata": {},
   "outputs": [
    {
     "name": "stdout",
     "output_type": "stream",
     "text": [
      "[(1, 2, 3), (1, 3, 2), (2, 1, 3), (2, 3, 1), (3, 1, 2), (3, 2, 1)]\n"
     ]
    }
   ],
   "source": [
    "from itertools import permutations \n",
    "x = list(permutations(range(1, 4))) \n",
    "print(x) "
   ]
  },
  {
   "cell_type": "markdown",
   "metadata": {},
   "source": [
    "You can also rearrange characters in a word to create other words. If all the n characters are unique,\n",
    "you should get n! unique permutations. You can make a list of words unique by converting it to a set."
   ]
  },
  {
   "cell_type": "code",
   "execution_count": 65,
   "metadata": {},
   "outputs": [
    {
     "name": "stdout",
     "output_type": "stream",
     "text": [
      "dog\n",
      "dgo\n",
      "odg\n",
      "ogd\n",
      "gdo\n",
      "god\n"
     ]
    }
   ],
   "source": [
    "from itertools import permutations \n",
    "for x in permutations('dog'):\n",
    "    print(\"\".join(x))"
   ]
  },
  {
   "cell_type": "code",
   "execution_count": 66,
   "metadata": {},
   "outputs": [
    {
     "data": {
      "text/plain": [
       "array([0, 3, 5, 4, 2, 1])"
      ]
     },
     "execution_count": 66,
     "metadata": {},
     "output_type": "execute_result"
    }
   ],
   "source": [
    "np.random.permutation(6)"
   ]
  },
  {
   "cell_type": "code",
   "execution_count": 74,
   "metadata": {},
   "outputs": [
    {
     "data": {
      "text/plain": [
       "array([4, 1, 8, 2, 7])"
      ]
     },
     "execution_count": 74,
     "metadata": {},
     "output_type": "execute_result"
    }
   ],
   "source": [
    "np.random.permutation([4, 7, 8, 2, 1])"
   ]
  },
  {
   "cell_type": "code",
   "execution_count": 86,
   "metadata": {},
   "outputs": [
    {
     "data": {
      "text/plain": [
       "['ab', 'ac', 'ad', 'ba', 'bc', 'bd', 'ca', 'cb', 'cd', 'da', 'db', 'dc']"
      ]
     },
     "execution_count": 86,
     "metadata": {},
     "output_type": "execute_result"
    }
   ],
   "source": [
    "# Generates the permutations for all of the elements of the set input (abcd)\n",
    "from itertools import permutations \n",
    "[\"\".join(a) for a in permutations(\"abcd\", 2)]"
   ]
  },
  {
   "cell_type": "code",
   "execution_count": 88,
   "metadata": {},
   "outputs": [
    {
     "name": "stdout",
     "output_type": "stream",
     "text": [
      "Sample =  [8 3 6 1 7 5 4 0 2]\n"
     ]
    }
   ],
   "source": [
    "sample = np.random.permutation(9)\n",
    "print(\"Sample = \", sample)"
   ]
  },
  {
   "cell_type": "code",
   "execution_count": 89,
   "metadata": {},
   "outputs": [
    {
     "name": "stdout",
     "output_type": "stream",
     "text": [
      "Permuted =  [4 0 6 2 5 3 8 7 1]\n"
     ]
    }
   ],
   "source": [
    "shuffled = np.random.permutation(sample)\n",
    "print(\"Permuted = \",shuffled)"
   ]
  },
  {
   "cell_type": "code",
   "execution_count": 90,
   "metadata": {},
   "outputs": [
    {
     "data": {
      "text/plain": [
       "array([ 5, 78,  1,  2, 39])"
      ]
     },
     "execution_count": 90,
     "metadata": {},
     "output_type": "execute_result"
    }
   ],
   "source": [
    "# Example of reshuffling an array\n",
    "np.random.permutation([1, 78, 39, 2, 5])"
   ]
  },
  {
   "cell_type": "code",
   "execution_count": 91,
   "metadata": {},
   "outputs": [
    {
     "data": {
      "text/plain": [
       "array([[0, 1, 2],\n",
       "       [3, 4, 5],\n",
       "       [6, 7, 8]])"
      ]
     },
     "execution_count": 91,
     "metadata": {},
     "output_type": "execute_result"
    }
   ],
   "source": [
    "# Create a multi dimensional array\n",
    "arr = np.arange(9).reshape((3, 3))\n",
    "arr"
   ]
  },
  {
   "cell_type": "code",
   "execution_count": 93,
   "metadata": {},
   "outputs": [
    {
     "data": {
      "text/plain": [
       "array([[6, 7, 8],\n",
       "       [0, 1, 2],\n",
       "       [3, 4, 5]])"
      ]
     },
     "execution_count": 93,
     "metadata": {},
     "output_type": "execute_result"
    }
   ],
   "source": [
    "# Example of reshuffling a multidimensional array \n",
    "np.random.permutation(arr)"
   ]
  },
  {
   "cell_type": "markdown",
   "metadata": {},
   "source": [
    "## Question 3: Explain the use and purpose of at least five “Distributions” functions."
   ]
  },
  {
   "cell_type": "code",
   "execution_count": null,
   "metadata": {},
   "outputs": [],
   "source": [
    "### A probabillity disctibution is a mathematical function that can provide the probability of occurence of different outcomes.\n",
    "\n",
    "#Continuous Distributions e.g normal (every normal density is non zero for all real numbers)\n",
    "#Multivariate Distributions\n",
    "#Discrete Distributions\n",
    "#Statistical Distributions\n",
    "#Contingency table functions"
   ]
  },
  {
   "cell_type": "code",
   "execution_count": null,
   "metadata": {},
   "outputs": [],
   "source": [
    "###Types of Distributions\n",
    "#Binominal (is a discrete distribution having two parameters viz. sample size (n) and probability of success (p).)\n",
    "#Poisson (used to model events which take place continuously and at any given time independent of each other)\n",
    "#Normal (s a continuous distribution. It has the shape of a bell shaped curve.)\n",
    "#Exponential ()\n",
    "#Uniform"
   ]
  },
  {
   "cell_type": "markdown",
   "metadata": {},
   "source": [
    "## Binomial distribution\n",
    "#### Binomial distribution is the discrete probability distribution of the number of successes in a sequence of n independent binary (yes/no) experiments, each of which yields success with probability p. Such a success/failure experiment is also called a Bernoulli experiment or Bernoulli trial.  In fact, when n = 1, the binomial distribution is a Bernoulli distribution."
   ]
  },
  {
   "cell_type": "markdown",
   "metadata": {},
   "source": [
    "## Poisson distribution\n",
    "#### Poisson distribution is a discrete probability distribution that expresses the probability of a number of events occurring in a fixed period of time if these events occur with a known average rate and independently of the time since the last event.  For example, if you receive 3 calls on average between 8am-5pm each day, then the number of calls you will receive tomorrow between 8am-5pm should follow a Poisson distribution with parameter 3 λ = .  This is under the assumption that the chance to receive a call at any time point between 8am-5pm is the same. "
   ]
  },
  {
   "cell_type": "markdown",
   "metadata": {},
   "source": [
    "## Exponential distributions\n",
    "#### Exponential distributions are a class of continuous probability distribution. An exponential distribution arises naturally when modeling the time between independent events that happen at a constant average rate.  For example, if you receive 3 calls on average between 8am-5pm each day, then the hours you wait for the first call since 8am tomorrow should follow an exponential distribution with parameter 3 /9 1/3 calls hrs λ = = .  The average time you wait for the new call since last call is the expectation of the distribution: 1/ 3hrs λ = "
   ]
  },
  {
   "cell_type": "markdown",
   "metadata": {},
   "source": [
    "## Uniform Distribution\n",
    "### Discrete uniform distribution\n",
    "#### Discrete uniform distribution is a discrete probability distribution: If a random variable has any of n possible values k1, k2, …, kn that are equally probable, then it has a discrete uniform distribution. The probability of any outcome ki  is 1/n. A simple example of the discrete uniform distribution is throwing a fair die. The possible values of k are 1, 2, 3, 4, 5, 6; and each time the die is thrown, the probability of a given score is 1/6. \n",
    "### Continuous uniform distribution\n",
    "#### Continuous uniform distribution is a family of probability distributions such that for each member of the family, all intervals of the same length on the distribution's support are equally probable. The support is defined by the two parameters, a and b, which are its minimum and maximum values. The distribution is often abbreviated U(a,b), e.g.,  U(0,1) is a member of this family and so is U(1,2)."
   ]
  },
  {
   "cell_type": "code",
   "execution_count": null,
   "metadata": {},
   "outputs": [],
   "source": []
  }
 ],
 "metadata": {
  "kernelspec": {
   "display_name": "Python 3",
   "language": "python",
   "name": "python3"
  },
  "language_info": {
   "codemirror_mode": {
    "name": "ipython",
    "version": 3
   },
   "file_extension": ".py",
   "mimetype": "text/x-python",
   "name": "python",
   "nbconvert_exporter": "python",
   "pygments_lexer": "ipython3",
   "version": "3.6.4"
  }
 },
 "nbformat": 4,
 "nbformat_minor": 2
}
