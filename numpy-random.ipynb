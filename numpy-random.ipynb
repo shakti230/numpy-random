{
 "cells": [
  {
   ![image]("https://user-images.githubusercontent.com/36244887/48290610-690ea080-e46b-11e8-85b7-5a05ac318afd.JPG")}
   },
   "cell_type": "markdown",
   "metadata": {},
   "source": [
    "# Mary McDonagh\n",
    "# Programming for Data Analysis - Assignment 2018\n",
    "# numpy.random package in Python\n",
    "![image.png](attachment:image.png)"
   ]
  },
  {
   "cell_type": "markdown",
   "metadata": {},
   "source": [
    "### Table of Contents\n",
    "- 1.0 Investigation\n",
    "- 2.0 Question 1: Explain the overall purpose of the package.\n",
    "- 3.0 Question 2: Explain the use of the \"Simple Random Data\" and the Permutations functions.\n",
    "- 4.0 Question 3: Explain the use and purpose of at least five “Distributions” functions.\n",
    "- 5.0 Question 4:Explain the use of seeds in generating pseudorandom numbers.\n",
    "- 6.0 Summary\n",
    "- 7.0 References"
   ]
  },
  {
   "cell_type": "markdown",
   "metadata": {},
   "source": [
    "### 1.0 Investigation\n",
    "\n",
    "Write some Python code to investigate numpy.\n",
    "\n",
    "Initial steps carried out:\n",
    "\n",
    "- Research the backgroud of the package\n",
    "- Research simple random data, permutation functions, distributions and the use of seeds.\n",
    "- Import required libraries \n",
    "\n",
    "Some of the popular libraries used for simple random data anslysis, permutations, distributions and seeds include the following:\n",
    "- numpy\n",
    "- Matplotlib\n",
    "- Seaborn\n",
    "- Pandas\n",
    "- Plotly"
   ]
  },
  {
   "cell_type": "markdown",
   "metadata": {},
   "source": [
    "## Question 1: Explain the overall purpose of the package"
   ]
  },
  {
   "cell_type": "markdown",
   "metadata": {},
   "source": [
    "NumPy is the fundamental package for scientific computing with Python. It contains among other things:\n",
    "\n",
    "- a powerful N-dimensional array object    \n",
    "- sophisticated (broadcasting) functions\n",
    "- tools for integrating C/C++ and Fortran code\n",
    "- useful linear algebra, Fourier transform, and random number capabilities\n",
    "\n",
    "NumPy array is a central data structure of the numpy library. An array contains information about raw data, how to locate and interpret elements. Numpy is an open source add ón to python and provides fast functions for pre compiled mathematical and numerical routines. The NumPy (Numeric Python) package allows for basic routines for manipulating large arrays and matrices of numeric data.\n",
    "\n",
    "Python supports real numbers and integers. It allows us to create complicated data structures with lists/sets. It is very easy to write algorithms to solve scientific problems. Python is a dynamic language where almost all functions and operators are polymorphic. Python doesn't understand what has to be done on a hardware level. As a result this rules out any optimisations that can be made by rearranging operations to take advantage of how they are stored in memory and cache.\n",
    "\n",
    "Polymorphism is one property of Python that causes a problem. Python needs to check the operands of any operator or function to see what type it is, decide whether this particular function can handle the data types, then use the correct form of the operand/function to do the actual operation. Generally this would not be an issue as computers run very fast. Saying this, in many scientific algorithms, this means applying the same operations to thousands or even millions of data points. Numpy comes in very useful at this point. Numpy adds extra overloading functions for the common operators and functions to help optimize uses of arrays. NumPY also uses external standard, optimized libraries written in C or FORTRAN to handle many of the actual manipulations on these array data types. This is handled by libraries like BLAS or lapack. Python simply does an initial check of each of the arrays and then hands them as a single object to the external library. The external library does all of the hard work and outputs a single object containing the result. This removes the need for Python to check each element of code. NumPY module provides an excellent foundation allowing the use of complex scientific workflows.\n",
    "\n",
    "NumPy is the basic package for scientific computing in Python that provides multi-dimensional arrays and matrices, broadcasting functions, tools for integrating C/C++, Fortran code, mathematical, logical, shape manipulation, sorting, selecting, I/O, useful linear algebra, Fourier transform, random number capabilities, basic statistical operations and much more. NumPy can be used as an efficient multi-dimensional container of generic data and it is licensed under the BSD license. The Mayavi package basically integrates seamlessly with numpy and scipy for 3D plotting and can even be used in IPython interactively, similarly to Matplotlib. The h5py : The h5py package is a Pythonic interface to the HDF5 binary data format that uses straightforward NumPy as well as Python metaphors, such as dictionary and NumPy array syntax. PyTables : PyTables is a package for managing hierarchical datasets as well as designed to efficiently and easily cope with extremely large amounts of data. PyTables is built on top of the HDF5 library, that using Python language and the NumPy package.\n",
    "\n",
    "One of NumPy’s very important goals is compatibility, which tries to retain all features supported by either of its predecessors. NumPy contains few linear algebra functions, even though these more properly belong in SciPy. SciPy contains more fully-featured versions of the linear algebra modules, and many other numerical algorithms.\n"
   ]
  },
  {
   "cell_type": "markdown",
   "metadata": {},
   "source": [
    "## Question 2: Explain the use of the \"Simple Random Data\" and the Permutations functions."
   ]
  },
  {
   "cell_type": "markdown",
   "metadata": {},
   "source": [
    "### Using np.random functions to generate simple data\n",
    "The examples below outline the use of random functions to generate random numbers based on the paremeters set. Most functions depend on the basic function random() , which generates a random float uniformly in the semi-open range 0.0, 1.0. Python uses the Mersenne twister as the core generator. The Mersenne Twister is one of the most extensively tested random number generators in existence."
   ]
  },
  {
   "cell_type": "markdown",
   "metadata": {},
   "source": [
    "Display a table to show the simple random data functions and the description of each."
   ]
  },
  {
   "cell_type": "code",
   "execution_count": 3,
   "metadata": {},
   "outputs": [
    {
     "data": {
      "text/html": [
       "<div>\n",
       "<style scoped>\n",
       "    .dataframe tbody tr th:only-of-type {\n",
       "        vertical-align: middle;\n",
       "    }\n",
       "\n",
       "    .dataframe tbody tr th {\n",
       "        vertical-align: top;\n",
       "    }\n",
       "\n",
       "    .dataframe thead th {\n",
       "        text-align: right;\n",
       "    }\n",
       "</style>\n",
       "<table border=\"1\" class=\"dataframe\">\n",
       "  <thead>\n",
       "    <tr style=\"text-align: right;\">\n",
       "      <th></th>\n",
       "      <th>Simple random data</th>\n",
       "      <th>Description</th>\n",
       "    </tr>\n",
       "  </thead>\n",
       "  <tbody>\n",
       "    <tr>\n",
       "      <th>0</th>\n",
       "      <td>np.random.rand</td>\n",
       "      <td>Generates random values of given shape.</td>\n",
       "    </tr>\n",
       "    <tr>\n",
       "      <th>1</th>\n",
       "      <td>np.random.randint</td>\n",
       "      <td>Returns random integers from low to high.</td>\n",
       "    </tr>\n",
       "    <tr>\n",
       "      <th>2</th>\n",
       "      <td>np.randn</td>\n",
       "      <td>Generates a random normal distribution.</td>\n",
       "    </tr>\n",
       "    <tr>\n",
       "      <th>3</th>\n",
       "      <td>np.random.uniform</td>\n",
       "      <td>Sample generated from a uniform distribution.</td>\n",
       "    </tr>\n",
       "    <tr>\n",
       "      <th>4</th>\n",
       "      <td>np.random.choice</td>\n",
       "      <td>Sample generated from a given 1-D array.</td>\n",
       "    </tr>\n",
       "    <tr>\n",
       "      <th>5</th>\n",
       "      <td>np.random.shuffle</td>\n",
       "      <td>Modifies the sequence by shuffling its contents.</td>\n",
       "    </tr>\n",
       "  </tbody>\n",
       "</table>\n",
       "</div>"
      ],
      "text/plain": [
       "  Simple random data                                       Description\n",
       "0     np.random.rand           Generates random values of given shape.\n",
       "1  np.random.randint         Returns random integers from low to high.\n",
       "2           np.randn           Generates a random normal distribution.\n",
       "3  np.random.uniform     Sample generated from a uniform distribution.\n",
       "4   np.random.choice          Sample generated from a given 1-D array.\n",
       "5  np.random.shuffle  Modifies the sequence by shuffling its contents."
      ]
     },
     "execution_count": 3,
     "metadata": {},
     "output_type": "execute_result"
    }
   ],
   "source": [
    "import pandas as pd\n",
    "data = [['np.random.rand','Generates random values of given shape.'], \n",
    "        ['np.random.randint','Returns random integers from low to high.'],\n",
    "        ['np.randn','Generates a random normal distribution.' ],\n",
    "        ['np.random.uniform','Sample generated from a uniform distribution.' ],  \n",
    "        ['np.random.choice','Sample generated from a given 1-D array.'],\n",
    "       ['np.random.shuffle', 'Modifies the sequence by shuffling its contents.']]\n",
    "pd.DataFrame(data, columns=[\"Simple random data\", \"Description\"])"
   ]
  },
  {
   "cell_type": "code",
   "execution_count": 4,
   "metadata": {},
   "outputs": [],
   "source": [
    "# Import the numpy package\n",
    "import numpy as np"
   ]
  },
  {
   "cell_type": "markdown",
   "metadata": {},
   "source": [
    "#### Random.random()\n",
    "This is the basic way to create a random number(s) which will be imported from the random module."
   ]
  },
  {
   "cell_type": "code",
   "execution_count": 5,
   "metadata": {},
   "outputs": [
    {
     "data": {
      "text/plain": [
       "0.8049714548195381"
      ]
     },
     "execution_count": 5,
     "metadata": {},
     "output_type": "execute_result"
    }
   ],
   "source": [
    "# Use the random function in numpy (  # Random float:  0.0 <= x < 1.0)\n",
    "# random.random() returns the next random floating point number in the range [0.0, 1.0).\n",
    "# a single float will be the output if no argument is defined.\n",
    "np.random.rand()"
   ]
  },
  {
   "cell_type": "markdown",
   "metadata": {},
   "source": [
    "In machine learning we can use libraries such as scikit-learn and Keras. Using these libraries make use of NumPy, which is a very efficient library when working with vectors and matrices of numbers. NumPy also has its own implementation of a pseudorandom number generator and convenience wrapper functions. NumPy also implements the Mersenne Twister pseudorandom number generator."
   ]
  },
  {
   "cell_type": "code",
   "execution_count": 6,
   "metadata": {},
   "outputs": [
    {
     "data": {
      "text/plain": [
       "array([3.63471241e-04, 3.06394508e-01, 1.54188931e-01, 8.90749219e-01,\n",
       "       4.15717950e-01])"
      ]
     },
     "execution_count": 6,
     "metadata": {},
     "output_type": "execute_result"
    }
   ],
   "source": [
    "# Create a 1D array\n",
    "np.random.rand(5)"
   ]
  },
  {
   "cell_type": "code",
   "execution_count": 7,
   "metadata": {},
   "outputs": [
    {
     "data": {
      "text/plain": [
       "array([[0.9130533 , 0.19614135],\n",
       "       [0.7493673 , 0.94835547],\n",
       "       [0.73254766, 0.68197721]])"
      ]
     },
     "execution_count": 7,
     "metadata": {},
     "output_type": "execute_result"
    }
   ],
   "source": [
    "# Create a 2D array\n",
    "# Use a simple random function in numpy by setting values to create an array with 3 rows and 2 columns of random data.\n",
    "np.random.rand(3, 2)"
   ]
  },
  {
   "cell_type": "code",
   "execution_count": 6,
   "metadata": {
    "scrolled": true
   },
   "outputs": [
    {
     "data": {
      "text/plain": [
       "array([[0.62037717, 0.62329214, 0.81521343, 0.81478059],\n",
       "       [0.33778278, 0.81295036, 0.94827048, 0.17030383],\n",
       "       [0.58024849, 0.94107027, 0.15841619, 0.92230211]])"
      ]
     },
     "execution_count": 6,
     "metadata": {},
     "output_type": "execute_result"
    }
   ],
   "source": [
    "# Use a simple random function in numpy by setting values to create an array with 3 rows and 4 columns of random data.\n",
    "import numpy as np\n",
    "np.random.rand(3, 4)"
   ]
  },
  {
   "cell_type": "code",
   "execution_count": 8,
   "metadata": {},
   "outputs": [
    {
     "data": {
      "text/plain": [
       "array([[[0.7641413 , 0.35916858],\n",
       "        [0.05360667, 0.40886018]],\n",
       "\n",
       "       [[0.35139341, 0.66013656],\n",
       "        [0.13342679, 0.51347319]],\n",
       "\n",
       "       [[0.58961022, 0.19239563],\n",
       "        [0.68682527, 0.66106053]]])"
      ]
     },
     "execution_count": 8,
     "metadata": {},
     "output_type": "execute_result"
    }
   ],
   "source": [
    "# Create a 3D array\n",
    "np.random.rand(3, 2, 2)"
   ]
  },
  {
   "cell_type": "code",
   "execution_count": 20,
   "metadata": {},
   "outputs": [
    {
     "name": "stdout",
     "output_type": "stream",
     "text": [
      "[[[5.84763038e-01 2.02976715e-01 6.87070201e-01]\n",
      "  [3.65327607e-02 8.11746984e-01 3.48927082e-01]\n",
      "  [2.11288285e-01 5.39528196e-04 7.88791758e-01]]\n",
      "\n",
      " [[6.19415540e-01 1.21836408e-01 1.53446978e-01]\n",
      "  [4.02598817e-01 2.83738482e-01 4.07223091e-01]\n",
      "  [7.51015902e-01 4.48356796e-01 4.60034185e-01]]\n",
      "\n",
      " [[5.18144234e-01 2.90678555e-01 9.44121761e-01]\n",
      "  [9.64408666e-01 5.54696322e-01 1.95098184e-01]\n",
      "  [5.30336471e-01 1.63101966e-01 6.35840077e-01]]]\n"
     ]
    }
   ],
   "source": [
    "# Create a 3x3 array with random values\n",
    "x = np.random.random((3,3,3))\n",
    "print(x)"
   ]
  },
  {
   "cell_type": "code",
   "execution_count": 21,
   "metadata": {},
   "outputs": [
    {
     "name": "stdout",
     "output_type": "stream",
     "text": [
      "0.013928171204602657 0.9070049707597532\n"
     ]
    }
   ],
   "source": [
    "# Create a 10x10 array with random values and show the minimum and maximum values\n",
    "x = np.random.random((10,10))\n",
    "xmin, xmax = x.min(), x.max()\n",
    "print(xmin, xmax)"
   ]
  },
  {
   "cell_type": "code",
   "execution_count": 22,
   "metadata": {},
   "outputs": [
    {
     "name": "stdout",
     "output_type": "stream",
     "text": [
      "0.4811550867638397\n"
     ]
    }
   ],
   "source": [
    "# Create a random vector of size 20 and show the mean value\n",
    "x = np.random.random(20)\n",
    "m = x.mean()\n",
    "print(m)"
   ]
  },
  {
   "cell_type": "code",
   "execution_count": 23,
   "metadata": {},
   "outputs": [
    {
     "name": "stdout",
     "output_type": "stream",
     "text": [
      "[[ 5  6  7  8  9]\n",
      " [ 0  1  2  3  4]\n",
      " [10 11 12 13 14]\n",
      " [15 16 17 18 19]\n",
      " [20 21 22 23 24]]\n"
     ]
    }
   ],
   "source": [
    "# Swop two rows in an array. Author: Eelco Hoogendoorn\n",
    "A = np.arange(25).reshape(5,5)\n",
    "A[[0,1]] = A[[1,0]]\n",
    "print(A)"
   ]
  },
  {
   "cell_type": "code",
   "execution_count": 24,
   "metadata": {},
   "outputs": [
    {
     "name": "stdout",
     "output_type": "stream",
     "text": [
      "[0. 0. 0. 0. 0. 0. 0. 0. 0. 0.]\n"
     ]
    }
   ],
   "source": [
    "#create a null vector of size 10\n",
    "import numpy as np\n",
    "x = np.zeros(10)\n",
    "print(x)"
   ]
  },
  {
   "cell_type": "code",
   "execution_count": 25,
   "metadata": {},
   "outputs": [
    {
     "name": "stdout",
     "output_type": "stream",
     "text": [
      "[ 0.  0.  0.  0.  0. 12.  0.  0.  0.  0.]\n"
     ]
    }
   ],
   "source": [
    "# update the 5th value to 12\n",
    "x[5]=12\n",
    "print(x)"
   ]
  },
  {
   "cell_type": "code",
   "execution_count": 26,
   "metadata": {},
   "outputs": [
    {
     "name": "stdout",
     "output_type": "stream",
     "text": [
      "[49 48 47 46 45 44 43 42 41 40 39 38 37 36 35 34 33 32 31 30 29 28 27 26\n",
      " 25 24 23 22 21 20 19 18 17 16 15 14 13 12 11 10  9  8  7  6  5  4  3  2\n",
      "  1  0]\n"
     ]
    }
   ],
   "source": [
    "# reverse a vector making the first element the last\n",
    "x = np.arange(50)\n",
    "x = x[::-1]\n",
    "print(x)"
   ]
  },
  {
   "cell_type": "code",
   "execution_count": 24,
   "metadata": {},
   "outputs": [
    {
     "data": {
      "text/plain": [
       "array([0.86540077, 0.98276959, 0.03667397, 0.03908545, 0.76306268,\n",
       "       0.97823441, 0.17552903, 0.35982625, 0.22271826, 0.33536785,\n",
       "       0.75601985, 0.55331428, 0.94986799, 0.4071542 , 0.16516529,\n",
       "       0.60760606, 0.11271274, 0.46205383, 0.1317771 , 0.04162354,\n",
       "       0.48710629, 0.31975592, 0.93366526, 0.90606962, 0.65587773,\n",
       "       0.54667384, 0.71973796, 0.16577249, 0.18804313, 0.86101582,\n",
       "       0.46772639, 0.79351625, 0.57349306, 0.75739267, 0.40925102,\n",
       "       0.49567829, 0.68850439, 0.1559254 , 0.98412105, 0.86607902,\n",
       "       0.97613959, 0.83295452, 0.71201569, 0.1956789 , 0.6733361 ,\n",
       "       0.91514592, 0.65658572, 0.0613386 , 0.23615896, 0.85161728,\n",
       "       0.89197691, 0.78387653, 0.8548011 , 0.85412558, 0.52123363,\n",
       "       0.68388397, 0.07715682, 0.76617622, 0.58191623, 0.60169632,\n",
       "       0.88423461, 0.20013454, 0.93410184, 0.40433598, 0.61056597,\n",
       "       0.64575524, 0.2727244 , 0.67405491, 0.48842212, 0.43544837,\n",
       "       0.28786624, 0.36944197, 0.55099399, 0.43400621, 0.65408598,\n",
       "       0.79803034, 0.14980369, 0.18371265, 0.08011524, 0.09417568,\n",
       "       0.24887452, 0.38511078, 0.6897537 , 0.13251993, 0.74806729,\n",
       "       0.82086757, 0.38827852, 0.25595118, 0.57871643, 0.55606781,\n",
       "       0.18724072, 0.25552766, 0.43429069, 0.31390278, 0.69675783,\n",
       "       0.8611739 , 0.24111164, 0.10220595, 0.93824736, 0.43383612])"
      ]
     },
     "execution_count": 24,
     "metadata": {},
     "output_type": "execute_result"
    }
   ],
   "source": [
    "# Set the parameter of 100 to define te dimensions of the array\n",
    "x = np.random.rand(100)\n",
    "x"
   ]
  },
  {
   "cell_type": "code",
   "execution_count": 14,
   "metadata": {},
   "outputs": [
    {
     "data": {
      "image/png": "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\n",
      "text/plain": [
       "<matplotlib.figure.Figure at 0x2ac32a95908>"
      ]
     },
     "metadata": {},
     "output_type": "display_data"
    }
   ],
   "source": [
    "# import matplotlib to plot a graph\n",
    "import matplotlib.pyplot as plt\n",
    "import numpy as np\n",
    "x = plt.hist(np.random.rand(100))\n",
    "plt.show()"
   ]
  },
  {
   "cell_type": "markdown",
   "metadata": {},
   "source": [
    "Using the matplotlib package above allows for the creation of a graph. It has plotted the random data generated from the .rand function. The random numbers are generated across the plot."
   ]
  },
  {
   "cell_type": "code",
   "execution_count": 15,
   "metadata": {},
   "outputs": [
    {
     "name": "stdout",
     "output_type": "stream",
     "text": [
      "[[0.57223788 1.         0.66306175 0.         0.66262592]\n",
      " [0.47921363 0.8544876  0.43021538 0.09753426 0.69014733]\n",
      " [0.47824371 0.30896032 0.40947359 0.24555078 0.76279143]\n",
      " [0.07421018 0.64466399 0.8477277  0.32922389 0.42274363]\n",
      " [0.94338165 0.52829323 0.48272391 0.2286424  0.91006357]]\n"
     ]
    }
   ],
   "source": [
    "# Normalise a 5x5 random matrix\n",
    "x = np.random.random((5,5))\n",
    "xmax, xmin = x.max(), x.min()\n",
    "x = (x - xmin)/(xmax - xmin)\n",
    "print(x)"
   ]
  },
  {
   "cell_type": "code",
   "execution_count": 26,
   "metadata": {},
   "outputs": [
    {
     "name": "stdout",
     "output_type": "stream",
     "text": [
      "[0.03104232 0.25998345 0.27770799 0.27902061 0.32969548 0.62796397\n",
      " 0.72135428 0.76010992 0.78164068 0.91131259]\n"
     ]
    }
   ],
   "source": [
    "# Create a random array of size 10 and sort it\n",
    "x = np.random.random(10)\n",
    "x.sort()\n",
    "print(x)"
   ]
  },
  {
   "cell_type": "code",
   "execution_count": null,
   "metadata": {},
   "outputs": [],
   "source": [
    "x = np.random.rand"
   ]
  },
  {
   "cell_type": "code",
   "execution_count": 14,
   "metadata": {},
   "outputs": [
    {
     "data": {
      "text/plain": [
       "array([[3.25912672, 3.86000573, 3.64816683, 3.03381164],\n",
       "       [3.30956289, 3.93256392, 3.02405371, 3.0050986 ],\n",
       "       [3.39671306, 3.22835336, 3.10635108, 3.98686132]])"
      ]
     },
     "execution_count": 14,
     "metadata": {},
     "output_type": "execute_result"
    }
   ],
   "source": [
    "np.random.rand(3, 4) + 3"
   ]
  },
  {
   "cell_type": "markdown",
   "metadata": {},
   "source": [
    "### Using Randint"
   ]
  },
  {
   "cell_type": "code",
   "execution_count": 18,
   "metadata": {},
   "outputs": [
    {
     "data": {
      "text/plain": [
       "array([3, 9, 1, 3, 4, 9, 6, 9, 4, 7, 1, 1, 6, 1, 4, 7, 2, 2, 8, 9])"
      ]
     },
     "execution_count": 18,
     "metadata": {},
     "output_type": "execute_result"
    }
   ],
   "source": [
    "# use a simple random randint function in numpy to list an array of integers.\n",
    "# display in the range of 0-10 with 20 digits displayed.\n",
    "np.random.randint(0, 10, 20)"
   ]
  },
  {
   "cell_type": "code",
   "execution_count": 65,
   "metadata": {},
   "outputs": [
    {
     "data": {
      "text/plain": [
       "array([[3, 3, 5],\n",
       "       [5, 5, 2],\n",
       "       [4, 4, 6],\n",
       "       [2, 5, 6],\n",
       "       [5, 2, 1],\n",
       "       [6, 6, 4],\n",
       "       [2, 5, 1],\n",
       "       [2, 5, 2],\n",
       "       [2, 3, 6],\n",
       "       [1, 4, 6]])"
      ]
     },
     "execution_count": 65,
     "metadata": {},
     "output_type": "execute_result"
    }
   ],
   "source": [
    "# Use a simple random function to list an array of random integers in the range 1-7 with 10 rows and 3 columns.\n",
    "x = np.random.randint(1, 7, (10,3))\n",
    "x"
   ]
  },
  {
   "cell_type": "code",
   "execution_count": 66,
   "metadata": {},
   "outputs": [
    {
     "data": {
      "text/plain": [
       "(10, 3)"
      ]
     },
     "execution_count": 66,
     "metadata": {},
     "output_type": "execute_result"
    }
   ],
   "source": [
    "# x was defined in the previous input. Now I will use shape to define how many rows and columns exist in x.\n",
    "x.shape"
   ]
  },
  {
   "cell_type": "code",
   "execution_count": null,
   "metadata": {},
   "outputs": [],
   "source": [
    "x = np.sum(x, axis=2)"
   ]
  },
  {
   "cell_type": "code",
   "execution_count": 60,
   "metadata": {},
   "outputs": [
    {
     "data": {
      "image/png": "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\n",
      "text/plain": [
       "<matplotlib.figure.Figure at 0x225bd92dc18>"
      ]
     },
     "metadata": {},
     "output_type": "display_data"
    }
   ],
   "source": [
    "# Plot a histogram to display x output.\n",
    "plt.hist(x);"
   ]
  },
  {
   "cell_type": "code",
   "execution_count": 41,
   "metadata": {},
   "outputs": [
    {
     "data": {
      "text/plain": [
       "104"
      ]
     },
     "execution_count": 41,
     "metadata": {},
     "output_type": "execute_result"
    }
   ],
   "source": [
    "# Calculate the sum of x.\n",
    "np.sum(x)"
   ]
  },
  {
   "cell_type": "code",
   "execution_count": 44,
   "metadata": {},
   "outputs": [
    {
     "data": {
      "text/plain": [
       "array([47, 29, 47])"
      ]
     },
     "execution_count": 44,
     "metadata": {},
     "output_type": "execute_result"
    }
   ],
   "source": [
    "# Calculate the sum of the rows\n",
    "np.sum(x, axis=0)"
   ]
  },
  {
   "cell_type": "code",
   "execution_count": 45,
   "metadata": {},
   "outputs": [
    {
     "data": {
      "text/plain": [
       "array([16,  9, 10, 13, 14, 14, 10, 12, 12, 13])"
      ]
     },
     "execution_count": 45,
     "metadata": {},
     "output_type": "execute_result"
    }
   ],
   "source": [
    "# Calclate the sum of the columns\n",
    "np.sum(x, axis=1)"
   ]
  },
  {
   "cell_type": "code",
   "execution_count": 46,
   "metadata": {},
   "outputs": [
    {
     "data": {
      "text/plain": [
       "array([16,  9, 10, 13, 14, 14, 10, 12, 12, 13])"
      ]
     },
     "execution_count": 46,
     "metadata": {},
     "output_type": "execute_result"
    }
   ],
   "source": [
    "y = np.sum(x, axis=1)\n",
    "y"
   ]
  },
  {
   "attachments": {
    "image.png": {
     "image/png": "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"
    }
   },
   "cell_type": "markdown",
   "metadata": {},
   "source": [
    "### Data Visualisation\n",
    "![image.png](attachment:image.png)"
   ]
  },
  {
   "cell_type": "markdown",
   "metadata": {},
   "source": [
    "Matplotlib produces high quality figures in a variety of formats across Python platforms. In addition to this Pandas comes equipped with useful \"wrappers\" around several matplotlib plotting routines, which enables quick plotting of Series and DataFrame objects. The matplotlib library supports a large number of plot types useful for data visualization. Some common types of of plot types include: scatter plots, bar plots, contour plots, and histograms. A scatter plot is used to visualize the relationship between variables measured in the same dataset. It is easy to plot a simple scatter plot, using the plt.scatter() function, that requires numeric columns for both the x and y axis:\n"
   ]
  },
  {
   "cell_type": "code",
   "execution_count": 12,
   "metadata": {},
   "outputs": [
    {
     "data": {
      "image/png": "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\n",
      "text/plain": [
       "<matplotlib.figure.Figure at 0x201d438b048>"
      ]
     },
     "metadata": {},
     "output_type": "display_data"
    }
   ],
   "source": [
    "# import matplotlib to plot a graph\n",
    "import matplotlib.pyplot as plt\n",
    "X = np.random.normal(0, 1, 1000)\n",
    "Y = np.random.normal(0, 1, 1000)\n",
    "plt.scatter(X, Y, c = ['b', 'g', 'k', 'r', 'c'])\n",
    "plt.show()"
   ]
  },
  {
   "cell_type": "code",
   "execution_count": 25,
   "metadata": {},
   "outputs": [
    {
     "data": {
      "image/png": "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\n",
      "text/plain": [
       "<matplotlib.figure.Figure at 0x2b0e644fb00>"
      ]
     },
     "metadata": {},
     "output_type": "display_data"
    }
   ],
   "source": [
    "# import matplotlib to plot a graph\n",
    "import matplotlib.pyplot as plt\n",
    "plt.hist(x)\n",
    "plt.show() "
   ]
  },
  {
   "cell_type": "code",
   "execution_count": 49,
   "metadata": {},
   "outputs": [
    {
     "data": {
      "image/png": "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\n",
      "text/plain": [
       "<matplotlib.figure.Figure at 0x225bc551c50>"
      ]
     },
     "metadata": {},
     "output_type": "display_data"
    }
   ],
   "source": [
    "import matplotlib.pyplot as plt\n",
    "x = np.random.randint(1,7, (100,10))\n",
    "y = np.sum(x, axis=1)\n",
    "plt.hist(y);"
   ]
  },
  {
   "cell_type": "code",
   "execution_count": 51,
   "metadata": {},
   "outputs": [
    {
     "data": {
      "image/png": "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\n",
      "text/plain": [
       "<matplotlib.figure.Figure at 0x225bc710d30>"
      ]
     },
     "metadata": {},
     "output_type": "display_data"
    }
   ],
   "source": [
    "x = np.random.randint(1,7, (100000,10))\n",
    "y = np.sum(x, axis=1)\n",
    "plt.hist(y);"
   ]
  },
  {
   "cell_type": "markdown",
   "metadata": {},
   "source": [
    "### Using Randn\n",
    "#### Using randn to return a random sample for the normal distribution\n",
    "randn will generate a random sample from the normal distributionn set of data. A normal distribution has a mean of 0 and a standard deviation of 1. "
   ]
  },
  {
   "cell_type": "code",
   "execution_count": 31,
   "metadata": {},
   "outputs": [
    {
     "data": {
      "text/plain": [
       "array([0.61750326, 0.29389352, 0.20851485])"
      ]
     },
     "execution_count": 31,
     "metadata": {},
     "output_type": "execute_result"
    }
   ],
   "source": [
    "# Return a sample for the standard normal distribution. n referring to the normal distribution.\n",
    "np.random.randn(3)"
   ]
  },
  {
   "cell_type": "code",
   "execution_count": 34,
   "metadata": {},
   "outputs": [
    {
     "data": {
      "text/plain": [
       "array([4, 2, 2, 4, 1, 0, 0, 2, 0, 0, 1, 2, 2, 3, 4, 3, 3, 0, 1, 3])"
      ]
     },
     "execution_count": 34,
     "metadata": {},
     "output_type": "execute_result"
    }
   ],
   "source": [
    "# Return random integers from low (inclusive) to high(exclusive).\n",
    "Return random integers from the “discrete uniform” distribution of the specified dtype in the “half-open” interval [low, high). If high is None (the default), then results are from [0, low).\n",
    "np.random.randint(5, size=20)"
   ]
  },
  {
   "cell_type": "code",
   "execution_count": 41,
   "metadata": {},
   "outputs": [
    {
     "data": {
      "text/plain": [
       "array([[0, 1, 4, 3],\n",
       "       [3, 3, 2, 4],\n",
       "       [3, 1, 2, 0],\n",
       "       [2, 0, 4, 1],\n",
       "       [2, 2, 1, 3]])"
      ]
     },
     "execution_count": 41,
     "metadata": {},
     "output_type": "execute_result"
    }
   ],
   "source": [
    "# Randint creating a 5 by 4 array of ints between 0 and 4: \n",
    "np.random.randint(5, size=(5, 4))"
   ]
  },
  {
   "cell_type": "code",
   "execution_count": 19,
   "metadata": {},
   "outputs": [
    {
     "data": {
      "text/plain": [
       "<function matplotlib.pyplot.show>"
      ]
     },
     "execution_count": 19,
     "metadata": {},
     "output_type": "execute_result"
    },
    {
     "data": {
      "image/png": "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\n",
      "text/plain": [
       "<matplotlib.figure.Figure at 0x2b0e54b3e80>"
      ]
     },
     "metadata": {},
     "output_type": "display_data"
    }
   ],
   "source": [
    "import matplotlib.pyplot as plt\n",
    "\n",
    "x = np.arange(0.0, 10.0, 0.01)\n",
    "y = 3.0 * x + 1.0\n",
    "noise = np.random.normal(0.0, 1.0, len(x))\n",
    "\n",
    "plt.plot(x, y + noise, 'r.')\n",
    "plt.plot(x, y, 'b-')\n",
    "\n",
    "plt.show"
   ]
  },
  {
   "cell_type": "code",
   "execution_count": 18,
   "metadata": {},
   "outputs": [
    {
     "data": {
      "text/plain": [
       "<function matplotlib.pyplot.show>"
      ]
     },
     "execution_count": 18,
     "metadata": {},
     "output_type": "execute_result"
    },
    {
     "data": {
      "image/png": "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\n",
      "text/plain": [
       "<matplotlib.figure.Figure at 0x2b0e62b3780>"
      ]
     },
     "metadata": {},
     "output_type": "display_data"
    }
   ],
   "source": [
    "# import matplotlib for graphs\n",
    "import matplotlib.pyplot as plt \n",
    "\n",
    "x = np.arange(0.0, 10.0, 0.01)\n",
    "y = 3.0 * x + 1.0\n",
    "noise = np.random.normal(0.0, 1.0, len(x))\n",
    "\n",
    "plt.plot(x, y + noise, 'r.', label=\"Model\")\n",
    "plt.plot(x, y, 'b-', label=\"Actual\")\n",
    "\n",
    "plt.title(\"Sample Plot\")\n",
    "plt.xlabel(\"Weight\")\n",
    "plt.ylabel(\"Mass\")\n",
    "plt.legend()\n",
    "\n",
    "plt.show"
   ]
  },
  {
   "cell_type": "code",
   "execution_count": 28,
   "metadata": {},
   "outputs": [
    {
     "data": {
      "text/plain": [
       "<function matplotlib.pyplot.show>"
      ]
     },
     "execution_count": 28,
     "metadata": {},
     "output_type": "execute_result"
    },
    {
     "data": {
      "image/png": "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\n",
      "text/plain": [
       "<matplotlib.figure.Figure at 0x2b0e64ab860>"
      ]
     },
     "metadata": {},
     "output_type": "display_data"
    }
   ],
   "source": [
    "# plot 2 graphs \n",
    "plt.subplot(1, 2, 1)\n",
    "x =  np.random.normal(0.0, 10.0, 10000)\n",
    "plt.hist(x)\n",
    "\n",
    "plt.subplot(1, 2, 2)\n",
    "x =  np.random.uniform(-20, .2, 2000)\n",
    "plt.hist(x)\n",
    "\n",
    "\n",
    "plt.show"
   ]
  },
  {
   "cell_type": "markdown",
   "metadata": {},
   "source": [
    "### Using Uniform\n",
    "random.uniform(a, b)\n",
    "Return a random floating point number N such that a <= N <= b for a <= b and b <= N <= a for b < a.~\n",
    "\n",
    "The end-point value b may or may not be included in the range depending on floating-point rounding in the equation a + (b-a) * random().\n",
    "\n",
    "Essentially, random.uniform() is used to generate a random number between two numbers other than zero and 1. Using random.uniform we must specify the low and high numbers."
   ]
  },
  {
   "cell_type": "code",
   "execution_count": 15,
   "metadata": {},
   "outputs": [
    {
     "data": {
      "text/plain": [
       "array([-4.49293858,  7.20663687,  4.0094406 , -9.53500723,  4.99508228,\n",
       "       -0.57488354])"
      ]
     },
     "execution_count": 15,
     "metadata": {},
     "output_type": "execute_result"
    }
   ],
   "source": [
    "# generates random numbers from a uniform distribution (lower, higher, size)\n",
    "np.random.uniform(-10, 8, 6)"
   ]
  },
  {
   "cell_type": "markdown",
   "metadata": {},
   "source": [
    "### Using Choice\n",
    "#### Using choice within a random sample"
   ]
  },
  {
   "cell_type": "code",
   "execution_count": 19,
   "metadata": {},
   "outputs": [
    {
     "data": {
      "text/plain": [
       "3"
      ]
     },
     "execution_count": 19,
     "metadata": {},
     "output_type": "execute_result"
    }
   ],
   "source": [
    "# Generate a random sample within the range 1-5\n",
    "np.random.choice(range(1,5))"
   ]
  },
  {
   "cell_type": "code",
   "execution_count": 10,
   "metadata": {},
   "outputs": [
    {
     "data": {
      "text/plain": [
       "array([1, 4, 2])"
      ]
     },
     "execution_count": 10,
     "metadata": {},
     "output_type": "execute_result"
    }
   ],
   "source": [
    "# Generates a random sample from a given 1-D array. Choose 3 random numbers between 1 & 5.\n",
    "np.random.choice(5 , 3)"
   ]
  },
  {
   "cell_type": "code",
   "execution_count": 17,
   "metadata": {},
   "outputs": [
    {
     "data": {
      "text/plain": [
       "'O'"
      ]
     },
     "execution_count": 17,
     "metadata": {},
     "output_type": "execute_result"
    }
   ],
   "source": [
    "# Generate randomly from either M or O.\n",
    "np.random.choice([\"M\", \"O\"])"
   ]
  },
  {
   "cell_type": "code",
   "execution_count": 19,
   "metadata": {},
   "outputs": [
    {
     "name": "stdout",
     "output_type": "stream",
     "text": [
      "[[1. 1. 1. 1. 1. 1. 1. 1. 1. 1.]\n",
      " [1. 0. 0. 0. 0. 0. 0. 0. 0. 1.]\n",
      " [1. 0. 0. 0. 0. 0. 0. 0. 0. 1.]\n",
      " [1. 0. 0. 0. 0. 0. 0. 0. 0. 1.]\n",
      " [1. 0. 0. 0. 0. 0. 0. 0. 0. 1.]\n",
      " [1. 0. 0. 0. 0. 0. 0. 0. 0. 1.]\n",
      " [1. 0. 0. 0. 0. 0. 0. 0. 0. 1.]\n",
      " [1. 0. 0. 0. 0. 0. 0. 0. 0. 1.]\n",
      " [1. 0. 0. 0. 0. 0. 0. 0. 0. 1.]\n",
      " [1. 1. 1. 1. 1. 1. 1. 1. 1. 1.]]\n"
     ]
    }
   ],
   "source": [
    "# Create a 2d array with 1 on the border and 0 on the inside\n",
    "x = np.ones((10,10))\n",
    "x[1:-1,1:-1] = 0\n",
    "print(x)"
   ]
  },
  {
   "cell_type": "markdown",
   "metadata": {},
   "source": [
    "### Using Shuffle\n",
    "#### Using the shuffle function to shuffle the random array"
   ]
  },
  {
   "cell_type": "code",
   "execution_count": 19,
   "metadata": {},
   "outputs": [
    {
     "data": {
      "text/plain": [
       "array([6, 1, 9, 0, 2, 8, 7, 5, 3, 4])"
      ]
     },
     "execution_count": 19,
     "metadata": {},
     "output_type": "execute_result"
    }
   ],
   "source": [
    "# Modify an array sequence by shuffling its contents. Shuffles the first axis of a multi-dimensional array.\n",
    "arr = np.arange(10)\n",
    "np.random.shuffle(arr)\n",
    "arr"
   ]
  },
  {
   "cell_type": "code",
   "execution_count": 84,
   "metadata": {},
   "outputs": [
    {
     "data": {
      "text/plain": [
       "array([[ 4,  5,  6,  7],\n",
       "       [ 8,  9, 10, 11],\n",
       "       [ 0,  1,  2,  3],\n",
       "       [12, 13, 14, 15]])"
      ]
     },
     "execution_count": 84,
     "metadata": {},
     "output_type": "execute_result"
    }
   ],
   "source": [
    "# Create a 4x4 arrange of shuffled values\n",
    "arr = np.arange(16).reshape((4, 4))\n",
    "np.random.shuffle(arr)\n",
    "arr"
   ]
  },
  {
   "cell_type": "markdown",
   "metadata": {},
   "source": [
    "## Simple Statistics"
   ]
  },
  {
   "cell_type": "markdown",
   "metadata": {},
   "source": [
    "I can use python and numpy as a tool to describe my sets of data in the following ways:\n",
    "- Max/Min\n",
    "- Length\n",
    "- Mean\n",
    "- Standard Deviation"
   ]
  },
  {
   "cell_type": "code",
   "execution_count": 43,
   "metadata": {},
   "outputs": [],
   "source": [
    "import numpy as np\n",
    "my_list = [12, 6, 13, 5, 4, 8, 3, 9, 15]"
   ]
  },
  {
   "cell_type": "code",
   "execution_count": 44,
   "metadata": {},
   "outputs": [
    {
     "name": "stdout",
     "output_type": "stream",
     "text": [
      "min:  3\n",
      "max:  15\n"
     ]
    }
   ],
   "source": [
    "# Displays the min and max values from my list\n",
    "print(\"min: \", min(my_list))\n",
    "print(\"max: \", max(my_list))"
   ]
  },
  {
   "cell_type": "code",
   "execution_count": 45,
   "metadata": {},
   "outputs": [
    {
     "name": "stdout",
     "output_type": "stream",
     "text": [
      "length:  9\n"
     ]
    }
   ],
   "source": [
    "print(\"length: \", len(my_list))"
   ]
  },
  {
   "cell_type": "code",
   "execution_count": 46,
   "metadata": {},
   "outputs": [
    {
     "name": "stdout",
     "output_type": "stream",
     "text": [
      "average:  8.333333333333334\n"
     ]
    }
   ],
   "source": [
    "# Displays the mean.\n",
    "def mean(x):\n",
    "    return sum(x) / len(x)\n",
    "\n",
    "print(\"average: \", mean(my_list))"
   ]
  },
  {
   "cell_type": "code",
   "execution_count": 47,
   "metadata": {},
   "outputs": [
    {
     "name": "stdout",
     "output_type": "stream",
     "text": [
      "Standard Deviation:  4.0\n"
     ]
    }
   ],
   "source": [
    "# Displays the standard deviation.\n",
    "print(\"Standard Deviation: \", np.std(my_list))"
   ]
  },
  {
   "cell_type": "markdown",
   "metadata": {},
   "source": [
    "## 2. Explain the use of Permutation Functions\n",
    "A permutation is an arrangement of a set of items in different order.\n",
    "Using permutation functions allows for the random permutation of a sequence, or to return a permuted range.\n",
    "Firstly the package itertools must be imported to implement permutations method within python. This method takes a list as an \n",
    "input and returns an object list that contain all permutation in a list form.\n",
    "Essentiallly, permutation is an arrangement of objects in a specific order. Order of arrangement of an object is very important. The number of permutations on a set of n elements is given by  n!.  For example, there are 2! = 2*1 = 2 \n",
    "permutations of {1, 2}, namely {1, 2} and {2, 1}, and 3! = 3*2*1 = 6 permutations of {1, 2, 3}, namely {1, 2, 3}, \n",
    "{1, 3, 2}, {2, 1, 3}, {2, 3, 1}, {3, 1, 2} and {3, 2, 1}."
   ]
  },
  {
   "cell_type": "code",
   "execution_count": 43,
   "metadata": {},
   "outputs": [
    {
     "name": "stdout",
     "output_type": "stream",
     "text": [
      "[(1, 2, 3), (1, 3, 2), (2, 1, 3), (2, 3, 1), (3, 1, 2), (3, 2, 1)]\n"
     ]
    }
   ],
   "source": [
    "# import permutations\n",
    "# list items in the range of 1-4 and print\n",
    "from itertools import permutations \n",
    "x = list(permutations(range(1, 4))) \n",
    "print(x) "
   ]
  },
  {
   "cell_type": "markdown",
   "metadata": {},
   "source": [
    "We can also rearrange characters in a word to create other words. If all the n characters are unique,\n",
    "we should get n! unique permutations. We can make a list of words unique by converting it to a set."
   ]
  },
  {
   "cell_type": "code",
   "execution_count": 28,
   "metadata": {},
   "outputs": [
    {
     "name": "stdout",
     "output_type": "stream",
     "text": [
      "dog\n",
      "dgo\n",
      "odg\n",
      "ogd\n",
      "gdo\n",
      "god\n"
     ]
    }
   ],
   "source": [
    "# re-arrange charaters in the word dog to create other words\n",
    "from itertools import permutations \n",
    "for x in permutations('dog'):\n",
    "    print(\"\".join(x))"
   ]
  },
  {
   "cell_type": "code",
   "execution_count": 66,
   "metadata": {},
   "outputs": [
    {
     "data": {
      "text/plain": [
       "array([0, 3, 5, 4, 2, 1])"
      ]
     },
     "execution_count": 66,
     "metadata": {},
     "output_type": "execute_result"
    }
   ],
   "source": [
    "np.random.permutation(6)"
   ]
  },
  {
   "cell_type": "code",
   "execution_count": 74,
   "metadata": {},
   "outputs": [
    {
     "data": {
      "text/plain": [
       "array([4, 1, 8, 2, 7])"
      ]
     },
     "execution_count": 74,
     "metadata": {},
     "output_type": "execute_result"
    }
   ],
   "source": [
    "np.random.permutation([4, 7, 8, 2, 1])"
   ]
  },
  {
   "cell_type": "code",
   "execution_count": 86,
   "metadata": {},
   "outputs": [
    {
     "data": {
      "text/plain": [
       "['ab', 'ac', 'ad', 'ba', 'bc', 'bd', 'ca', 'cb', 'cd', 'da', 'db', 'dc']"
      ]
     },
     "execution_count": 86,
     "metadata": {},
     "output_type": "execute_result"
    }
   ],
   "source": [
    "# Generates the permutations for all of the elements of the set input (abcd)\n",
    "from itertools import permutations \n",
    "[\"\".join(a) for a in permutations(\"abcd\", 2)]"
   ]
  },
  {
   "cell_type": "code",
   "execution_count": 88,
   "metadata": {},
   "outputs": [
    {
     "name": "stdout",
     "output_type": "stream",
     "text": [
      "Sample =  [8 3 6 1 7 5 4 0 2]\n"
     ]
    }
   ],
   "source": [
    "sample = np.random.permutation(9)\n",
    "print(\"Sample = \", sample)"
   ]
  },
  {
   "cell_type": "code",
   "execution_count": 89,
   "metadata": {},
   "outputs": [
    {
     "name": "stdout",
     "output_type": "stream",
     "text": [
      "Permuted =  [4 0 6 2 5 3 8 7 1]\n"
     ]
    }
   ],
   "source": [
    "# Shuffle the sample from above output\n",
    "shuffled = np.random.permutation(sample)\n",
    "print(\"Permuted = \",shuffled)"
   ]
  },
  {
   "cell_type": "code",
   "execution_count": 90,
   "metadata": {},
   "outputs": [
    {
     "data": {
      "text/plain": [
       "array([ 5, 78,  1,  2, 39])"
      ]
     },
     "execution_count": 90,
     "metadata": {},
     "output_type": "execute_result"
    }
   ],
   "source": [
    "# Example of reshuffling an array\n",
    "np.random.permutation([1, 78, 39, 2, 5])"
   ]
  },
  {
   "cell_type": "code",
   "execution_count": 91,
   "metadata": {},
   "outputs": [
    {
     "data": {
      "text/plain": [
       "array([[0, 1, 2],\n",
       "       [3, 4, 5],\n",
       "       [6, 7, 8]])"
      ]
     },
     "execution_count": 91,
     "metadata": {},
     "output_type": "execute_result"
    }
   ],
   "source": [
    "# Create a multi dimensional array\n",
    "arr = np.arange(9).reshape((3, 3))\n",
    "arr"
   ]
  },
  {
   "cell_type": "code",
   "execution_count": 93,
   "metadata": {},
   "outputs": [
    {
     "data": {
      "text/plain": [
       "array([[6, 7, 8],\n",
       "       [0, 1, 2],\n",
       "       [3, 4, 5]])"
      ]
     },
     "execution_count": 93,
     "metadata": {},
     "output_type": "execute_result"
    }
   ],
   "source": [
    "# Example of reshuffling a multidimensional array \n",
    "np.random.permutation(arr)"
   ]
  },
  {
   "cell_type": "code",
   "execution_count": 11,
   "metadata": {},
   "outputs": [
    {
     "name": "stdout",
     "output_type": "stream",
     "text": [
      "[[ 2  3  4]\n",
      " [ 5  6  7]\n",
      " [ 8  9 10]]\n"
     ]
    }
   ],
   "source": [
    "#create a 3x3 matrix with numbers ranging from 3 to 10\n",
    "x= np.arange(2, 11).reshape(3,3)\n",
    "print(x)"
   ]
  },
  {
   "cell_type": "markdown",
   "metadata": {},
   "source": [
    "### Linear Algebra\n",
    "Using numpy's linear algebra function to do simple maths on an array. "
   ]
  },
  {
   "cell_type": "code",
   "execution_count": 18,
   "metadata": {},
   "outputs": [
    {
     "name": "stdout",
     "output_type": "stream",
     "text": [
      "[2. 3. 4.]\n",
      "[5. 6. 7.]\n"
     ]
    }
   ],
   "source": [
    "x = np.array([2,3,4], float)\n",
    "y = np.array([5,6,7], float)\n",
    "print (x)\n",
    "print (y)"
   ]
  },
  {
   "cell_type": "code",
   "execution_count": 19,
   "metadata": {},
   "outputs": [
    {
     "name": "stdout",
     "output_type": "stream",
     "text": [
      "[ 7.  9. 11.]\n"
     ]
    }
   ],
   "source": [
    "print(x+y)"
   ]
  },
  {
   "cell_type": "code",
   "execution_count": 20,
   "metadata": {},
   "outputs": [
    {
     "name": "stdout",
     "output_type": "stream",
     "text": [
      "[-3. -3. -3.]\n"
     ]
    }
   ],
   "source": [
    "print(x-y)"
   ]
  },
  {
   "cell_type": "code",
   "execution_count": 21,
   "metadata": {},
   "outputs": [
    {
     "name": "stdout",
     "output_type": "stream",
     "text": [
      "[10. 18. 28.]\n"
     ]
    }
   ],
   "source": [
    "print(x*y)"
   ]
  },
  {
   "cell_type": "code",
   "execution_count": 23,
   "metadata": {},
   "outputs": [
    {
     "name": "stdout",
     "output_type": "stream",
     "text": [
      "[2.5  2.   1.75]\n"
     ]
    }
   ],
   "source": [
    "print(y/x)"
   ]
  },
  {
   "cell_type": "code",
   "execution_count": 24,
   "metadata": {},
   "outputs": [
    {
     "name": "stdout",
     "output_type": "stream",
     "text": [
      "[  25.  216. 2401.]\n"
     ]
    }
   ],
   "source": [
    "print(y ** x)"
   ]
  },
  {
   "cell_type": "markdown",
   "metadata": {},
   "source": [
    "## Question 3: Explain the use and purpose of at least five “Distributions” functions."
   ]
  },
  {
   "cell_type": "markdown",
   "metadata": {},
   "source": [
    "A probabillity disctibution is a mathematical function that can provide the probability of occurence of different outcomes.\n",
    "\n",
    "- Continuous Distributions e.g normal (every normal density is non zero for all real numbers)\n",
    "\n",
    "- Multivariate Distributions\n",
    "\n",
    "- Discrete Distributions\n",
    "\n",
    "- Statistical Distributions\n",
    "\n",
    "- Contingency table functions"
   ]
  },
  {
   "cell_type": "markdown",
   "metadata": {},
   "source": [
    "### Types of Distributions:\n",
    "\n",
    "- Binominal (is a discrete distribution having two parameters viz. sample size (n) and probability of success (p).)\n",
    "\n",
    "- Poisson (used to model events which take place continuously and at any given time independent of each other)\n",
    "\n",
    "- Normal (s a continuous distribution. It has the shape of a bell shaped curve.)\n",
    "\n",
    "- Exponential ()\n",
    "\n",
    "- Uniform"
   ]
  },
  {
   "cell_type": "markdown",
   "metadata": {},
   "source": [
    "## Binomial distribution\n",
    "Binomial distribution is the discrete probability distribution of the number of successes in a sequence of n independent binary (yes/no) experiments, each of which yields success with probability p. Such a success/failure experiment is also called a Bernoulli experiment or Bernoulli trial.  In fact, when n = 1, the binomial distribution is a Bernoulli distribution.\n",
    "This draws samples from a binomial distribution."
   ]
  },
  {
   "cell_type": "code",
   "execution_count": 129,
   "metadata": {},
   "outputs": [],
   "source": [
    "import numpy as np\n",
    "# numpy.random.binomial(n,p, size=none)\n",
    "# Draw samples from a binomial distribution\n",
    "n,p = 10, .5 # The number of trials, probability of each trial\n",
    "x = np.random.binomial(n, p, 1000)"
   ]
  },
  {
   "cell_type": "code",
   "execution_count": 128,
   "metadata": {},
   "outputs": [
    {
     "data": {
      "text/plain": [
       "0.38575"
      ]
     },
     "execution_count": 128,
     "metadata": {},
     "output_type": "execute_result"
    }
   ],
   "source": [
    "# 20,000 trials of the model, and count the number that generate zero positive results.\n",
    "sum(np.random.binomial(9, 0.1, 20000) == 0)/20000."
   ]
  },
  {
   "cell_type": "markdown",
   "metadata": {},
   "source": [
    "## Poisson distribution\n",
    "Poisson distribution is a discrete probability distribution that expresses the probability of a number of events occurring in a fixed period of time if these events occur with a known average rate and independently of the time since the last event.  For example, if you receive 3 calls on average between 8am-5pm each day, then the number of calls you will receive tomorrow between 8am-5pm should follow a Poisson distribution with parameter 3 λ = .  This is under the assumption that the chance to receive a call at any time point between 8am-5pm is the same. "
   ]
  },
  {
   "cell_type": "code",
   "execution_count": 142,
   "metadata": {},
   "outputs": [
    {
     "data": {
      "text/plain": [
       "array([5, 2, 4, 1, 1, 5, 4, 4, 2, 2, 2, 2, 5, 4, 2, 6, 5, 2, 6, 3, 4, 2,\n",
       "       4, 3, 1, 2, 0, 4, 5, 1, 3, 1, 4, 1, 3, 2, 2, 5, 0, 2, 0, 2, 2, 1,\n",
       "       4, 8, 3, 2, 1, 6, 2, 3, 5, 2, 2, 5, 5, 3, 1, 3, 4, 3, 3, 4, 5, 4,\n",
       "       1, 2, 3, 4, 4, 5, 3, 3, 1, 4, 0, 5, 2, 2, 3, 2, 1, 3, 1, 2, 3, 2,\n",
       "       4, 2, 4, 3, 2, 3, 0, 4, 3, 5, 5, 6])"
      ]
     },
     "execution_count": 142,
     "metadata": {},
     "output_type": "execute_result"
    }
   ],
   "source": [
    "# numpy.random.poisson(lam=1.0, size=None)\n",
    "# Draw samples from a Poisson distribution. The Poisson distribution is the limit of the binomial distribution for large N.\n",
    "np.random.poisson(3, 100)"
   ]
  },
  {
   "cell_type": "code",
   "execution_count": 144,
   "metadata": {},
   "outputs": [
    {
     "data": {
      "image/png": "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\n",
      "text/plain": [
       "<matplotlib.figure.Figure at 0x1a13b4a0748>"
      ]
     },
     "metadata": {},
     "output_type": "display_data"
    }
   ],
   "source": [
    "    import matplotlib.pyplot as plt\n",
    "    count, bins, ignored = plt.hist(12, density=True)\n",
    "    plt.show()"
   ]
  },
  {
   "cell_type": "markdown",
   "metadata": {},
   "source": [
    "## Exponential distributions\n",
    "Exponential distributions are a class of continuous probability distribution. An exponential distribution arises naturally when modeling the time between independent events that happen at a constant average rate.  For example, if you receive 3 calls on average between 8am-5pm each day, then the hours you wait for the first call since 8am tomorrow should follow an exponential distribution with parameter 3 /9 1/3 calls hrs λ = = .  The average time you wait for the new call since last call is the expectation of the distribution: 1/ 3hrs λ = "
   ]
  },
  {
   "cell_type": "markdown",
   "metadata": {},
   "source": [
    "## Uniform Distribution\n",
    "### Discrete uniform distribution\n",
    "Discrete uniform distribution is a discrete probability distribution: If a random variable has any of n possible values k1, k2, …, kn that are equally probable, then it has a discrete uniform distribution. The probability of any outcome ki  is 1/n. A simple example of the discrete uniform distribution is throwing a fair die. The possible values of k are 1, 2, 3, 4, 5, 6; and each time the die is thrown, the probability of a given score is 1/6. \n",
    "\n",
    "### Continuous uniform distribution\n",
    "Continuous uniform distribution is a family of probability distributions such that for each member of the family, all intervals of the same length on the distribution's support are equally probable. The support is defined by the two parameters, a and b, which are its minimum and maximum values. The distribution is often abbreviated U(a,b), e.g.,  U(0,1) is a member of this family and so is U(1,2)."
   ]
  },
  {
   "cell_type": "code",
   "execution_count": 137,
   "metadata": {},
   "outputs": [
    {
     "data": {
      "text/plain": [
       "array([-0.85027792, -0.68694655, -0.15044658, -0.52166683, -0.72084427,\n",
       "       -0.16692417, -0.24899493, -0.84514407, -0.39385714, -0.21751663,\n",
       "       -0.3572103 , -0.26329026, -0.31252988, -0.70136229, -0.24473723,\n",
       "       -0.99227336, -0.67368237, -0.39531385, -0.69976554, -0.24885392,\n",
       "       -0.87362985, -0.13674235, -0.14666768, -0.40386418, -0.45694151,\n",
       "       -0.29755208, -0.80415924, -0.06251651, -0.17750555, -0.181574  ,\n",
       "       -0.91580948, -0.48498611, -0.09621173, -0.87877172, -0.22507278,\n",
       "       -0.03613403, -0.92369666, -0.65280535, -0.71637988, -0.2410441 ,\n",
       "       -0.57125907, -0.03578976, -0.96706165, -0.42637829, -0.3738087 ,\n",
       "       -0.48287447, -0.30009579, -0.33007999, -0.02508587, -0.95020173,\n",
       "       -0.88755643, -0.22179916, -0.08216385, -0.62521672, -0.76679319,\n",
       "       -0.67612726, -0.58304893, -0.07759692, -0.77608665, -0.61573138,\n",
       "       -0.33378333, -0.10342483, -0.86590792, -0.64251918, -0.14962902,\n",
       "       -0.30974214, -0.08589833, -0.05859685, -0.75831378, -0.94475612,\n",
       "       -0.09863773, -0.08779609, -0.08273781, -0.54010312, -0.5686037 ,\n",
       "       -0.40884003, -0.3510917 , -0.60495328, -0.19689051, -0.03863503,\n",
       "       -0.70251507, -0.60234655, -0.64584828, -0.3994521 , -0.44775482,\n",
       "       -0.18040287, -0.97209936, -0.50514965, -0.00193972, -0.12167464,\n",
       "       -0.32469847, -0.35478305, -0.45228738, -0.08810246, -0.36569796,\n",
       "       -0.06719048, -0.1180567 , -0.57361505, -0.08881301, -0.54219533,\n",
       "       -0.03035014, -0.54444619, -0.83318406, -0.41612482, -0.66651393,\n",
       "       -0.90997893, -0.68353992, -0.86866055, -0.43958275, -0.27076544,\n",
       "       -0.9366963 , -0.76077567, -0.41188433, -0.62253225, -0.553363  ,\n",
       "       -0.44928563, -0.31337981, -0.96539696, -0.21532911, -0.26733649,\n",
       "       -0.75758197, -0.87124157, -0.32657846, -0.9374646 , -0.15683043,\n",
       "       -0.72594103, -0.54279156, -0.2426743 , -0.6585825 , -0.83474277,\n",
       "       -0.24250362, -0.87438204, -0.5249831 , -0.47175162, -0.48627841,\n",
       "       -0.4878821 , -0.64474184, -0.34399739, -0.38235728, -0.29003924,\n",
       "       -0.55044065, -0.44939495, -0.28516189, -0.7464106 , -0.68881328,\n",
       "       -0.45216346, -0.13765398, -0.43920418, -0.65566864, -0.32701602,\n",
       "       -0.2321374 , -0.57119066, -0.8658256 , -0.02057979, -0.29682655,\n",
       "       -0.02909407, -0.33344951, -0.04726877, -0.6524996 , -0.81782362,\n",
       "       -0.35584796, -0.76108082, -0.41586766, -0.55692799, -0.0431816 ,\n",
       "       -0.48611932, -0.192465  , -0.33449554, -0.31835476, -0.77175837,\n",
       "       -0.12870079, -0.68427299, -0.20849208, -0.98209508, -0.53004382,\n",
       "       -0.61763484, -0.68979577, -0.86522616, -0.97884854, -0.76426798,\n",
       "       -0.93055403, -0.44703207, -0.33772718, -0.87231652, -0.86899824,\n",
       "       -0.84316281, -0.01135981, -0.40473199, -0.95934817, -0.97393537,\n",
       "       -0.49198634, -0.07214295, -0.85295823, -0.74882271, -0.07973302,\n",
       "       -0.94691161, -0.58645543, -0.72132726, -0.61459702, -0.06229902,\n",
       "       -0.24779359, -0.41973623, -0.06115992, -0.09296497, -0.39014732,\n",
       "       -0.48314054, -0.36891777, -0.18628209, -0.15291712, -0.96827133,\n",
       "       -0.12315051, -0.35712708, -0.58591971, -0.75690761, -0.87433656,\n",
       "       -0.09207152, -0.08250819, -0.37446513, -0.77627476, -0.74784679,\n",
       "       -0.19194015, -0.16685669, -0.10663203, -0.12048867, -0.63314335,\n",
       "       -0.76143234, -0.12160244, -0.49432894, -0.36213735, -0.93349425,\n",
       "       -0.3179603 , -0.38743684, -0.50790052, -0.63828525, -0.55370701,\n",
       "       -0.74443048, -0.64669097, -0.27001411, -0.86816492, -0.80214151,\n",
       "       -0.85199239, -0.31618942, -0.20303392, -0.23741209, -0.90784417,\n",
       "       -0.63395366, -0.01868777, -0.1071105 , -0.68544144, -0.96552122,\n",
       "       -0.84901914, -0.44051184, -0.71918807, -0.9226588 , -0.9299032 ,\n",
       "       -0.96139827, -0.32468093, -0.97767833, -0.93854118, -0.95649641,\n",
       "       -0.08908799, -0.29251915, -0.09834724, -0.90342111, -0.35667907,\n",
       "       -0.63487034, -0.75691711, -0.80932265, -0.25109815, -0.72462096,\n",
       "       -0.23184791, -0.19311545, -0.67879203, -0.95451628, -0.62779192,\n",
       "       -0.23628931, -0.78435367, -0.13184133, -0.82428134, -0.9929761 ,\n",
       "       -0.26312907, -0.56859186, -0.97744384, -0.16745359, -0.86816029,\n",
       "       -0.51189675, -0.19664838, -0.28347508, -0.06797573, -0.89566224,\n",
       "       -0.76461927, -0.4890774 , -0.44799035, -0.20668287, -0.06855746,\n",
       "       -0.54123051, -0.02695713, -0.18164067, -0.63813474, -0.66543202,\n",
       "       -0.98942147, -0.53806907, -0.69010424, -0.63867969, -0.882509  ,\n",
       "       -0.64553378, -0.48680958, -0.05481562, -0.75357687, -0.21555299,\n",
       "       -0.31694036, -0.90420332, -0.15153742, -0.21869748, -0.16794433,\n",
       "       -0.13653593, -0.74776708, -0.67214416, -0.28062333, -0.12874735,\n",
       "       -0.68743761, -0.79494688, -0.55664646, -0.24356454, -0.61720895,\n",
       "       -0.54844837, -0.88572763, -0.16098345, -0.36361839, -0.06444255,\n",
       "       -0.48532276, -0.47067309, -0.35712614, -0.77749357, -0.55657972,\n",
       "       -0.88541796, -0.84355356, -0.80321386, -0.09438104, -0.90594818,\n",
       "       -0.04483535, -0.78616886, -0.77817321, -0.15153904, -0.98324802,\n",
       "       -0.61162492, -0.85028113, -0.26503721, -0.15360959, -0.83033862,\n",
       "       -0.49866544, -0.64446982, -0.82380417, -0.22384487, -0.19371496,\n",
       "       -0.72006173, -0.12892565, -0.72503278, -0.8765651 , -0.51731991,\n",
       "       -0.23034791, -0.76637257, -0.81779546, -0.57459173, -0.00346004,\n",
       "       -0.61274243, -0.20018894, -0.59964783, -0.70312229, -0.34119641,\n",
       "       -0.36142256, -0.43054015, -0.75436806, -0.10318608, -0.88620947,\n",
       "       -0.78526821, -0.55234911, -0.22483521, -0.37152112, -0.7127916 ,\n",
       "       -0.91614993, -0.53539575, -0.46129513, -0.92963598, -0.39924928,\n",
       "       -0.78554396, -0.29958506, -0.21507294, -0.57373572, -0.20895292,\n",
       "       -0.66514738, -0.8477707 , -0.09008033, -0.61338139, -0.81182833,\n",
       "       -0.89191891, -0.54339376, -0.65245743, -0.16282873, -0.3015311 ,\n",
       "       -0.26659828, -0.51208045, -0.65302958, -0.48298291, -0.95898692,\n",
       "       -0.16480011, -0.50960184, -0.76338462, -0.40129589, -0.50310779,\n",
       "       -0.36056688, -0.48444564, -0.57296444, -0.91160298, -0.88574176,\n",
       "       -0.35967316, -0.82752624, -0.68012992, -0.17248457, -0.27534416,\n",
       "       -0.05739334, -0.41195543, -0.59646436, -0.61925081, -0.35012463,\n",
       "       -0.41809035, -0.51174827, -0.40214494, -0.4649904 , -0.83152401,\n",
       "       -0.11327856, -0.64280314, -0.44034558, -0.68359564, -0.41635428,\n",
       "       -0.97450459, -0.84771678, -0.79570094, -0.5634004 , -0.0736577 ,\n",
       "       -0.64185045, -0.95446211, -0.48430757, -0.52084032, -0.61507586,\n",
       "       -0.47766682, -0.72983422, -0.89228343, -0.8261912 , -0.36599499,\n",
       "       -0.9183327 , -0.26318381, -0.93466782, -0.39326315, -0.05806625,\n",
       "       -0.50813979, -0.17169472, -0.24665947, -0.200458  , -0.68653383,\n",
       "       -0.40864124, -0.70944207, -0.37061156, -0.42845347, -0.91649193,\n",
       "       -0.38463955, -0.42711442, -0.40612765, -0.15366793, -0.93570936,\n",
       "       -0.29727621, -0.85399324, -0.27096224, -0.94453093, -0.57695028,\n",
       "       -0.02548113, -0.22664502, -0.30313771, -0.5857628 , -0.93725816,\n",
       "       -0.18993404, -0.21104817, -0.69451448, -0.37668902, -0.05193246,\n",
       "       -0.28209075, -0.527051  , -0.3670922 , -0.63087728, -0.90987653,\n",
       "       -0.2752431 , -0.25422575, -0.61978972, -0.8501036 , -0.72664248,\n",
       "       -0.92999552, -0.38632443, -0.73541898, -0.7608128 , -0.95762336,\n",
       "       -0.23665149, -0.91894761, -0.62676953, -0.83305095, -0.45137021,\n",
       "       -0.139368  , -0.45714688, -0.5330108 , -0.37104146, -0.23709129,\n",
       "       -0.78023792, -0.53648663, -0.99166498, -0.78527721, -0.96818005,\n",
       "       -0.05490129, -0.74061765, -0.70644094, -0.27459133, -0.81137054,\n",
       "       -0.09315086, -0.76705366, -0.80984224, -0.63494727, -0.36736487,\n",
       "       -0.95050507, -0.70090374, -0.40138538, -0.23631361, -0.43191164,\n",
       "       -0.7430173 , -0.27919646, -0.77463102, -0.92086738, -0.01346349,\n",
       "       -0.1447121 , -0.27577288, -0.09785198, -0.24351156, -0.86851135,\n",
       "       -0.39288615, -0.24149993, -0.3712385 , -0.10852279, -0.50849935,\n",
       "       -0.94454688, -0.6082297 , -0.9462514 , -0.94246494, -0.19216897,\n",
       "       -0.13420855, -0.83780313, -0.1490595 , -0.86272142, -0.56578381,\n",
       "       -0.54951469, -0.94013651, -0.88070903, -0.16109812, -0.93991679,\n",
       "       -0.04465842, -0.09714327, -0.38002551, -0.47013917, -0.05694599,\n",
       "       -0.28335985, -0.12954492, -0.20800167, -0.78388805, -0.58216948,\n",
       "       -0.83788904, -0.95002177, -0.91398822, -0.40407641, -0.54644194,\n",
       "       -0.57611353, -0.2977467 , -0.02183247, -0.3830369 , -0.92249858,\n",
       "       -0.49402203, -0.89677297, -0.70694387, -0.95144718, -0.66970192,\n",
       "       -0.07252657, -0.1133621 , -0.72793167, -0.89161533, -0.88258425,\n",
       "       -0.24342812, -0.52766169, -0.13213584, -0.13362868, -0.41314463,\n",
       "       -0.34112894, -0.29696067, -0.16008112, -0.7338902 , -0.2704259 ,\n",
       "       -0.20581377, -0.95838551, -0.88694191, -0.43645228, -0.18240005,\n",
       "       -0.51023012, -0.38920021, -0.90687735, -0.84569756, -0.92556109,\n",
       "       -0.61502409, -0.18663677, -0.23005346, -0.1735102 , -0.27298846,\n",
       "       -0.35436178, -0.5974866 , -0.31196576, -0.38528612, -0.42618344,\n",
       "       -0.47192014, -0.48523134, -0.739163  , -0.65724719, -0.02642571,\n",
       "       -0.75620306, -0.46946998, -0.95208791, -0.39109098, -0.68538394,\n",
       "       -0.87955899, -0.86171227, -0.88733095, -0.34700782, -0.19026325,\n",
       "       -0.11257241, -0.58603684, -0.14191268, -0.82305941, -0.60435775,\n",
       "       -0.7937964 , -0.60796981, -0.72252473, -0.81762619, -0.46699292,\n",
       "       -0.1293869 , -0.34443618, -0.53804817, -0.54563824, -0.26892711,\n",
       "       -0.12498786, -0.59363611, -0.82788971, -0.35882011, -0.41755318,\n",
       "       -0.48792863, -0.45893583, -0.71913707, -0.87836915, -0.47676215,\n",
       "       -0.82070763, -0.04282963, -0.29276924, -0.41640291, -0.17292636,\n",
       "       -0.32077189, -0.6283479 , -0.96635213, -0.63181171, -0.18506537,\n",
       "       -0.43688678, -0.40730736, -0.82842056, -0.55807016, -0.96485456,\n",
       "       -0.0852225 , -0.13918681, -0.18780503, -0.45655498, -0.94359046,\n",
       "       -0.47331803, -0.86045975, -0.61957914, -0.31725981, -0.47242577,\n",
       "       -0.1674435 , -0.12976069, -0.22984461, -0.31801886, -0.03785347,\n",
       "       -0.13695235, -0.58768036, -0.14008175, -0.26936317, -0.7971583 ,\n",
       "       -0.90292524, -0.79633038, -0.72803628, -0.7184388 , -0.58560316,\n",
       "       -0.84361202, -0.4904065 , -0.27529898, -0.73158494, -0.83199177,\n",
       "       -0.92590195, -0.84251932, -0.33382709, -0.7381468 , -0.64074231,\n",
       "       -0.6971698 , -0.2382548 , -0.74681205, -0.59069357, -0.8348016 ,\n",
       "       -0.83663686, -0.12493614, -0.73332011, -0.97195256, -0.44197005,\n",
       "       -0.63686402, -0.06464971, -0.67788426, -0.35213561, -0.0664216 ,\n",
       "       -0.84975716, -0.98612066, -0.70898523, -0.94666855, -0.7097562 ,\n",
       "       -0.16559079, -0.65039413, -0.21807501, -0.74551869, -0.01802712,\n",
       "       -0.9924983 , -0.23049379, -0.72215298, -0.6628693 , -0.75826697,\n",
       "       -0.92437088, -0.1738597 , -0.54587242, -0.92209642, -0.98483806,\n",
       "       -0.89924085, -0.92901154, -0.17337579, -0.81104831, -0.62882454,\n",
       "       -0.88787316, -0.05867568, -0.86620803, -0.9774992 , -0.4111768 ,\n",
       "       -0.93124427, -0.25753511, -0.40543107, -0.47962055, -0.70575656,\n",
       "       -0.94165849, -0.87585634, -0.95880638, -0.06513332, -0.21614861,\n",
       "       -0.83188655, -0.03549064, -0.02867231, -0.96404071, -0.73152415,\n",
       "       -0.73009932, -0.96795718, -0.68316631, -0.79285552, -0.96587174,\n",
       "       -0.94703962, -0.68152723, -0.67314961, -0.29583986, -0.3590218 ,\n",
       "       -0.19716614, -0.84718423, -0.86669507, -0.46618123, -0.49050881,\n",
       "       -0.76283937, -0.8219101 , -0.94341016, -0.47830669, -0.38679883,\n",
       "       -0.49517757, -0.77424233, -0.07290767, -0.47601431, -0.75036908,\n",
       "       -0.21467601, -0.87187227, -0.37619855, -0.70762355, -0.93103828,\n",
       "       -0.88094719, -0.75480709, -0.59504094, -0.57787453, -0.90617286,\n",
       "       -0.96375868, -0.1667532 , -0.68084339, -0.87284053, -0.04100475,\n",
       "       -0.40066473, -0.62281842, -0.24073111, -0.6093782 , -0.50524094,\n",
       "       -0.77245413, -0.74865751, -0.2123664 , -0.32066628, -0.71243006,\n",
       "       -0.34107868, -0.54574368, -0.17560843, -0.06075507, -0.48040117,\n",
       "       -0.43490038, -0.91586064, -0.64331117, -0.40689864, -0.64885294,\n",
       "       -0.9655347 , -0.72310073, -0.29609384, -0.75292912, -0.12762299,\n",
       "       -0.38951657, -0.55033112, -0.65077955, -0.86111485, -0.2490181 ,\n",
       "       -0.13399776, -0.94380873, -0.16159661, -0.12442548, -0.02979279,\n",
       "       -0.15556711, -0.72240185, -0.90972721, -0.85508462, -0.78583362,\n",
       "       -0.9947422 , -0.54458638, -0.38176051, -0.96253974, -0.32839728,\n",
       "       -0.89161272, -0.89211449, -0.0213996 , -0.30808403, -0.56807458,\n",
       "       -0.66423377, -0.01176298, -0.18376143, -0.2718328 , -0.16789224,\n",
       "       -0.2507792 , -0.19261457, -0.66732128, -0.758685  , -0.40331451,\n",
       "       -0.3348928 , -0.30750528, -0.44478477, -0.08956647, -0.76279002,\n",
       "       -0.72756435, -0.98207427, -0.76970611, -0.62122235, -0.86168153,\n",
       "       -0.13782915, -0.43067032, -0.97172246, -0.73189931, -0.82207225,\n",
       "       -0.25547906, -0.27535413, -0.28591895, -0.91192393, -0.05764142,\n",
       "       -0.57405657, -0.82638959, -0.79935014, -0.27626737, -0.52601579,\n",
       "       -0.14634962, -0.11919592, -0.59741922, -0.23058551, -0.2382325 ,\n",
       "       -0.44408998, -0.02046954, -0.26208406, -0.95976246, -0.81364731,\n",
       "       -0.86849567, -0.53153656, -0.65484916, -0.42170317, -0.67018019,\n",
       "       -0.97340926, -0.02093493, -0.44734411, -0.80298107, -0.80116747,\n",
       "       -0.45283273, -0.53560278, -0.86249038, -0.15803386, -0.35497632,\n",
       "       -0.9831335 , -0.34562608, -0.3996001 , -0.5434167 , -0.15189986,\n",
       "       -0.28807663, -0.58157803, -0.49184276, -0.93979126, -0.06717541,\n",
       "       -0.94844502, -0.54620866, -0.74085285, -0.12783605, -0.98314395,\n",
       "       -0.59937296, -0.00898799, -0.89539022, -0.01724575, -0.24045009,\n",
       "       -0.05336812, -0.40500914, -0.39506813, -0.88495187, -0.17440734,\n",
       "       -0.98149255, -0.54091251, -0.54268218, -0.03473039, -0.09788215,\n",
       "       -0.72623997, -0.25536719, -0.93045044, -0.21844738, -0.06200803,\n",
       "       -0.14750626, -0.37090542, -0.70610254, -0.22153124, -0.80950723,\n",
       "       -0.12367038, -0.84908918, -0.69829918, -0.04047095, -0.52034651,\n",
       "       -0.19757861, -0.92014143, -0.47622847, -0.32540877, -0.77469542,\n",
       "       -0.87601837, -0.96093877, -0.01670298, -0.36276658, -0.64775389,\n",
       "       -0.83057594, -0.60763895, -0.31742775, -0.48007753, -0.79393765,\n",
       "       -0.37252229, -0.77470051, -0.87799723, -0.00113618, -0.99338524,\n",
       "       -0.12612932, -0.32071554, -0.55948774, -0.65655136, -0.86104762,\n",
       "       -0.57222614, -0.82665837, -0.68799711, -0.80484206, -0.16168599,\n",
       "       -0.34366696, -0.99148235, -0.78235374, -0.28915795, -0.18107605])"
      ]
     },
     "execution_count": 137,
     "metadata": {},
     "output_type": "execute_result"
    }
   ],
   "source": [
    "# Draw samples from the distribution\n",
    "np.random.uniform(-1,0,1000)"
   ]
  },
  {
   "cell_type": "code",
   "execution_count": 138,
   "metadata": {},
   "outputs": [
    {
     "data": {
      "text/plain": [
       "True"
      ]
     },
     "execution_count": 138,
     "metadata": {},
     "output_type": "execute_result"
    }
   ],
   "source": [
    "# All values are within the given interval\n",
    "np.all(s >= -1)\n",
    "True\n",
    "    np.all(s < 0)\n",
    "True"
   ]
  },
  {
   "cell_type": "code",
   "execution_count": 140,
   "metadata": {},
   "outputs": [
    {
     "data": {
      "image/png": "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\n",
      "text/plain": [
       "<matplotlib.figure.Figure at 0x1a13b382fd0>"
      ]
     },
     "metadata": {},
     "output_type": "display_data"
    }
   ],
   "source": [
    "    # Display the histogram of the samples and the probability density function.\n",
    "    import matplotlib.pyplot as plt\n",
    "    count, bins, ignored = plt.hist(s, 15, normed=True)\n",
    "    plt.plot(bins, np.ones_like(bins), linewidth=2, color='r')\n",
    "    plt.show()"
   ]
  },
  {
   "cell_type": "markdown",
   "metadata": {},
   "source": [
    "# Normal Distribution\n",
    "A Normal Distribution (Gaussian) is a continuous probability distribution. The normal distribution is often referred to as a bell curve. Properties of a normal distribution are outlined below:\n",
    "\n",
    "- The normal curve is symmetric about the mean and bell shaped.\n",
    "- Mean, mode and median is zero and positioned at the centre of the curve.\n",
    "- Approximately 68% of the data will be between -1 and +1 (i.e. within 1 standard deviation from the mean), 95% between -2 and +2 (within 2 SD from the mean) and 99.7% between -3 and 3 (within 3 SD from the mean)"
   ]
  },
  {
   "cell_type": "code",
   "execution_count": 52,
   "metadata": {},
   "outputs": [],
   "source": [
    "import matplotlib.pyplot as plt\n",
    "import numpy as np\n",
    "from scipy.stats import norm"
   ]
  },
  {
   "cell_type": "code",
   "execution_count": 77,
   "metadata": {},
   "outputs": [
    {
     "name": "stdout",
     "output_type": "stream",
     "text": [
      "0.0 0.0 1.0 1.0\n"
     ]
    }
   ],
   "source": [
    "# get median, mean, standard deviation and var\n",
    "print(norm.median(), norm.mean(), norm.std(), norm.var())"
   ]
  },
  {
   "cell_type": "code",
   "execution_count": 79,
   "metadata": {},
   "outputs": [
    {
     "data": {
      "text/plain": [
       "[<matplotlib.lines.Line2D at 0x221ec734400>]"
      ]
     },
     "execution_count": 79,
     "metadata": {},
     "output_type": "execute_result"
    },
    {
     "data": {
      "image/png": "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\n",
      "text/plain": [
       "<matplotlib.figure.Figure at 0x221ec5043c8>"
      ]
     },
     "metadata": {},
     "output_type": "display_data"
    }
   ],
   "source": [
    "%matplotlib inline\n",
    "# Define the x interval \n",
    "# Get the norm.pdf for x interval \n",
    "x = np.linspace(-3,3,100)     \n",
    "nd = norm.pdf(x)              \n",
    "plt.plot(x,nd)"
   ]
  },
  {
   "cell_type": "code",
   "execution_count": 54,
   "metadata": {},
   "outputs": [
    {
     "data": {
      "text/plain": [
       "(array([  2.,   1.,   0.,   2.,   0.,   0.,   0.,   3.,   0.,   3.,   1.,\n",
       "          3.,   6.,   8.,   9.,  13.,  12.,  15.,  22.,  29.,  36.,  41.,\n",
       "         39.,  56.,  70., 101.,  68., 107.,  97., 105., 145., 142., 156.,\n",
       "        175., 174., 189., 187., 272., 244., 244., 295., 286., 290., 323.,\n",
       "        306., 318., 323., 298., 306., 307., 291., 309., 306., 282., 253.,\n",
       "        234., 246., 239., 201., 197., 198., 144., 145., 149., 119., 102.,\n",
       "        104., 101.,  91.,  71.,  65.,  53.,  44.,  42.,  37.,  22.,  22.,\n",
       "         17.,  13.,  14.,  13.,  10.,   7.,   6.,   4.,   3.,   4.,   1.,\n",
       "          7.,   0.,   2.,   0.,   0.,   0.,   0.,   0.,   1.,   1.,   0.,\n",
       "          1.]),\n",
       " array([-3.73217999, -3.6537223 , -3.57526461, -3.49680692, -3.41834923,\n",
       "        -3.33989153, -3.26143384, -3.18297615, -3.10451846, -3.02606076,\n",
       "        -2.94760307, -2.86914538, -2.79068769, -2.71223   , -2.6337723 ,\n",
       "        -2.55531461, -2.47685692, -2.39839923, -2.31994154, -2.24148384,\n",
       "        -2.16302615, -2.08456846, -2.00611077, -1.92765307, -1.84919538,\n",
       "        -1.77073769, -1.69228   , -1.61382231, -1.53536461, -1.45690692,\n",
       "        -1.37844923, -1.29999154, -1.22153385, -1.14307615, -1.06461846,\n",
       "        -0.98616077, -0.90770308, -0.82924539, -0.75078769, -0.67233   ,\n",
       "        -0.59387231, -0.51541462, -0.43695692, -0.35849923, -0.28004154,\n",
       "        -0.20158385, -0.12312616, -0.04466846,  0.03378923,  0.11224692,\n",
       "         0.19070461,  0.2691623 ,  0.34762   ,  0.42607769,  0.50453538,\n",
       "         0.58299307,  0.66145077,  0.73990846,  0.81836615,  0.89682384,\n",
       "         0.97528153,  1.05373923,  1.13219692,  1.21065461,  1.2891123 ,\n",
       "         1.36756999,  1.44602769,  1.52448538,  1.60294307,  1.68140076,\n",
       "         1.75985845,  1.83831615,  1.91677384,  1.99523153,  2.07368922,\n",
       "         2.15214692,  2.23060461,  2.3090623 ,  2.38751999,  2.46597768,\n",
       "         2.54443538,  2.62289307,  2.70135076,  2.77980845,  2.85826614,\n",
       "         2.93672384,  3.01518153,  3.09363922,  3.17209691,  3.25055461,\n",
       "         3.3290123 ,  3.40746999,  3.48592768,  3.56438537,  3.64284307,\n",
       "         3.72130076,  3.79975845,  3.87821614,  3.95667383,  4.03513153,\n",
       "         4.11358922]),\n",
       " <a list of 100 Patch objects>)"
      ]
     },
     "execution_count": 54,
     "metadata": {},
     "output_type": "execute_result"
    },
    {
     "data": {
      "image/png": "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\n",
      "text/plain": [
       "<matplotlib.figure.Figure at 0x221ec0c2b38>"
      ]
     },
     "metadata": {},
     "output_type": "display_data"
    }
   ],
   "source": [
    "x = np.random.randn(10000)\n",
    "plt.hist(x, bins=100)"
   ]
  },
  {
   "cell_type": "code",
   "execution_count": 76,
   "metadata": {},
   "outputs": [
    {
     "data": {
      "text/plain": [
       "(array([  1.,   0.,   0.,   1.,   1.,   2.,   3.,   0.,   0.,   1.,   1.,\n",
       "          1.,   4.,   6.,   9.,  12.,   7.,  16.,  14.,  19.,  33.,  21.,\n",
       "         43.,  42.,  47.,  59.,  74.,  81.,  88.,  84., 108.,  98., 127.,\n",
       "        141., 152., 163., 202., 209., 242., 240., 241., 285., 268., 247.,\n",
       "        313., 318., 311., 331., 308., 323., 312., 302., 284., 268., 289.,\n",
       "        282., 284., 231., 237., 241., 213., 198., 181., 152., 177., 123.,\n",
       "        107., 124.,  93., 113.,  74.,  70.,  59.,  51.,  46.,  32.,  37.,\n",
       "         20.,  19.,  15.,  13.,  10.,   8.,   9.,  10.,   2.,   2.,   2.,\n",
       "          4.,   2.,   4.,   0.,   0.,   0.,   1.,   1.,   0.,   0.,   0.,\n",
       "          1.]), array([-33.78731751, -32.99635066, -32.20538381, -31.41441696,\n",
       "        -30.6234501 , -29.83248325, -29.0415164 , -28.25054955,\n",
       "        -27.45958269, -26.66861584, -25.87764899, -25.08668214,\n",
       "        -24.29571528, -23.50474843, -22.71378158, -21.92281473,\n",
       "        -21.13184787, -20.34088102, -19.54991417, -18.75894732,\n",
       "        -17.96798046, -17.17701361, -16.38604676, -15.59507991,\n",
       "        -14.80411306, -14.0131462 , -13.22217935, -12.4312125 ,\n",
       "        -11.64024565, -10.84927879, -10.05831194,  -9.26734509,\n",
       "         -8.47637824,  -7.68541138,  -6.89444453,  -6.10347768,\n",
       "         -5.31251083,  -4.52154397,  -3.73057712,  -2.93961027,\n",
       "         -2.14864342,  -1.35767656,  -0.56670971,   0.22425714,\n",
       "          1.01522399,   1.80619084,   2.5971577 ,   3.38812455,\n",
       "          4.1790914 ,   4.97005825,   5.76102511,   6.55199196,\n",
       "          7.34295881,   8.13392566,   8.92489252,   9.71585937,\n",
       "         10.50682622,  11.29779307,  12.08875993,  12.87972678,\n",
       "         13.67069363,  14.46166048,  15.25262734,  16.04359419,\n",
       "         16.83456104,  17.62552789,  18.41649474,  19.2074616 ,\n",
       "         19.99842845,  20.7893953 ,  21.58036215,  22.37132901,\n",
       "         23.16229586,  23.95326271,  24.74422956,  25.53519642,\n",
       "         26.32616327,  27.11713012,  27.90809697,  28.69906383,\n",
       "         29.49003068,  30.28099753,  31.07196438,  31.86293123,\n",
       "         32.65389809,  33.44486494,  34.23583179,  35.02679864,\n",
       "         35.8177655 ,  36.60873235,  37.3996992 ,  38.19066605,\n",
       "         38.98163291,  39.77259976,  40.56356661,  41.35453346,\n",
       "         42.14550032,  42.93646717,  43.72743402,  44.51840087,\n",
       "         45.30936773]), <a list of 100 Patch objects>)"
      ]
     },
     "execution_count": 76,
     "metadata": {},
     "output_type": "execute_result"
    },
    {
     "data": {
      "image/png": "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\n",
      "text/plain": [
       "<matplotlib.figure.Figure at 0x221ec57e860>"
      ]
     },
     "metadata": {},
     "output_type": "display_data"
    }
   ],
   "source": [
    "# Setting the standard deviation to 10 and mean to 5\n",
    "x = 10*np.random.randn(10000) + 5\n",
    "plt.hist(x, bins=100)"
   ]
  },
  {
   "cell_type": "markdown",
   "metadata": {},
   "source": [
    "# Beta Distribution"
   ]
  },
  {
   "cell_type": "markdown",
   "metadata": {},
   "source": [
    "Beta distribution is well known distribution for probabilities. Beta distribution is a continuous distribution taking values from\n",
    "0 to 1. Alpha and Beta are the two parameters which define it. Depending on the values of alpha and beta, the distributions can \n",
    "differ."
   ]
  },
  {
   "cell_type": "code",
   "execution_count": 33,
   "metadata": {},
   "outputs": [
    {
     "data": {
      "text/plain": [
       "[Text(0,0.5,'Frequency'), Text(0.5,0,'Beta(10,10)')]"
      ]
     },
     "execution_count": 33,
     "metadata": {},
     "output_type": "execute_result"
    },
    {
     "data": {
      "image/png": "iVBORw0KGgoAAAANSUhEUgAAAYgAAAEKCAYAAAAIO8L1AAAABHNCSVQICAgIfAhkiAAAAAlwSFlzAAALEgAACxIB0t1+/AAAADl0RVh0U29mdHdhcmUAbWF0cGxvdGxpYiB2ZXJzaW9uIDIuMS4yLCBodHRwOi8vbWF0cGxvdGxpYi5vcmcvNQv5yAAAFkNJREFUeJzt3X2QZXV95/H3R9BFBEQzA8GBcZAaRLQUcCTums3iQ4xSpciuWlA+oBInm0ASo7srGGtl1yUhq8JqxWLFQAkkivgURhcfgMWnFAiDjDxKHJWFkSkGiDooBAS++8c9Ta7Nme7TM3363u77flXd6nN/95zb377dfT/3d37n/E6qCkmSpnvcqAuQJI0nA0KS1MqAkCS1MiAkSa0MCElSKwNCktTKgJAktTIgJEmtDAhJUqudR13Ajli2bFmtWrVq1GVI0qJyzTXX3F1Vy2dbb1EHxKpVq1i/fv2oy5CkRSXJ/+uynruYJEmtDAhJUisDQpLUyoCQJLUyICRJrQwISVIrA0KS1MqAkCS1MiAkSa0W9ZnU0mJ32rV3P7p80qHLRliJ9Fj2ICRJrQwISVIrA0KS1MoxCGmBDY87SOOstx5Ekv2SXJ7k5iQ3JvnTpv2UJD9JsqG5HTm0zclJNia5Jcnv9VWbJGl2ffYgHgLeVVXfTbI7cE2SS5rHzqiqDw6vnORg4Bjg2cDTgEuTHFhVD/dYozQ2PKJJ46a3gKiqzcDmZvneJDcDK2bY5Cjggqp6APhxko3A4cAVfdUoTTcub9LzVce4/DxanBZkkDrJKuBQ4DtN04lJrktyTpKnNG0rgNuHNttES6AkWZtkfZL1d911V49VS+PntGvvfvQm9a33gEiyG/A54B1VtRU4EzgAOIRBD+NDU6u2bF6Paag6q6rWVNWa5ctnvaSqJGk79XoUU5LHMwiHv6uqzwNU1Z1Dj38c+FJzdxOw39Dm+wJ39FmftD2mf3rve9eNvQWNSp9HMQU4G7i5qk4fat9naLWjgRua5XXAMUn+VZL9gdXAVX3VJ0maWZ89iBcBbwKuT7KhaXsPcGySQxjsProV+AOAqroxyYXATQyOgDrBI5i0mDlArMWuz6OYvk37uMLFM2xzKnBqXzVJS4kBpL451YYkqZVTbWgi9fXp2wFlLSX2ICRJrQwISVIrA0KS1MoxCGmJcRxE88WAkHaQb8haqtzFJElqZQ9CWgD2MrQYGRDSNnimsiadu5gkSa3sQWhiuJtHmhsDQloCDD/1wV1MkqRWBoQkqZUBIUlqZUBIkloZEJKkVgaEJKmVASFJamVASJJaGRCSpFYGhCSplQEhSWrlXExSB851pElkD0KS1MqAkCS1MiAkSa0MCElSKwepNfEcgJba9daDSLJfksuT3JzkxiR/2rQ/NcklSX7QfH1K054kH0myMcl1SQ7rqzZJ0uz63MX0EPCuqnoW8ELghCQHAycBl1XVauCy5j7AK4HVzW0tcGaPtUmSZtFbQFTV5qr6brN8L3AzsAI4Cji3We1c4DXN8lHAeTVwJbBnkn36qk+SNLMFGaROsgo4FPgOsHdVbYZBiAB7NautAG4f2mxT0yZJGoHeAyLJbsDngHdU1daZVm1pq5bnW5tkfZL1d91113yVKUmapteASPJ4BuHwd1X1+ab5zqldR83XLU37JmC/oc33Be6Y/pxVdVZVramqNcuXL++veEmacH0exRTgbODmqjp96KF1wHHN8nHARUPtb26OZnoh8POpXVHSbE679u5Hb5LmR5/nQbwIeBNwfZINTdt7gNOAC5McD9wGvK557GLgSGAjcB/w1h5rkyTNoreAqKpv0z6uAPDSlvULOKGveiRJc+NUG5KkVk61oSVneBzipEOXjbASaXGzByFJamUPQpoQ9qw0V/YgJEmtDAhJUisDQpLUyoCQJLUyICRJrTyKSdKjPNJJw+xBSJJa2YOQJpwz4GpbDAgtab75SdvPgJAmkMGpLhyDkCS1MiAkSa0MCElSKwNCktTKgJAktTIgJEmtDAhJUqtOAZHkOX0XIkkaL117EP87yVVJ/ijJnr1WJEkaC50Coqp+G3gDsB+wPsknk/xur5VJkkaq8xhEVf0AeC/wbuDfAR9J8v0k/76v4iRJo9N1DOK5Sc4AbgZeAryqqp7VLJ/RY32SpBHpOlnfXwMfB95TVfdPNVbVHUne20tlUgsvaCMtnK4BcSRwf1U9DJDkccAuVXVfVZ3fW3WSpJHpOgZxKfDEofu7Nm2SpCWqa0DsUlW/mLrTLO/aT0mSpHHQNSB+meSwqTtJng/cP8P6kqRFrmtAvAP4TJJvJfkW8GngxJk2SHJOki1JbhhqOyXJT5JsaG5HDj12cpKNSW5J8nvb88NIkuZPp0Hqqro6yUHAM4EA36+qX82y2ScYHP103rT2M6rqg8MNSQ4GjgGeDTwNuDTJgVOD4ppsXh5zNDxiTHO5JvULgFXNNocmoaqmv/k/qqq+mWRVx+c+Crigqh4AfpxkI3A4cMUc6pMkzaNOAZHkfOAAYAMw9am+eGzvoIsTk7wZWA+8q6p+CqwArhxaZ1PTpgllr2F82bOYHF17EGuAg6uqdvD7nQm8n0G4vB/4EPA2Brutpmv9XknWAmsBVq5cuYPlSOrCwJ5MXQepbwB+c0e/WVXdWVUPV9UjDM7MPrx5aBODiQCn7AvcsY3nOKuq1lTVmuXLl+9oSZKkbejag1gG3JTkKuCBqcaqevVcvlmSfapqc3P3aAbBA7AO+GSS0xkMUq8GrprLc0uS5lfXgDhlrk+c5FPAEcCyJJuA9wFHJDmEwe6jW4E/AKiqG5NcCNwEPASc4BFMmo27PaR+dT3M9RtJng6srqpLk+wK7DTLNse2NJ89w/qnAqd2qUeS1L+u032/Hfgs8LGmaQXw930VJUkava6D1CcALwK2wqMXD9qrr6IkSaPXNSAeqKoHp+4k2ZltHIYqSVoaugbEN5K8B3hicy3qzwBf7K8sSdKodQ2Ik4C7gOsZHHl0MYPrU0uSlqiuRzFNndj28X7L0aRx2gZpfHWdi+nHtIw5VNUz5r0iTSzPa5DGy1zmYpqyC/A64KnzX44kaVx0GoOoqnuGbj+pqv8FvKTn2iRJI9R1F9NhQ3cfx6BHsXsvFUlaNBxDWtq67mL60NDyQwzmUXr9vFcjSRobXY9ienHfhUhaWuxdLH5ddzG9c6bHq+r0+SlHkjQu5nIU0wsYXLcB4FXAN4Hb+yhKkjR6c7lg0GFVdS9AklOAz1TV7/dVmCRptLoGxErgwaH7DwKr5r0aSYuWJzouPV0D4nzgqiRfYHBG9dHAeb1VpSXNNxJpceh6FNOpSb4M/Num6a1VdW1/ZUmSRq3rbK4AuwJbq+rDwKYk+/dUkyRpDHS95Oj7gHcDJzdNjwf+tq+iJEmj17UHcTTwauCXAFV1B061IUlLWteAeLCqimbK7yRP6q8kSdI46BoQFyb5GLBnkrcDl+LFgyRpSet6FNMHm2tRbwWeCfzXqrqk18q0pHhoq7T4zBoQSXYCvlpVLwMMBUmaELPuYqqqh4H7kjx5AeqRJI2JrmdS/zNwfZJLaI5kAqiqP+mlKknSyHUNiP/T3KTOHHeQFrcZAyLJyqq6rarOXaiCJEnjYbYxiL+fWkjyuZ5rkSSNkdkCIkPLz+izEEnSeJktIGoby7NKck6SLUluGGp7apJLkvyg+fqUpj1JPpJkY5Lrkhw2l+8lSZp/swXE85JsTXIv8NxmeWuSe5NsnWXbTwCvmNZ2EnBZVa0GLmvuA7wSWN3c1gJnzuWHkCTNvxkDoqp2qqo9qmr3qtq5WZ66v8cs234T+KdpzUcBUwPe5wKvGWo/rwauZDClxz5z/3EkSfOl62Gu82XvqtoMUFWbk+zVtK8Abh9ab1PTtnn6EyRZy6CXwcqVK/utVtK8GD7k+aRDl42wEs3FXC4Y1Ke0tLWOeVTVWVW1pqrWLF++vOeyJGlyLXRA3Dm166j5uqVp3wTsN7TevsAdC1ybJGnIQgfEOuC4Zvk44KKh9jc3RzO9EPj51K4oSdJo9DYGkeRTwBHAsiSbgPcBpzG4tsTxwG3A65rVLwaOBDYC9wFv7asuSVI3vQVEVR27jYde2rJuASf0VYskae7GZZBakjRmDAhJUquFPg9Ckh7l+RHjzYCQtKC8Tsji4S4mSVIrA0KS1MqAkCS1MiAkSa0MCElSKwNCktTKw1wljQXPiRg/BoR2mP/Y0tJkQGheeRKUtHQYEOrMnoI0WRykliS1MiAkSa0MCElSK8cgtF0cjNZCcexrdOxBSJJaGRCSpFbuYpI0dtyFOR7sQUiSWhkQkqRWBoQkqZUBIUlqZUBIkloZEJKkVgaEJKmV50FIWjScdmNh2YOQJLUaSQ8iya3AvcDDwENVtSbJU4FPA6uAW4HXV9VPR1GfJGm0PYgXV9UhVbWmuX8ScFlVrQYua+5LkkZknMYgjgKOaJbPBb4OvHtUxUgab45H9G9UPYgCvpbkmiRrm7a9q2ozQPN1rxHVJklidD2IF1XVHUn2Ai5J8v2uGzaBshZg5cqVfdUnSRNvJD2Iqrqj+boF+AJwOHBnkn0Amq9btrHtWVW1pqrWLF++fKFKlqSJs+ABkeRJSXafWgZeDtwArAOOa1Y7DrhooWuTJP2LUexi2hv4QpKp7//JqvpKkquBC5McD9wGvG4EtUmSGgseEFX1I+B5Le33AC9d6HokSe3G6TBXSZpXHgq7YwwIbfOfyOsCa7Hwb7UfBsSE8h9K0mwMiCVoR7rVBoekKc7mKklqZUBIkloZEJKkVgaEJKmVASFJauVRTBPEI5QkzYU9CElSKwNCktTKgJAktXIMYolz3EEacOK+ubMHIUlqZUBIklq5i0nSxNnWrld3Pf06A2KJcKxB0nxzF5MkqZUBIUlqZUBIklo5BrGIOe4gqU/2ICRJrQwISVIrdzEtMu5Wkvrj+RG/zh6EJKmVPYgx5cRikkbNgBgj7j6SFpel/kHOgJCkOZikD3IGxAgs9U8d0qRbKv/jBsSIdfk0MkmfWKTFain+n45dQCR5BfBhYCfgb6rqtBGXtN2WyqcIadItxTf/LsYqIJLsBHwU+F1gE3B1knVVddNoK5uZQSCpq7m+X4zy/WWsAgI4HNhYVT8CSHIBcBQw1gHRxaR+ApG0beN+Yt64BcQK4Pah+5uA3+rjG82Uyl1+adtaxyCQNGw+3xMWujcxbgGRlrb6tRWStcDa5u4vktzSLC8Dtus3cfI8rzeL7a5zgVnn/LLO+bWk6+zyXrOD70dP77LSuAXEJmC/ofv7AncMr1BVZwFnTd8wyfqqWtNveTvOOueXdc4v65xfi6XObRm3uZiuBlYn2T/JE4BjgHUjrkmSJtJY9SCq6qEkJwJfZXCY6zlVdeOIy5KkiTRWAQFQVRcDF2/Hpo/Z7TSmrHN+Wef8ss75tVjqbJWqmn0tSdLEGbcxCEnSmFh0AZHkFUluSbIxyUktj/9Oku8meSjJa0dRY1PHbHW+M8lNSa5LclmSToedjaDO/5jk+iQbknw7ycHjWOfQeq9NUklGcuRIh9fzLUnual7PDUl+fxzrbNZ5ffM3emOSTy50jU0Ns72eZwy9lv+Y5GdjWufKJJcnubb5nz9yFHXOWVUtmhuDgesfAs8AngB8Dzh42jqrgOcC5wGvHeM6Xwzs2iz/IfDpMa1zj6HlVwNfGcc6m/V2B74JXAmsGcc6gbcAf73QtW1HnauBa4GnNPf3Gsc6p63/xwwObBm7OhmMRfxhs3wwcOso/wa63hZbD+LRqTiq6kFgaiqOR1XVrVV1HfDIKApsdKnz8qq6r7l7JYNzPhZalzq3Dt19EtNOXFwgs9bZeD/wP4F/XsjihnStc9S61Pl24KNV9VOAqtqywDXC3F/PY4FPLUhlv65LnQXs0Sw/mWnnd42rxRYQbVNxrBhRLTOZa53HA1/utaJ2nepMckKSHzJ48/2TBapt2Kx1JjkU2K+qvrSQhU3T9ff+H5rdDJ9Nsl/L433rUueBwIFJ/iHJlc0sywut8/9Rs4t2f+D/LkBd03Wp8xTgjUk2MThK848XprQds9gCYtapOMZE5zqTvBFYA3yg14radaqzqj5aVQcA7wbe23tVjzVjnUkeB5wBvGvBKmrX5fX8IrCqqp4LXAqc23tVj9Wlzp0Z7GY6gsEn879JsmfPdU03l//3Y4DPVtXDPdazLV3qPBb4RFXtCxwJnN/83Y61sS9wmlmn4hgTnepM8jLgz4FXV9UDC1TbsLm+nhcAr+m1onaz1bk78Bzg60luBV4IrBvBQHWXqWLuGfpdfxx4/gLVNqzL730TcFFV/aqqfgzcwiAwFtJc/j6PYTS7l6BbnccDFwJU1RXALgzmaRpvox4EmeNg0M7Ajxh0JacGg569jXU/wegGqWetEziUwcDW6nF+PYfrA14FrB/HOqet/3VGM0jd5fXcZ2j5aODKMa3zFcC5zfIyBrtQfmPc6mzWeyZwK815XWP6en4ZeEuz/CwGATKSeuf0s426gO34ZRwJ/GPz5vrnTdt/Z/ApHOAFDBL9l8A9wI1jWuelwJ3Ahua2bkzr/DBwY1Pj5TO9MY+yzmnrjiQgOr6ef9m8nt9rXs+DxrTOAKczuBbL9cAx41hnc/8U4LRR1DeH1/Ng4B+a3/sG4OWjrLfrzTOpJUmtFtsYhCRpgRgQkqRWBoQkqZUBIUlqZUBIkloZEJKkVgaEJkKSh5spob/XTAf/b2ZZf88kf9TxuZ+Y5BtJdmrufyXJz5J8adp6+yf5TpIfJPl0c9316c91UJIrkjyQ5D9Ne6x1SukkFyRZ6LOcNQEMCE2K+6vqkKp6HnAygxPWZrIn0CkggLcBn69/mQfoA8CbWtb7K+CMqloN/JTB9AvT/RODCRE/ONzYhM9HgVcyOOnq2KFrc5wJ/JeOtUqdGRCaRHsweIMGIMl/TnJ1M8Pqf2uaTwMOaHodH0iyW3Nhp+82F1Aans75DcBFU3eq6jLg3uFvmCTAS4DPNk3n0jKvVVVtqaqrgV9Ne2imKaW/BbwsydhdY16Lm39QmhRPTLKBwSRp+zB4sybJyxlMQnc4g+kl1iX5HeAk4DlVdUiz3s7A0VW1Ncky4Mok64DHA8+oqltn+f6/Afysqh5q7s91qvq2KaV/C6CqHkmyEXgecM0cnlOakQGhSXH/0Jv9vwbOS/Ic4OXN7dpmvd0YBMZt07YP8BdNeDzC4A17bwa98C6XudzRqepn234L8DQMCM0jA0ITp6quaHoByxm88f5lVX1seJ0kq6Zt9oZm/edX1a+aacV3AX7efJ3N3cCeSXZuehFznap+timldwHun8PzSbNyDEITJ8lBDK4jfA/wVeBtSXZrHluRZC8GYwi7D232ZGBLEw4vBp4OUINLcu6UZMaQqMGsmJcDr22ajqMZt0hydJLZBs2vBlY3R0I9gcH1D9YNPX4gg1lipXljD0KTYmoMAga9huOao46+luRZwBWDcWR+Abyxqn7YXG7zBgZz+f8V8MUk6xlM1/z9oef+GvDbDKZwJ8m3gIOA3ZpLTB5fVV9lcEW+C5L8Dwa7tM5utj8A2Nps+5vAegYD6Y8keQdwcDP2cSKDQNsJOKeqbmy22ZvBLrTN8/mCSU73Le2g5nrY76yqtkNbu2z/t8CfVdVd27n9nwFbq+rsWVeW5sAehLSDquraJJcn2am245rIVfXGHSzhZ8D5O/gc0mPYg5AktXKQWpLUyoCQJLUyICRJrQwISVIrA0KS1Or/A8fb8W5i+i4TAAAAAElFTkSuQmCC\n",
      "text/plain": [
       "<matplotlib.figure.Figure at 0x221ebc28978>"
      ]
     },
     "metadata": {},
     "output_type": "display_data"
    }
   ],
   "source": [
    "# Generate 1000 random numbers from Beta distribution with alpha = 10 and beta = 10. \n",
    "# The histogram of Beta(10,10) is symmetric and looks like a normal distribution.\n",
    "data_beta_a10b10 = beta.rvs(10, 10, size=10000)\n",
    "ax = sns.distplot(data_beta_a10b10,\n",
    "                  kde=False,\n",
    "                  bins=100,\n",
    "                  color='skyblue',\n",
    "                  hist_kws={\"linewidth\": 15,'alpha':1})\n",
    "ax.set(xlabel='Beta(10,10)', ylabel='Frequency')"
   ]
  },
  {
   "cell_type": "code",
   "execution_count": 34,
   "metadata": {},
   "outputs": [
    {
     "data": {
      "text/plain": [
       "[Text(0,0.5,'Frequency'), Text(0.5,0,'Beta(1,1)')]"
      ]
     },
     "execution_count": 34,
     "metadata": {},
     "output_type": "execute_result"
    },
    {
     "data": {
      "image/png": "iVBORw0KGgoAAAANSUhEUgAAAYwAAAEKCAYAAAAB0GKPAAAABHNCSVQICAgIfAhkiAAAAAlwSFlzAAALEgAACxIB0t1+/AAAADl0RVh0U29mdHdhcmUAbWF0cGxvdGxpYiB2ZXJzaW9uIDIuMS4yLCBodHRwOi8vbWF0cGxvdGxpYi5vcmcvNQv5yAAAFrBJREFUeJzt3X+QZWV95/H3R9AgghIzrSLQjBrEEBKRdFBXY8QfBKcMLK4aKI2oxDFGdzerlQqalLqmNpq4xqyLFRwjQdxIiIkoriiga0S3QB1gkFFhRSQ6DuVEUZCAIvjdP+4Zc2n6Tj8zc8+9t6ffr6quPj+ec8733NvDh/PrOakqJElazn2mXYAkaWUwMCRJTQwMSVITA0OS1MTAkCQ1MTAkSU0MDElSEwNDktTEwJAkNdl72gWM05o1a2rt2rXTLkOSVowrrrjiO1U119J2jwqMtWvXsnHjxmmXIUkrRpJ/bm3rKSlJUhMDQ5LUxMCQJDUxMCRJTQwMSVITA0OS1MTAkCQ1MTAkSU0MDElSkz3qSW9JmkVvueo7Px0+/XFrpljJ7vEIQ5LUxMCQJDUxMCRJTQwMSVITA0OS1MTAkCQ1MTAkSU0MDElSEwNDktTEwJAkNbFrkD3EcNcDsLK7H5A0m3oLjCRnAc8GtlXVkd2084DDuyYHAN+vqqOWWPZG4AfA3cBdVbXQV52SpDZ9HmGcDZwBnLN9QlX91vbhJG8DbtnB8sdW1Xd2MF+SNEG9BUZVXZpk7VLzkgR4PvC0vrYvSRqvaV30/jXg21X11RHzC7g4yRVJ1k+wLknSCNO66H0KcO4O5j+pqrYmeQhwSZJrq+rSpRp2gbIeYH5+fvyVSpKAKRxhJNkbeA5w3qg2VbW1+70NOB84ZgdtN1TVQlUtzM3NjbtcSVJnGqekngFcW1VblpqZ5AFJ9t8+DBwHbJ5gfZKkJfQWGEnOBS4DDk+yJclp3ayTWXQ6KsnDk1zYjT4U+GySq4HPAx+tqo/3VackqU2fd0mdMmL6i5eYthVY1w3fADy2r7okSbvGrkEkSU3sGkTSRA13Y2MXNiuLRxiSpCYGhiSpiYEhSWpiYEiSmhgYkqQmBoYkqYmBIUlqYmBIkpoYGJKkJj7pPWY+xSqtbJP8N9yyrVn6b4pHGJKkJgaGJKmJgSFJamJgSJKaGBiSpCYGhiSpiYEhSWrSW2AkOSvJtiSbh6a9Mcm3kmzqftaNWPb4JNcluT7J6X3VKElq1+cRxtnA8UtMf3tVHdX9XLh4ZpK9gHcCzwKOAE5JckSPdUqSGvQWGFV1KXDzLix6DHB9Vd1QVXcCfwecONbiJEk7bRpdg7wqyYuAjcBrqup7i+YfBHxzaHwL8PhRK0uyHlgPMD8/v8tFDT9+P2zaj+KPwyx1LSCNi3/Xkzfpi95/BTwKOAq4CXjbEm2yxLQatcKq2lBVC1W1MDc3N54qJUn3MtHAqKpvV9XdVfUT4N0MTj8ttgU4ZGj8YGDrJOqTJI020cBIcuDQ6EnA5iWafQE4LMkjktwPOBm4YBL1SZJG6+0aRpJzgacCa5JsAd4APDXJUQxOMd0IvLxr+3Dgr6tqXVXdleRVwEXAXsBZVfWlvuqUJLXpLTCq6pQlJr9nRNutwLqh8QuBe91yK0maHp/0liQ1MTAkSU0MDElSEwNDktTEwJAkNZlG1yCaIrtT0KT4t7brRnVVNG0eYUiSmhgYkqQmBoYkqYmBIUlqYmBIkpoYGJKkJgaGJKmJgSFJamJgSJKaGBiSpCZ2DSKgrRuH3enqYVzdROwJ3U3sCfswa1bjZzqNffYIQ5LUpLfASHJWkm1JNg9Ne2uSa5N8Mcn5SQ4YseyNSa5JsinJxr5qlCS16/MI42zg+EXTLgGOrKpfBv4f8NodLH9sVR1VVQs91SdJ2gm9BUZVXQrcvGjaxVV1Vzd6OXBwX9uXJI3XNK9hvBT42Ih5BVyc5Iok6ydYkyRphKncJZXkj4C7gL8d0eRJVbU1yUOAS5Jc2x2xLLWu9cB6gPn5+V7qlSRN4QgjyanAs4EXVFUt1aaqtna/twHnA8eMWl9VbaiqhapamJub66NkSRITDowkxwN/CJxQVbePaPOAJPtvHwaOAzYv1VaSNDlNgZHkyJ1dcZJzgcuAw5NsSXIacAawP4PTTJuSnNm1fXiSC7tFHwp8NsnVwOeBj1bVx3d2+5Kk8Wq9hnFmkvsxuFX2/VX1/eUWqKpTlpj8nhFttwLruuEbgMc21iVJmpCmwKiqJyc5jMGdTRuTfB74m6q6pNfqtMuGuw3oez19d1Ewrn1ZLUZ9Xjv6bvbUrjX21P2aluZrGFX1VeCPGVyD+HXgHd1T28/pqzhJ0uxovYbxy0neDnwFeBrwm1X1C93w23usT5I0I1qvYZwBvBt4XVXdsX1i96zEH/dSmSRpprQGxjrgjqq6GyDJfYB9qur2qnpfb9VJkmZG6zWMTwD3Hxrft5smSVolWgNjn6q6bftIN7xvPyVJkmZRa2D8a5Kjt48k+RXgjh20lyTtYVqvYfw+8IEkW7vxA4Hf6qckSdIsan1w7wtJHgMcDgS4tqp+3GtlkqSZsjPdm/8qsLZb5nFJqKpzeqlKkjRzmgIjyfuARwGbgLu7yQXs8YGxGrsWWI1dcezO99yy7Cx8pn39Lfex3pWyztWm9QhjAThi1PsrJEl7vta7pDYDD+uzEEnSbGs9wlgDfLnrpfZH2ydW1Qm9VCVJmjmtgfHGPouQJM2+1ttqP53kUOCwqvpEkn2BvfotTZI0S1q7N38Z8A/Au7pJBwEf6qsoSdLsab3o/UrgScCt8NOXKT1kuYWSnJVkW5LNQ9MenOSSJF/tfv/siGVP7dp8NcmpjXVKknrSGhg/qqo7t48k2ZvBcxjLORs4ftG004FPVtVhwCe78XtI8mDgDcDjgWOAN4wKFknSZLQGxqeTvA64f5JnAh8APrLcQlV1KXDzosknAu/tht8L/PslFv0N4JKqurmqvgdcwr2DR5I0Qa2BcTrwL8A1wMuBCxm833tXPLSqbgLofi91ausg4JtD41u6aZKkKWm9S+onDF7R+u5+y/mpLFXGkg2T9cB6gPn5+T5rGtm9w7i6klhJXRe0dHXRd3cY4/o+xrmNvrsYmYTd+Vx35zsf199LX3934/p+RtU3C93HLKf1LqmvJ7lh8c8ubvPbSQ7s1nsgsG2JNluAQ4bGDwa2LtGOqtpQVQtVtTA3N7eLJUmSlrMzfUlttw/wPODBu7jNC4BTgbd0vz+8RJuLgD8dutB9HPDaXdyeJGkMmo4wquq7Qz/fqqq/BJ623HJJzgUuAw5PsiXJaQyC4plJvgo8sxsnyUKSv+62dzPwJ8AXup83ddMkSVPS2r350UOj92FwxLH/cstV1SkjZj19ibYbgd8ZGj8LOKulPklS/1pPSb1taPgu4Ebg+WOvRpI0s1rvkjq270IkSbOt9ZTUq3c0v6r+YjzlSJJm1c7cJfWrDO5wAvhN4FLu+XCdJGkPtjMvUDq6qn4AkOSNwAeq6nd2uJQkaY/R2jXIPHDn0PidwNqxVyNJmlmtRxjvAz6f5HwGXXScBJzTW1XSBPTdRUMfXT20dCuzs+uZhFnu9mJHte3O59pH9y7T/hxb75L6b0k+BvxaN+klVXVVf2VJkmZN6ykpgH2BW6vqfwBbkjyip5okSTOotfPBNwB/yL/153Rf4H/1VZQkafa0HmGcBJwA/CtAVW2loWsQSdKeozUw7qyqonsnRZIH9FeSJGkWtQbG3yd5F3BAkpcBn2ByL1OSJM2A1ruk/nv3Lu9bgcOB11fVJb1WJkmaKcsGRpK9gIuq6hmAISFJq9Syp6Sq6m7g9iQPmkA9kqQZ1fqk9w+Ba5JcQnenFEBV/adeqpIkzZzWwPho96Od0NJNQMuj/uPqDmLW9d2twko1i9/zLNY0Lavps9hhYCSZr6pvVNV7x7XBJIcD5w1NeiSDi+h/OdTmqcCHga93kz5YVW8aVw2SpJ233BHGh4CjAZL8Y1X9h93dYFVdBxzVrXMv4FvA+Us0/UxVPXt3tydJGo/lLnpnaPiRPWz/6cDXquqfe1i3JGmMlguMGjE8LicD546Y98QkVyf5WJJf7GHbkqSdsNwpqccmuZXBkcb9u2G68aqqB+7qhpPcj0H/VK9dYvaVwKFVdVuSdQxOjR02Yj3rgfUA8/Pzu1qOJGkZOzzCqKq9quqBVbV/Ve3dDW8f3+Ww6DwLuLKqvr3Edm+tqtu64QuB+yZZ8raZqtpQVQtVtTA3N7ebJUmSRtmZ92GM2ymMOB2V5GFJ0g0fw6DO706wNknSIq3PYYxVkn2BZwIvH5r2uwBVdSbwXOAVSe4C7gBO7nrLlSRNyVQCo6puB35u0bQzh4bPAM6YdF2SpNGmeUpKkrSCTOUIY0+zmroGGAc/r38z6rNYLZ/Rzu7nuD6X1fL5jptHGJKkJgaGJKmJgSFJamJgSJKaGBiSpCYGhiSpiYEhSWpiYEiSmhgYkqQmPum9wqyWJ1T72k+fFNY4rNbv3yMMSVITA0OS1MTAkCQ1MTAkSU0MDElSEwNDktTEwJAkNZlaYCS5Mck1STYl2bjE/CR5R5Lrk3wxydHTqFOSNDDtB/eOrapRT8A8Czis+3k88Ffdb0nSFMzyKakTgXNq4HLggCQHTrsoSVqtpnmEUcDFSQp4V1VtWDT/IOCbQ+Nbumk3DTdKsh5YDzA/P99ftRO2WrseGIfV8tlNej+n9bmu1O9zpda9I9M8wnhSVR3N4NTTK5M8ZdH8LLFM3WtC1YaqWqiqhbm5uT7qlCQxxcCoqq3d723A+cAxi5psAQ4ZGj8Y2DqZ6iRJi00lMJI8IMn+24eB44DNi5pdALyou1vqCcAtVXUTkqSpmNY1jIcC5yfZXsP7q+rjSX4XoKrOBC4E1gHXA7cDL5lSrZIkphQYVXUD8Nglpp85NFzAKydZlyRptFm+rVaSNEMMDElSEwNDktTEwJAkNTEwJElNpt354Koxi90EzGJNkmaXRxiSpCYGhiSpiYEhSWpiYEiSmhgYkqQmBoYkqYmBIUlqYmBIkpoYGJKkJgaGJKmJgSFJamJgSJKaTDwwkhyS5FNJvpLkS0n+8xJtnprkliSbup/XT7pOSdI9TaO32ruA11TVlUn2B65IcklVfXlRu89U1bOnUJ8kaQkTP8Koqpuq6spu+AfAV4CDJl2HJGnnTPUaRpK1wOOAzy0x+4lJrk7ysSS/ONHCJEn3MrUXKCXZD/hH4Per6tZFs68EDq2q25KsAz4EHDZiPeuB9QDz8/M9VixJq9tUjjCS3JdBWPxtVX1w8fyqurWqbuuGLwTum2TNUuuqqg1VtVBVC3Nzc73WLUmr2TTukgrwHuArVfUXI9o8rGtHkmMY1PndyVUpSVpsGqekngT8NnBNkk3dtNcB8wBVdSbwXOAVSe4C7gBOrqqaQq2SpM7EA6OqPgtkmTZnAGdMpiJJUoupXfTWnuktV31n2iVI6oldg0iSmhgYkqQmBoYkqYmBIUlqYmBIkpoYGJKkJgaGJKmJgSFJamJgSJKaGBiSpCYGhiSpiYEhSWpiYEiSmhgYkqQmBoYkqYmBIUlqYmBIkppMJTCSHJ/kuiTXJzl9ifk/k+S8bv7nkqydfJWSpGETD4wkewHvBJ4FHAGckuSIRc1OA75XVT8PvB34s8lWKUlabBpHGMcA11fVDVV1J/B3wImL2pwIvLcb/gfg6UkywRolSYtMIzAOAr45NL6lm7Zkm6q6C7gF+LmJVCdJWtLeU9jmUkcKtQttBg2T9cD6bvS2JNftQk1rgO/swnIrmfu8OrjPq8Brd2+fD21tOI3A2AIcMjR+MLB1RJstSfYGHgTcvNTKqmoDsGF3CkqysaoWdmcdK437vDq4z6vDpPZ5GqekvgAcluQRSe4HnAxcsKjNBcCp3fBzgf9TVUseYUiSJmPiRxhVdVeSVwEXAXsBZ1XVl5K8CdhYVRcA7wHel+R6BkcWJ0+6TknSPU3jlBRVdSFw4aJprx8a/iHwvAmWtFuntFYo93l1cJ9Xh4nsczzTI0lqYdcgkqQmqyowVmOXJA37/OokX07yxSSfTNJ8i92sWm6fh9o9N0klWfF31LTsc5Lnd9/1l5K8f9I1jlvD3/Z8kk8luar7+143jTrHKclZSbYl2TxifpK8o/tMvpjk6LEWUFWr4ofBBfavAY8E7gdcDRyxqM3vAWd2wycD50277gns87HAvt3wK1bDPnft9gcuBS4HFqZd9wS+58OAq4Cf7cYfMu26J7DPG4BXdMNHADdOu+4x7PdTgKOBzSPmrwM+xuBZticAnxvn9lfTEcZq7JJk2X2uqk9V1e3d6OUMnotZyVq+Z4A/Af4c+OEki+tJyz6/DHhnVX0PoKq2TbjGcWvZ5wIe2A0/iHs/77XiVNWljHgmrXMicE4NXA4ckOTAcW1/NQXGauySpGWfh53G4P9OVrJl9znJ44BDqup/T7KwHrV8z48GHp3k/ya5PMnxE6uuHy37/EbghUm2MLgr8z9OprSp2tl/8ztlKrfVTslYuyRZIXami5UXAgvAr/daUf92uM9J7sOgB+QXT6qgCWj5nvdmcFrqqQyOIj+T5Miq+n7PtfWlZZ9PAc6uqrcleSKDZ7uOrKqf9F/e1PT637DVdISxM12SsFyXJCtEyz6T5BnAHwEnVNWPJlRbX5bb5/2BI4F/SnIjg/O8F6zwC9+tf9sfrqofV9XXgesYBMhK1bLPpwF/D1BVlwH7MOhzaU/W9G9+V62mwFiNXZIsu8/d6Zl3MQiLlX5eG5bZ56q6parWVNXaqlrL4LrNCVW1cTrljkXL3/aHGNzgQJI1DE5R3TDRKserZZ+/ATwdIMkvMAiMf5lolZN3AfCi7m6pJwC3VNVN41r5qjklVauwS5LGfX4rsB/wge76/jeq6oSpFb2bGvd5j9K4zxcBxyX5MnA38AdV9d3pVb17Gvf5NcC7k/wXBqdlXrzC/weQJOcyOK24prs28wbgvgBVdSaDazXrgOuB24GXjHX7K/zzkyRNyGo6JSVJ2g0GhiSpiYEhSWpiYEiSmhgYkqQmBoYkqYmBIQ1JcneSTUmuTnJlkn+3TPsDkvxe47rvn+TTSfbqxj+e5PtJRvZpleR5XXfkPxl+Gj3JLyU5u3G3pLEwMKR7uqOqjqqqxwKvBd68TPsDGHSL3+KlwAer6u5u/K3Aby+zzGbgOQy6Yv+pqroGODjJfOO2pd1mYEijPRD43vaRJH+Q5Avdi2n+azf5LcCjuqOStybZr3sR1ZVJrkky3OX2C4APbx+pqk8CP9hRAVX1laq6bsTsj7DCeyPQyrJqugaRGt0/ySYG/Q4dCDwNIMlxDDrrO4ZBj6AXJHkKcDpwZFUd1bXbGzipqm7t+my6PMkFDLpveGRV3TjGWjd22//zMa5TGsnAkO7pjqH/+D8ROCfJkcBx3c9VXbv9GATINxYtH+BPuzD5CYN3ETyUwdH8uLsS3wY8fMzrlEYyMKQRquqy7ihhjkEQvLmq3jXcJvd+7/sLuva/UlU/7rpQ34fBy7j2GXOJ+wB3jHmd0khew5BGSPIYBj2hfpdBr6gvTbJfN++gJA9hcA1i/6HFHgRs68LiWOBQgO7VqHslWTY0krw5yUkNJT6awUVxaSI8wpDuafs1DBgcVZza3dV0cfdOhcu6buBvA15YVV/rXnu6mcHrbf8M+EiSjcAm4NqhdV8MPBn4BECSzwCPAfbruqo+raouAn6J7t0OXXD8TwZHLR9NsqmqfqNb37HAR3v5FKQl2L25NCHdy6peXVU7vJU2yUVDoTCqzc8Anwae3L1/XuqdgSFNUJKXAu8dehZjV9dzGHBQVf3TWAqTGhgYkqQmXvSWJDUxMCRJTQwMSVITA0OS1MTAkCQ1+f/0bHW8dZOiKQAAAABJRU5ErkJggg==\n",
      "text/plain": [
       "<matplotlib.figure.Figure at 0x221ebd31f98>"
      ]
     },
     "metadata": {},
     "output_type": "display_data"
    }
   ],
   "source": [
    "# Generate 1000 random numbers from Beta distribution with alpha = 1 and beta = 1\n",
    "from scipy.stats import beta\n",
    "data_beta = beta.rvs(1, 1, size=1000)\n",
    "ax = sns.distplot(data_beta,\n",
    "                  kde=False,\n",
    "                  bins=100,\n",
    "                  color='skyblue',\n",
    "                  hist_kws={\"linewidth\": 15,'alpha':1})\n",
    "ax.set(xlabel='Beta(1,1)', ylabel='Frequency')"
   ]
  },
  {
   "cell_type": "code",
   "execution_count": 35,
   "metadata": {},
   "outputs": [
    {
     "data": {
      "text/plain": [
       "[Text(17.2,0.5,'Frequency'), Text(0.5,17.2,'Beta(10,1)')]"
      ]
     },
     "execution_count": 35,
     "metadata": {},
     "output_type": "execute_result"
    },
    {
     "data": {
      "image/png": "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\n",
      "text/plain": [
       "<matplotlib.figure.Figure at 0x221ebe14e10>"
      ]
     },
     "metadata": {},
     "output_type": "display_data"
    }
   ],
   "source": [
    "# Generate 1000 random numbers from Beta distribution with alpha = 10 and beta = 1. \n",
    "# The histogram of Beta(10,1) is skewed towards right.\n",
    "data_beta_a10b1 = beta.rvs(10, 1, size=1000)\n",
    "sns.distplot(data_beta_a10b1,\n",
    "             kde=False,\n",
    "             bins=50,\n",
    "             color='skyblue',\n",
    "             hist_kws={\"linewidth\": 15,'alpha':1})\n",
    "ax.set(xlabel='Beta(10,1)', ylabel='Frequency')"
   ]
  },
  {
   "cell_type": "code",
   "execution_count": 36,
   "metadata": {},
   "outputs": [
    {
     "data": {
      "text/plain": [
       "[Text(17.2,0.5,'Frequency'), Text(0.5,17.2,'Beta(10,1)')]"
      ]
     },
     "execution_count": 36,
     "metadata": {},
     "output_type": "execute_result"
    },
    {
     "data": {
      "image/png": "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\n",
      "text/plain": [
       "<matplotlib.figure.Figure at 0x221ebf8dcc0>"
      ]
     },
     "metadata": {},
     "output_type": "display_data"
    }
   ],
   "source": [
    "# Let us generate 1000, random numbers from Beta distribution with alpha = 2 and beta = 20. \n",
    "# The histogram of Beta(1,10) is skewed towards the left.\n",
    "data_beta_a10b1 = beta.rvs(1, 10, size=1000)\n",
    "sns.distplot(data_beta_a10b1,\n",
    "             kde=False,\n",
    "             bins=50,\n",
    "             color='skyblue',\n",
    "             hist_kws={\"linewidth\": 15,'alpha':1})\n",
    "ax.set(xlabel='Beta(10,1)', ylabel='Frequency')"
   ]
  },
  {
   "cell_type": "markdown",
   "metadata": {},
   "source": [
    "## Question 4: Explain the use of seeds in generating pseudorandom numbers."
   ]
  },
  {
   "cell_type": "markdown",
   "metadata": {},
   "source": [
    "'random.seed' gives a value to random value generator ('random.randint()') which generates these values based on this seed. A property of random numbers is that they should be reproducible. Once I use the same seed I get the same pattern of random numbers in the examples below.\n",
    "random is actually pseudo-random. Given a seed, it will generate numbers with an equal distribution. Using the same seed, it will generate the same number sequences every time. In order to change it, I would have to change my seed. Seed is often used based on the current time.\n",
    "\n",
    "Class Random can be subclassed in order to use a different basic generator: override the random(), seed(), getstate(), setstate() and jumpahead() methods.\n"
   ]
  },
  {
   "cell_type": "code",
   "execution_count": 146,
   "metadata": {},
   "outputs": [
    {
     "data": {
      "text/plain": [
       "3"
      ]
     },
     "execution_count": 146,
     "metadata": {},
     "output_type": "execute_result"
    }
   ],
   "source": [
    "random.seed(100)\n",
    "random.randint(1, 10)"
   ]
  },
  {
   "cell_type": "code",
   "execution_count": 147,
   "metadata": {},
   "outputs": [
    {
     "data": {
      "text/plain": [
       "3"
      ]
     },
     "execution_count": 147,
     "metadata": {},
     "output_type": "execute_result"
    }
   ],
   "source": [
    "# Using seed will allow me to produce the same random integer each time\n",
    "random.seed(100)\n",
    "random.randint(1, 10)"
   ]
  },
  {
   "cell_type": "code",
   "execution_count": 148,
   "metadata": {},
   "outputs": [
    {
     "data": {
      "text/plain": [
       "3"
      ]
     },
     "execution_count": 148,
     "metadata": {},
     "output_type": "execute_result"
    }
   ],
   "source": [
    "# Same results as above\n",
    "random.seed(100)\n",
    "random.randint(1, 10)"
   ]
  },
  {
   "cell_type": "code",
   "execution_count": 149,
   "metadata": {},
   "outputs": [
    {
     "data": {
      "text/plain": [
       "10"
      ]
     },
     "execution_count": 149,
     "metadata": {},
     "output_type": "execute_result"
    }
   ],
   "source": [
    "# Result has now changed as I have changed the see number to 101\n",
    "random.seed(101)\n",
    "random.randint(1, 10)"
   ]
  },
  {
   "cell_type": "code",
   "execution_count": 150,
   "metadata": {},
   "outputs": [
    {
     "data": {
      "text/plain": [
       "10"
      ]
     },
     "execution_count": 150,
     "metadata": {},
     "output_type": "execute_result"
    }
   ],
   "source": [
    "# Same results as above\n",
    "random.seed(101)\n",
    "random.randint(1, 10)"
   ]
  },
  {
   "cell_type": "code",
   "execution_count": 156,
   "metadata": {},
   "outputs": [
    {
     "name": "stdout",
     "output_type": "stream",
     "text": [
      "37\n",
      "3\n",
      "28\n",
      "31\n",
      "37\n",
      "1\n"
     ]
    }
   ],
   "source": [
    "# prints 6 random numbers between 1 and 50\n",
    "random.seed(10)\n",
    "for i in range(6):\n",
    "        print(random.randint(1,50))"
   ]
  },
  {
   "cell_type": "code",
   "execution_count": 157,
   "metadata": {},
   "outputs": [
    {
     "name": "stdout",
     "output_type": "stream",
     "text": [
      "37\n",
      "3\n",
      "28\n",
      "31\n",
      "37\n",
      "1\n"
     ]
    }
   ],
   "source": [
    "# Prints the same output as above as it is the same seed\n",
    "random.seed(10)\n",
    "for i in range(6):\n",
    "        print(random.randint(1,50))"
   ]
  },
  {
   "cell_type": "code",
   "execution_count": 158,
   "metadata": {},
   "outputs": [
    {
     "name": "stdout",
     "output_type": "stream",
     "text": [
      "47\n",
      "44\n",
      "50\n",
      "10\n",
      "17\n",
      "44\n"
     ]
    }
   ],
   "source": [
    "# Change the seed to change the output random integer values\n",
    "random.seed(20)\n",
    "for i in range(6):\n",
    "        print(random.randint(1,50))"
   ]
  },
  {
   "cell_type": "code",
   "execution_count": 165,
   "metadata": {},
   "outputs": [
    {
     "data": {
      "text/plain": [
       "0.5390815646058106"
      ]
     },
     "execution_count": 165,
     "metadata": {},
     "output_type": "execute_result"
    }
   ],
   "source": [
    "# use seed to create a random number\n",
    "random.seed(30)\n",
    "random.random()"
   ]
  },
  {
   "cell_type": "code",
   "execution_count": 163,
   "metadata": {},
   "outputs": [
    {
     "data": {
      "text/plain": [
       "0.2891964436397205"
      ]
     },
     "execution_count": 163,
     "metadata": {},
     "output_type": "execute_result"
    }
   ],
   "source": [
    "# Do not use seed\n",
    "random.random()"
   ]
  },
  {
   "cell_type": "code",
   "execution_count": 164,
   "metadata": {},
   "outputs": [
    {
     "data": {
      "text/plain": [
       "0.5390815646058106"
      ]
     },
     "execution_count": 164,
     "metadata": {},
     "output_type": "execute_result"
    }
   ],
   "source": [
    "# Use seed again and it will output the same random number as previous seed(30) above\n",
    "random.seed(30)\n",
    "random.random()"
   ]
  },
  {
   "cell_type": "code",
   "execution_count": null,
   "metadata": {},
   "outputs": [],
   "source": [
    "6.0 Summary\n"
   ]
  },
  {
   "cell_type": "markdown",
   "metadata": {},
   "source": [
    "7.0 References\n",
    "- https://www.packtpub.com/mapt/book/big_data_and_business_intelligence/9781785285110/2/ch02lvl1sec16/numpy-random-numbers\n",
    "- https://machinelearningmastery.com/how-to-generate-random-numbers-in-python/\n",
    "- https://www.investopedia.com/terms/s/simple-random-sample.asp\n",
    "- https://docs.scipy.org/doc/numpy-1.15.1/reference/generated/numpy.random.uniform.html\n",
    "- https://docs.scipy.org/doc/numpy/reference/generated/numpy.random.choice.html\n",
    "- https://github.com/RitRa/Numpy_random/blob/master/numpy-random.ipynb\n",
    "- https://www.quora.com/Probability-statistics-What-is-difference-between-binominal-poisson-and-normal-distribution\n",
    "- https://www.stat.berkeley.edu/~hhuang/STAT141/More_on_%20distributions.pdf\n",
    "- https://www.healthknowledge.org.uk/public-health-textbook/research-methods/1b-statistical-methods/statistical-distributions\n",
    "- https://docs.scipy.org/doc/numpy/reference/generated/numpy.random.binomial.html\n",
    "- https://docs.scipy.org/doc/numpy-1.13.0/reference/generated/numpy.random.uniform.html\n",
    "- https://stackoverflow.com/questions/22639587/random-seed-what-does-it-do\n",
    "- https://www.w3resource.com/python-exercises/numpy/index.php\n",
    "- https://www.datasciencedata.com/2018/09/using-python-numpy-random-modules.html\n",
    "- https://www.geeksforgeeks.org/numpy-random-rand-python/\n",
    "- https://docs.python.org/2/library/random.html\n",
    "- http://cmdlinetips.com/2018/03/probability-distributions-in-python/\n",
    "- https://medium.com/@balamurali_m/normal-distribution-with-python-793c7b425ef0\n",
    "- http://pytolearn.csd.auth.gr/d1-hyptest/11/norm-distro.html\n"
   ]
  }
 ],
 "metadata": {
  "kernelspec": {
   "display_name": "Python 3",
   "language": "python",
   "name": "python3"
  },
  "language_info": {
   "codemirror_mode": {
    "name": "ipython",
    "version": 3
   },
   "file_extension": ".py",
   "mimetype": "text/x-python",
   "name": "python",
   "nbconvert_exporter": "python",
   "pygments_lexer": "ipython3",
   "version": "3.6.4"
  }
 },
 "nbformat": 4,
 "nbformat_minor": 2
}
