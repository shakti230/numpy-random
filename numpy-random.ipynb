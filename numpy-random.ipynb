{
 "cells": [
  {
   "cell_type": "code",
   "execution_count": 10,
   "metadata": {},
   "outputs": [],
   "source": [
    "# Import the numpy package\n",
    "import numpy as np"
   ]
  },
  {
   "cell_type": "code",
   "execution_count": 11,
   "metadata": {},
   "outputs": [
    {
     "data": {
      "text/plain": [
       "0.5494196537358697"
      ]
     },
     "execution_count": 11,
     "metadata": {},
     "output_type": "execute_result"
    }
   ],
   "source": [
    "# Use the random function in numpy (  # Random float:  0.0 <= x < 1.0)\n",
    "np.random.rand()"
   ]
  },
  {
   "cell_type": "code",
   "execution_count": 10,
   "metadata": {},
   "outputs": [
    {
     "data": {
      "text/plain": [
       "array([[0.84920308, 0.36498684, 0.32061762, 0.53870806],\n",
       "       [0.17692157, 0.9393475 , 0.43894741, 0.3168346 ],\n",
       "       [0.02064503, 0.02571844, 0.72473613, 0.82102101]])"
      ]
     },
     "execution_count": 10,
     "metadata": {},
     "output_type": "execute_result"
    }
   ],
   "source": [
    "# Use a simple random function in numpy by setting values to create an array with 3 rows and 4 columns of random data.\n",
    "np.random.rand(3, 4)"
   ]
  },
  {
   "cell_type": "code",
   "execution_count": 13,
   "metadata": {},
   "outputs": [
    {
     "data": {
      "text/plain": [
       "array([[[0.76543044, 0.88532958, 0.41823159, 0.69591673, 0.03955615],\n",
       "        [0.54826296, 0.77945062, 0.29143076, 0.13689701, 0.33165336],\n",
       "        [0.40617935, 0.6837296 , 0.15354993, 0.3550244 , 0.664394  ],\n",
       "        [0.42351096, 0.12809097, 0.6593394 , 0.35520456, 0.90765768]],\n",
       "\n",
       "       [[0.23089892, 0.54948748, 0.16538508, 0.71705481, 0.7949639 ],\n",
       "        [0.16588265, 0.91959583, 0.08895381, 0.79328366, 0.00745484],\n",
       "        [0.07746707, 0.38800877, 0.11757479, 0.8249697 , 0.32115389],\n",
       "        [0.06134637, 0.33968987, 0.04397141, 0.79730144, 0.89980912]],\n",
       "\n",
       "       [[0.1834846 , 0.53848041, 0.63852182, 0.95843169, 0.56831069],\n",
       "        [0.24318898, 0.13176002, 0.2409484 , 0.97087578, 0.19076987],\n",
       "        [0.76234052, 0.05798567, 0.21435505, 0.84069302, 0.70210653],\n",
       "        [0.81172085, 0.74770495, 0.69600418, 0.90450648, 0.87552459]]])"
      ]
     },
     "execution_count": 13,
     "metadata": {},
     "output_type": "execute_result"
    }
   ],
   "source": [
    "# Use a simple random function in numpy by setting values to create an array with 3 sets of data with 4 rows in each and 5 columns of random data.\n",
    "\n",
    "np.random.rand(3, 4, 5)"
   ]
  },
  {
   "cell_type": "code",
   "execution_count": 14,
   "metadata": {},
   "outputs": [
    {
     "data": {
      "text/plain": [
       "array([[3.25912672, 3.86000573, 3.64816683, 3.03381164],\n",
       "       [3.30956289, 3.93256392, 3.02405371, 3.0050986 ],\n",
       "       [3.39671306, 3.22835336, 3.10635108, 3.98686132]])"
      ]
     },
     "execution_count": 14,
     "metadata": {},
     "output_type": "execute_result"
    }
   ],
   "source": [
    "np.random.rand(3, 4) + 3"
   ]
  },
  {
   "cell_type": "code",
   "execution_count": 18,
   "metadata": {},
   "outputs": [
    {
     "data": {
      "text/plain": [
       "array([3, 9, 1, 3, 4, 9, 6, 9, 4, 7, 1, 1, 6, 1, 4, 7, 2, 2, 8, 9])"
      ]
     },
     "execution_count": 18,
     "metadata": {},
     "output_type": "execute_result"
    }
   ],
   "source": [
    "# use a simple random function in numpy to list an array of integers:\n",
    "np.random.randint(0, 10, 20)"
   ]
  },
  {
   "cell_type": "code",
   "execution_count": 31,
   "metadata": {},
   "outputs": [
    {
     "data": {
      "text/plain": [
       "array([0.61750326, 0.29389352, 0.20851485])"
      ]
     },
     "execution_count": 31,
     "metadata": {},
     "output_type": "execute_result"
    }
   ],
   "source": [
    "# randn: n referring to the normal distribution.\n",
    "np.random.randn(3)"
   ]
  },
  {
   "cell_type": "code",
   "execution_count": 34,
   "metadata": {},
   "outputs": [
    {
     "data": {
      "text/plain": [
       "array([4, 2, 2, 4, 1, 0, 0, 2, 0, 0, 1, 2, 2, 3, 4, 3, 3, 0, 1, 3])"
      ]
     },
     "execution_count": 34,
     "metadata": {},
     "output_type": "execute_result"
    }
   ],
   "source": [
    "# Return random integers from low (inclusive) to high(exclusive).\n",
    "Return random integers from the “discrete uniform” distribution of the specified dtype in the “half-open” interval [low, high). If high is None (the default), then results are from [0, low).\n",
    "np.random.randint(5, size=20)"
   ]
  },
  {
   "cell_type": "code",
   "execution_count": 41,
   "metadata": {},
   "outputs": [
    {
     "data": {
      "text/plain": [
       "array([[0, 1, 4, 3],\n",
       "       [3, 3, 2, 4],\n",
       "       [3, 1, 2, 0],\n",
       "       [2, 0, 4, 1],\n",
       "       [2, 2, 1, 3]])"
      ]
     },
     "execution_count": 41,
     "metadata": {},
     "output_type": "execute_result"
    }
   ],
   "source": [
    "# Randint creating a 5 by 4 array of ints between 0 and 4: \n",
    "np.random.randint(5, size=(5, 4))"
   ]
  }
 ],
 "metadata": {
  "kernelspec": {
   "display_name": "Python 3",
   "language": "python",
   "name": "python3"
  },
  "language_info": {
   "codemirror_mode": {
    "name": "ipython",
    "version": 3
   },
   "file_extension": ".py",
   "mimetype": "text/x-python",
   "name": "python",
   "nbconvert_exporter": "python",
   "pygments_lexer": "ipython3",
   "version": "3.6.4"
  }
 },
 "nbformat": 4,
 "nbformat_minor": 2
}
